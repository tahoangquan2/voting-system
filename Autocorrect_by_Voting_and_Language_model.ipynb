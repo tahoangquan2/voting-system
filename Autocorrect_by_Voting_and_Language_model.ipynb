{
  "cells": [
    {
      "cell_type": "markdown",
      "metadata": {
        "id": "3bVqOa8MAD4D"
      },
      "source": [
        "#Install package"
      ]
    },
    {
      "cell_type": "code",
      "execution_count": 1,
      "metadata": {
        "colab": {
          "base_uri": "https://localhost:8080/"
        },
        "id": "k0KpyTgMWa_L",
        "outputId": "e6d8bffa-cc0b-41a2-9136-9a48a67f7c7f"
      },
      "outputs": [
        {
          "output_type": "stream",
          "name": "stdout",
          "text": [
            "Requirement already satisfied: torch in /usr/local/lib/python3.10/dist-packages (2.5.1+cu121)\n",
            "Requirement already satisfied: torchvision in /usr/local/lib/python3.10/dist-packages (0.20.1+cu121)\n",
            "Requirement already satisfied: torchaudio in /usr/local/lib/python3.10/dist-packages (2.5.1+cu121)\n",
            "Requirement already satisfied: filelock in /usr/local/lib/python3.10/dist-packages (from torch) (3.16.1)\n",
            "Requirement already satisfied: typing-extensions>=4.8.0 in /usr/local/lib/python3.10/dist-packages (from torch) (4.12.2)\n",
            "Requirement already satisfied: networkx in /usr/local/lib/python3.10/dist-packages (from torch) (3.4.2)\n",
            "Requirement already satisfied: jinja2 in /usr/local/lib/python3.10/dist-packages (from torch) (3.1.4)\n",
            "Requirement already satisfied: fsspec in /usr/local/lib/python3.10/dist-packages (from torch) (2024.10.0)\n",
            "Requirement already satisfied: sympy==1.13.1 in /usr/local/lib/python3.10/dist-packages (from torch) (1.13.1)\n",
            "Requirement already satisfied: mpmath<1.4,>=1.1.0 in /usr/local/lib/python3.10/dist-packages (from sympy==1.13.1->torch) (1.3.0)\n",
            "Requirement already satisfied: numpy in /usr/local/lib/python3.10/dist-packages (from torchvision) (1.26.4)\n",
            "Requirement already satisfied: pillow!=8.3.*,>=5.3.0 in /usr/local/lib/python3.10/dist-packages (from torchvision) (10.4.0)\n",
            "Requirement already satisfied: MarkupSafe>=2.0 in /usr/local/lib/python3.10/dist-packages (from jinja2->torch) (3.0.2)\n",
            "Requirement already satisfied: surya-ocr in /usr/local/lib/python3.10/dist-packages (0.8.3)\n",
            "Requirement already satisfied: filetype<2.0.0,>=1.2.0 in /usr/local/lib/python3.10/dist-packages (from surya-ocr) (1.2.0)\n",
            "Requirement already satisfied: ftfy<7.0.0,>=6.1.3 in /usr/local/lib/python3.10/dist-packages (from surya-ocr) (6.3.1)\n",
            "Requirement already satisfied: opencv-python<5.0.0.0,>=4.9.0.80 in /usr/local/lib/python3.10/dist-packages (from surya-ocr) (4.10.0.84)\n",
            "Requirement already satisfied: pdftext<0.5.0,>=0.4.1 in /usr/local/lib/python3.10/dist-packages (from surya-ocr) (0.4.1)\n",
            "Requirement already satisfied: pillow<11.0.0,>=10.2.0 in /usr/local/lib/python3.10/dist-packages (from surya-ocr) (10.4.0)\n",
            "Requirement already satisfied: pydantic<3.0.0,>=2.5.3 in /usr/local/lib/python3.10/dist-packages (from surya-ocr) (2.10.3)\n",
            "Requirement already satisfied: pydantic-settings<3.0.0,>=2.1.0 in /usr/local/lib/python3.10/dist-packages (from surya-ocr) (2.7.1)\n",
            "Requirement already satisfied: pypdfium2==4.30.0 in /usr/local/lib/python3.10/dist-packages (from surya-ocr) (4.30.0)\n",
            "Requirement already satisfied: python-dotenv<2.0.0,>=1.0.0 in /usr/local/lib/python3.10/dist-packages (from surya-ocr) (1.0.1)\n",
            "Requirement already satisfied: tabulate<0.10.0,>=0.9.0 in /usr/local/lib/python3.10/dist-packages (from surya-ocr) (0.9.0)\n",
            "Requirement already satisfied: torch<3.0.0,>=2.4.1 in /usr/local/lib/python3.10/dist-packages (from surya-ocr) (2.5.1+cu121)\n",
            "Requirement already satisfied: transformers<5.0.0,>=4.41.0 in /usr/local/lib/python3.10/dist-packages (from surya-ocr) (4.47.1)\n",
            "Requirement already satisfied: wcwidth in /usr/local/lib/python3.10/dist-packages (from ftfy<7.0.0,>=6.1.3->surya-ocr) (0.2.13)\n",
            "Requirement already satisfied: numpy>=1.21.2 in /usr/local/lib/python3.10/dist-packages (from opencv-python<5.0.0.0,>=4.9.0.80->surya-ocr) (1.26.4)\n",
            "Requirement already satisfied: annotated-types>=0.6.0 in /usr/local/lib/python3.10/dist-packages (from pydantic<3.0.0,>=2.5.3->surya-ocr) (0.7.0)\n",
            "Requirement already satisfied: pydantic-core==2.27.1 in /usr/local/lib/python3.10/dist-packages (from pydantic<3.0.0,>=2.5.3->surya-ocr) (2.27.1)\n",
            "Requirement already satisfied: typing-extensions>=4.12.2 in /usr/local/lib/python3.10/dist-packages (from pydantic<3.0.0,>=2.5.3->surya-ocr) (4.12.2)\n",
            "Requirement already satisfied: filelock in /usr/local/lib/python3.10/dist-packages (from torch<3.0.0,>=2.4.1->surya-ocr) (3.16.1)\n",
            "Requirement already satisfied: networkx in /usr/local/lib/python3.10/dist-packages (from torch<3.0.0,>=2.4.1->surya-ocr) (3.4.2)\n",
            "Requirement already satisfied: jinja2 in /usr/local/lib/python3.10/dist-packages (from torch<3.0.0,>=2.4.1->surya-ocr) (3.1.4)\n",
            "Requirement already satisfied: fsspec in /usr/local/lib/python3.10/dist-packages (from torch<3.0.0,>=2.4.1->surya-ocr) (2024.10.0)\n",
            "Requirement already satisfied: sympy==1.13.1 in /usr/local/lib/python3.10/dist-packages (from torch<3.0.0,>=2.4.1->surya-ocr) (1.13.1)\n",
            "Requirement already satisfied: mpmath<1.4,>=1.1.0 in /usr/local/lib/python3.10/dist-packages (from sympy==1.13.1->torch<3.0.0,>=2.4.1->surya-ocr) (1.3.0)\n",
            "Requirement already satisfied: huggingface-hub<1.0,>=0.24.0 in /usr/local/lib/python3.10/dist-packages (from transformers<5.0.0,>=4.41.0->surya-ocr) (0.27.0)\n",
            "Requirement already satisfied: packaging>=20.0 in /usr/local/lib/python3.10/dist-packages (from transformers<5.0.0,>=4.41.0->surya-ocr) (24.2)\n",
            "Requirement already satisfied: pyyaml>=5.1 in /usr/local/lib/python3.10/dist-packages (from transformers<5.0.0,>=4.41.0->surya-ocr) (6.0.2)\n",
            "Requirement already satisfied: regex!=2019.12.17 in /usr/local/lib/python3.10/dist-packages (from transformers<5.0.0,>=4.41.0->surya-ocr) (2024.11.6)\n",
            "Requirement already satisfied: requests in /usr/local/lib/python3.10/dist-packages (from transformers<5.0.0,>=4.41.0->surya-ocr) (2.32.3)\n",
            "Requirement already satisfied: tokenizers<0.22,>=0.21 in /usr/local/lib/python3.10/dist-packages (from transformers<5.0.0,>=4.41.0->surya-ocr) (0.21.0)\n",
            "Requirement already satisfied: safetensors>=0.4.1 in /usr/local/lib/python3.10/dist-packages (from transformers<5.0.0,>=4.41.0->surya-ocr) (0.4.5)\n",
            "Requirement already satisfied: tqdm>=4.27 in /usr/local/lib/python3.10/dist-packages (from transformers<5.0.0,>=4.41.0->surya-ocr) (4.67.1)\n",
            "Requirement already satisfied: MarkupSafe>=2.0 in /usr/local/lib/python3.10/dist-packages (from jinja2->torch<3.0.0,>=2.4.1->surya-ocr) (3.0.2)\n",
            "Requirement already satisfied: charset-normalizer<4,>=2 in /usr/local/lib/python3.10/dist-packages (from requests->transformers<5.0.0,>=4.41.0->surya-ocr) (3.4.0)\n",
            "Requirement already satisfied: idna<4,>=2.5 in /usr/local/lib/python3.10/dist-packages (from requests->transformers<5.0.0,>=4.41.0->surya-ocr) (3.10)\n",
            "Requirement already satisfied: urllib3<3,>=1.21.1 in /usr/local/lib/python3.10/dist-packages (from requests->transformers<5.0.0,>=4.41.0->surya-ocr) (2.2.3)\n",
            "Requirement already satisfied: certifi>=2017.4.17 in /usr/local/lib/python3.10/dist-packages (from requests->transformers<5.0.0,>=4.41.0->surya-ocr) (2024.12.14)\n",
            "Requirement already satisfied: paddlepaddle in /usr/local/lib/python3.10/dist-packages (2.6.2)\n",
            "Requirement already satisfied: paddleocr in /usr/local/lib/python3.10/dist-packages (2.9.1)\n",
            "Requirement already satisfied: openpyxl in /usr/local/lib/python3.10/dist-packages (3.1.5)\n",
            "Requirement already satisfied: httpx in /usr/local/lib/python3.10/dist-packages (from paddlepaddle) (0.28.1)\n",
            "Requirement already satisfied: numpy>=1.13 in /usr/local/lib/python3.10/dist-packages (from paddlepaddle) (1.26.4)\n",
            "Requirement already satisfied: Pillow in /usr/local/lib/python3.10/dist-packages (from paddlepaddle) (10.4.0)\n",
            "Requirement already satisfied: decorator in /usr/local/lib/python3.10/dist-packages (from paddlepaddle) (4.4.2)\n",
            "Requirement already satisfied: astor in /usr/local/lib/python3.10/dist-packages (from paddlepaddle) (0.8.1)\n",
            "Requirement already satisfied: opt-einsum==3.3.0 in /usr/local/lib/python3.10/dist-packages (from paddlepaddle) (3.3.0)\n",
            "Requirement already satisfied: protobuf>=3.20.2 in /usr/local/lib/python3.10/dist-packages (from paddlepaddle) (4.25.5)\n",
            "Requirement already satisfied: shapely in /usr/local/lib/python3.10/dist-packages (from paddleocr) (2.0.6)\n",
            "Requirement already satisfied: scikit-image in /usr/local/lib/python3.10/dist-packages (from paddleocr) (0.25.0)\n",
            "Requirement already satisfied: imgaug in /usr/local/lib/python3.10/dist-packages (from paddleocr) (0.4.0)\n",
            "Requirement already satisfied: pyclipper in /usr/local/lib/python3.10/dist-packages (from paddleocr) (1.3.0.post6)\n",
            "Requirement already satisfied: lmdb in /usr/local/lib/python3.10/dist-packages (from paddleocr) (1.5.1)\n",
            "Requirement already satisfied: tqdm in /usr/local/lib/python3.10/dist-packages (from paddleocr) (4.67.1)\n",
            "Requirement already satisfied: rapidfuzz in /usr/local/lib/python3.10/dist-packages (from paddleocr) (3.11.0)\n",
            "Requirement already satisfied: opencv-python in /usr/local/lib/python3.10/dist-packages (from paddleocr) (4.10.0.84)\n",
            "Requirement already satisfied: opencv-contrib-python in /usr/local/lib/python3.10/dist-packages (from paddleocr) (4.10.0.84)\n",
            "Requirement already satisfied: cython in /usr/local/lib/python3.10/dist-packages (from paddleocr) (3.0.11)\n",
            "Requirement already satisfied: pyyaml in /usr/local/lib/python3.10/dist-packages (from paddleocr) (6.0.2)\n",
            "Requirement already satisfied: python-docx in /usr/local/lib/python3.10/dist-packages (from paddleocr) (1.1.2)\n",
            "Requirement already satisfied: beautifulsoup4 in /usr/local/lib/python3.10/dist-packages (from paddleocr) (4.12.3)\n",
            "Requirement already satisfied: fonttools>=4.24.0 in /usr/local/lib/python3.10/dist-packages (from paddleocr) (4.55.3)\n",
            "Requirement already satisfied: fire>=0.3.0 in /usr/local/lib/python3.10/dist-packages (from paddleocr) (0.7.0)\n",
            "Requirement already satisfied: requests in /usr/local/lib/python3.10/dist-packages (from paddleocr) (2.32.3)\n",
            "Requirement already satisfied: albumentations==1.4.10 in /usr/local/lib/python3.10/dist-packages (from paddleocr) (1.4.10)\n",
            "Requirement already satisfied: albucore==0.0.13 in /usr/local/lib/python3.10/dist-packages (from paddleocr) (0.0.13)\n",
            "Requirement already satisfied: tomli>=2.0.1 in /usr/local/lib/python3.10/dist-packages (from albucore==0.0.13->paddleocr) (2.2.1)\n",
            "Requirement already satisfied: typing-extensions>=4.9.0 in /usr/local/lib/python3.10/dist-packages (from albucore==0.0.13->paddleocr) (4.12.2)\n",
            "Requirement already satisfied: opencv-python-headless>=4.9.0.80 in /usr/local/lib/python3.10/dist-packages (from albucore==0.0.13->paddleocr) (4.10.0.84)\n",
            "Requirement already satisfied: scipy>=1.10.0 in /usr/local/lib/python3.10/dist-packages (from albumentations==1.4.10->paddleocr) (1.13.1)\n",
            "Requirement already satisfied: scikit-learn>=1.3.2 in /usr/local/lib/python3.10/dist-packages (from albumentations==1.4.10->paddleocr) (1.6.0)\n",
            "Requirement already satisfied: pydantic>=2.7.0 in /usr/local/lib/python3.10/dist-packages (from albumentations==1.4.10->paddleocr) (2.10.3)\n",
            "Requirement already satisfied: et-xmlfile in /usr/local/lib/python3.10/dist-packages (from openpyxl) (2.0.0)\n",
            "Requirement already satisfied: termcolor in /usr/local/lib/python3.10/dist-packages (from fire>=0.3.0->paddleocr) (2.5.0)\n",
            "Requirement already satisfied: networkx>=3.0 in /usr/local/lib/python3.10/dist-packages (from scikit-image->paddleocr) (3.4.2)\n",
            "Requirement already satisfied: imageio!=2.35.0,>=2.33 in /usr/local/lib/python3.10/dist-packages (from scikit-image->paddleocr) (2.36.1)\n",
            "Requirement already satisfied: tifffile>=2022.8.12 in /usr/local/lib/python3.10/dist-packages (from scikit-image->paddleocr) (2024.12.12)\n",
            "Requirement already satisfied: packaging>=21 in /usr/local/lib/python3.10/dist-packages (from scikit-image->paddleocr) (24.2)\n",
            "Requirement already satisfied: lazy-loader>=0.4 in /usr/local/lib/python3.10/dist-packages (from scikit-image->paddleocr) (0.4)\n",
            "Requirement already satisfied: soupsieve>1.2 in /usr/local/lib/python3.10/dist-packages (from beautifulsoup4->paddleocr) (2.6)\n",
            "Requirement already satisfied: anyio in /usr/local/lib/python3.10/dist-packages (from httpx->paddlepaddle) (3.7.1)\n",
            "Requirement already satisfied: certifi in /usr/local/lib/python3.10/dist-packages (from httpx->paddlepaddle) (2024.12.14)\n",
            "Requirement already satisfied: httpcore==1.* in /usr/local/lib/python3.10/dist-packages (from httpx->paddlepaddle) (1.0.7)\n",
            "Requirement already satisfied: idna in /usr/local/lib/python3.10/dist-packages (from httpx->paddlepaddle) (3.10)\n",
            "Requirement already satisfied: h11<0.15,>=0.13 in /usr/local/lib/python3.10/dist-packages (from httpcore==1.*->httpx->paddlepaddle) (0.14.0)\n",
            "Requirement already satisfied: six in /usr/local/lib/python3.10/dist-packages (from imgaug->paddleocr) (1.17.0)\n",
            "Requirement already satisfied: matplotlib in /usr/local/lib/python3.10/dist-packages (from imgaug->paddleocr) (3.8.0)\n",
            "Requirement already satisfied: lxml>=3.1.0 in /usr/local/lib/python3.10/dist-packages (from python-docx->paddleocr) (5.3.0)\n",
            "Requirement already satisfied: charset-normalizer<4,>=2 in /usr/local/lib/python3.10/dist-packages (from requests->paddleocr) (3.4.0)\n",
            "Requirement already satisfied: urllib3<3,>=1.21.1 in /usr/local/lib/python3.10/dist-packages (from requests->paddleocr) (2.2.3)\n",
            "Requirement already satisfied: annotated-types>=0.6.0 in /usr/local/lib/python3.10/dist-packages (from pydantic>=2.7.0->albumentations==1.4.10->paddleocr) (0.7.0)\n",
            "Requirement already satisfied: pydantic-core==2.27.1 in /usr/local/lib/python3.10/dist-packages (from pydantic>=2.7.0->albumentations==1.4.10->paddleocr) (2.27.1)\n",
            "Requirement already satisfied: joblib>=1.2.0 in /usr/local/lib/python3.10/dist-packages (from scikit-learn>=1.3.2->albumentations==1.4.10->paddleocr) (1.4.2)\n",
            "Requirement already satisfied: threadpoolctl>=3.1.0 in /usr/local/lib/python3.10/dist-packages (from scikit-learn>=1.3.2->albumentations==1.4.10->paddleocr) (3.5.0)\n",
            "Requirement already satisfied: sniffio>=1.1 in /usr/local/lib/python3.10/dist-packages (from anyio->httpx->paddlepaddle) (1.3.1)\n",
            "Requirement already satisfied: exceptiongroup in /usr/local/lib/python3.10/dist-packages (from anyio->httpx->paddlepaddle) (1.2.2)\n",
            "Requirement already satisfied: contourpy>=1.0.1 in /usr/local/lib/python3.10/dist-packages (from matplotlib->imgaug->paddleocr) (1.3.1)\n",
            "Requirement already satisfied: cycler>=0.10 in /usr/local/lib/python3.10/dist-packages (from matplotlib->imgaug->paddleocr) (0.12.1)\n",
            "Requirement already satisfied: kiwisolver>=1.0.1 in /usr/local/lib/python3.10/dist-packages (from matplotlib->imgaug->paddleocr) (1.4.7)\n",
            "Requirement already satisfied: pyparsing>=2.3.1 in /usr/local/lib/python3.10/dist-packages (from matplotlib->imgaug->paddleocr) (3.2.0)\n",
            "Requirement already satisfied: python-dateutil>=2.7 in /usr/local/lib/python3.10/dist-packages (from matplotlib->imgaug->paddleocr) (2.8.2)\n",
            "Requirement already satisfied: shapely in /usr/local/lib/python3.10/dist-packages (2.0.6)\n",
            "Requirement already satisfied: numpy<3,>=1.14 in /usr/local/lib/python3.10/dist-packages (from shapely) (1.26.4)\n",
            "Requirement already satisfied: easyocr in /usr/local/lib/python3.10/dist-packages (1.7.2)\n",
            "Requirement already satisfied: torch in /usr/local/lib/python3.10/dist-packages (from easyocr) (2.5.1+cu121)\n",
            "Requirement already satisfied: torchvision>=0.5 in /usr/local/lib/python3.10/dist-packages (from easyocr) (0.20.1+cu121)\n",
            "Requirement already satisfied: opencv-python-headless in /usr/local/lib/python3.10/dist-packages (from easyocr) (4.10.0.84)\n",
            "Requirement already satisfied: scipy in /usr/local/lib/python3.10/dist-packages (from easyocr) (1.13.1)\n",
            "Requirement already satisfied: numpy in /usr/local/lib/python3.10/dist-packages (from easyocr) (1.26.4)\n",
            "Requirement already satisfied: Pillow in /usr/local/lib/python3.10/dist-packages (from easyocr) (10.4.0)\n",
            "Requirement already satisfied: scikit-image in /usr/local/lib/python3.10/dist-packages (from easyocr) (0.25.0)\n",
            "Requirement already satisfied: python-bidi in /usr/local/lib/python3.10/dist-packages (from easyocr) (0.6.3)\n",
            "Requirement already satisfied: PyYAML in /usr/local/lib/python3.10/dist-packages (from easyocr) (6.0.2)\n",
            "Requirement already satisfied: Shapely in /usr/local/lib/python3.10/dist-packages (from easyocr) (2.0.6)\n",
            "Requirement already satisfied: pyclipper in /usr/local/lib/python3.10/dist-packages (from easyocr) (1.3.0.post6)\n",
            "Requirement already satisfied: ninja in /usr/local/lib/python3.10/dist-packages (from easyocr) (1.11.1.3)\n",
            "Requirement already satisfied: filelock in /usr/local/lib/python3.10/dist-packages (from torch->easyocr) (3.16.1)\n",
            "Requirement already satisfied: typing-extensions>=4.8.0 in /usr/local/lib/python3.10/dist-packages (from torch->easyocr) (4.12.2)\n",
            "Requirement already satisfied: networkx in /usr/local/lib/python3.10/dist-packages (from torch->easyocr) (3.4.2)\n",
            "Requirement already satisfied: jinja2 in /usr/local/lib/python3.10/dist-packages (from torch->easyocr) (3.1.4)\n",
            "Requirement already satisfied: fsspec in /usr/local/lib/python3.10/dist-packages (from torch->easyocr) (2024.10.0)\n",
            "Requirement already satisfied: sympy==1.13.1 in /usr/local/lib/python3.10/dist-packages (from torch->easyocr) (1.13.1)\n",
            "Requirement already satisfied: mpmath<1.4,>=1.1.0 in /usr/local/lib/python3.10/dist-packages (from sympy==1.13.1->torch->easyocr) (1.3.0)\n",
            "Requirement already satisfied: imageio!=2.35.0,>=2.33 in /usr/local/lib/python3.10/dist-packages (from scikit-image->easyocr) (2.36.1)\n",
            "Requirement already satisfied: tifffile>=2022.8.12 in /usr/local/lib/python3.10/dist-packages (from scikit-image->easyocr) (2024.12.12)\n",
            "Requirement already satisfied: packaging>=21 in /usr/local/lib/python3.10/dist-packages (from scikit-image->easyocr) (24.2)\n",
            "Requirement already satisfied: lazy-loader>=0.4 in /usr/local/lib/python3.10/dist-packages (from scikit-image->easyocr) (0.4)\n",
            "Requirement already satisfied: MarkupSafe>=2.0 in /usr/local/lib/python3.10/dist-packages (from jinja2->torch->easyocr) (3.0.2)\n"
          ]
        }
      ],
      "source": [
        "!pip install torch torchvision torchaudio\n",
        "!pip install surya-ocr\n",
        "!pip install paddlepaddle paddleocr openpyxl\n",
        "!pip install shapely\n",
        "!pip install easyocr"
      ]
    },
    {
      "cell_type": "markdown",
      "metadata": {
        "id": "fk8lSQhy6rvX"
      },
      "source": [
        "#Initialize image path and output path\n"
      ]
    },
    {
      "cell_type": "code",
      "source": [
        "!git clone https://github.com/tahoangquan2/voting-system.git"
      ],
      "metadata": {
        "colab": {
          "base_uri": "https://localhost:8080/"
        },
        "id": "_Ipdzku-892G",
        "outputId": "4995de8a-3bb5-4cd1-da43-723727e45f99"
      },
      "execution_count": 7,
      "outputs": [
        {
          "output_type": "stream",
          "name": "stdout",
          "text": [
            "Cloning into 'voting-system'...\n",
            "remote: Enumerating objects: 2532, done.\u001b[K\n",
            "remote: Counting objects: 100% (609/609), done.\u001b[K\n",
            "remote: Compressing objects: 100% (441/441), done.\u001b[K\n",
            "remote: Total 2532 (delta 171), reused 590 (delta 152), pack-reused 1923 (from 1)\u001b[K\n",
            "Receiving objects: 100% (2532/2532), 68.52 MiB | 23.34 MiB/s, done.\n",
            "Resolving deltas: 100% (219/219), done.\n"
          ]
        }
      ]
    },
    {
      "cell_type": "code",
      "execution_count": 3,
      "metadata": {
        "id": "kaCP_AJs6q7L"
      },
      "outputs": [],
      "source": [
        "import os\n",
        "image_folder = '/content/voting-system/input'\n",
        "output_folder= '/content/voting-system/output'\n",
        "# os.makedirs(output_folder, exist_ok=True)"
      ]
    },
    {
      "cell_type": "markdown",
      "metadata": {
        "id": "Q43AbybU3q3-"
      },
      "source": [
        "#Collect PaddleOCR Model"
      ]
    },
    {
      "cell_type": "code",
      "execution_count": 4,
      "metadata": {
        "id": "lStwkdQz6hhd"
      },
      "outputs": [],
      "source": [
        "\n",
        "from paddleocr import PaddleOCR, draw_ocr\n",
        "import os\n",
        "import pandas as pd"
      ]
    },
    {
      "cell_type": "code",
      "execution_count": 5,
      "metadata": {
        "colab": {
          "base_uri": "https://localhost:8080/"
        },
        "id": "AvCJ4gb-61f0",
        "outputId": "aa151a74-7924-49ef-eee6-dfd865be27fd"
      },
      "outputs": [
        {
          "output_type": "stream",
          "name": "stdout",
          "text": [
            "download https://paddleocr.bj.bcebos.com/PP-OCRv3/english/en_PP-OCRv3_det_infer.tar to /root/.paddleocr/whl/det/en/en_PP-OCRv3_det_infer/en_PP-OCRv3_det_infer.tar\n"
          ]
        },
        {
          "output_type": "stream",
          "name": "stderr",
          "text": [
            "100%|██████████| 3910/3910 [00:16<00:00, 233.59it/s] \n"
          ]
        },
        {
          "output_type": "stream",
          "name": "stdout",
          "text": [
            "download https://paddleocr.bj.bcebos.com/PP-OCRv4/english/en_PP-OCRv4_rec_infer.tar to /root/.paddleocr/whl/rec/en/en_PP-OCRv4_rec_infer/en_PP-OCRv4_rec_infer.tar\n"
          ]
        },
        {
          "output_type": "stream",
          "name": "stderr",
          "text": [
            "100%|██████████| 10000/10000 [00:13<00:00, 737.98it/s]\n"
          ]
        },
        {
          "output_type": "stream",
          "name": "stdout",
          "text": [
            "download https://paddleocr.bj.bcebos.com/dygraph_v2.0/ch/ch_ppocr_mobile_v2.0_cls_infer.tar to /root/.paddleocr/whl/cls/ch_ppocr_mobile_v2.0_cls_infer/ch_ppocr_mobile_v2.0_cls_infer.tar\n"
          ]
        },
        {
          "output_type": "stream",
          "name": "stderr",
          "text": [
            "100%|██████████| 2138/2138 [00:15<00:00, 140.73it/s]\n"
          ]
        },
        {
          "output_type": "stream",
          "name": "stdout",
          "text": [
            "[2025/01/01 03:39:57] ppocr DEBUG: Namespace(help='==SUPPRESS==', use_gpu=False, use_xpu=False, use_npu=False, use_mlu=False, ir_optim=True, use_tensorrt=False, min_subgraph_size=15, precision='fp32', gpu_mem=500, gpu_id=0, image_dir=None, page_num=0, det_algorithm='DB', det_model_dir='/root/.paddleocr/whl/det/en/en_PP-OCRv3_det_infer', det_limit_side_len=960, det_limit_type='max', det_box_type='quad', det_db_thresh=0.3, det_db_box_thresh=0.6, det_db_unclip_ratio=1.5, max_batch_size=10, use_dilation=False, det_db_score_mode='fast', det_east_score_thresh=0.8, det_east_cover_thresh=0.1, det_east_nms_thresh=0.2, det_sast_score_thresh=0.5, det_sast_nms_thresh=0.2, det_pse_thresh=0, det_pse_box_thresh=0.85, det_pse_min_area=16, det_pse_scale=1, scales=[8, 16, 32], alpha=1.0, beta=1.0, fourier_degree=5, rec_algorithm='SVTR_LCNet', rec_model_dir='/root/.paddleocr/whl/rec/en/en_PP-OCRv4_rec_infer', rec_image_inverse=True, rec_image_shape='3, 48, 320', rec_batch_num=6, max_text_length=25, rec_char_dict_path='/usr/local/lib/python3.10/dist-packages/paddleocr/ppocr/utils/en_dict.txt', use_space_char=True, vis_font_path='./doc/fonts/simfang.ttf', drop_score=0.5, e2e_algorithm='PGNet', e2e_model_dir=None, e2e_limit_side_len=768, e2e_limit_type='max', e2e_pgnet_score_thresh=0.5, e2e_char_dict_path='./ppocr/utils/ic15_dict.txt', e2e_pgnet_valid_set='totaltext', e2e_pgnet_mode='fast', use_angle_cls=True, cls_model_dir='/root/.paddleocr/whl/cls/ch_ppocr_mobile_v2.0_cls_infer', cls_image_shape='3, 48, 192', label_list=['0', '180'], cls_batch_num=6, cls_thresh=0.9, enable_mkldnn=False, cpu_threads=10, use_pdserving=False, warmup=False, sr_model_dir=None, sr_image_shape='3, 32, 128', sr_batch_num=1, draw_img_save_dir='./inference_results', save_crop_res=False, crop_res_save_dir='./output', use_mp=False, total_process_num=1, process_id=0, benchmark=False, save_log_path='./log_output/', show_log=True, use_onnx=False, return_word_box=False, output='./output', table_max_len=488, table_algorithm='TableAttn', table_model_dir=None, merge_no_span_structure=True, table_char_dict_path=None, formula_algorithm='LaTeXOCR', formula_model_dir=None, formula_char_dict_path=None, formula_batch_num=1, layout_model_dir=None, layout_dict_path=None, layout_score_threshold=0.5, layout_nms_threshold=0.5, kie_algorithm='LayoutXLM', ser_model_dir=None, re_model_dir=None, use_visual_backbone=True, ser_dict_path='../train_data/XFUND/class_list_xfun.txt', ocr_order_method=None, mode='structure', image_orientation=False, layout=True, table=True, formula=False, ocr=True, recovery=False, recovery_to_markdown=False, use_pdf2docx_api=False, invert=False, binarize=False, alphacolor=(255, 255, 255), lang='en', det=True, rec=True, type='ocr', savefile=False, ocr_version='PP-OCRv4', structure_version='PP-StructureV2')\n"
          ]
        }
      ],
      "source": [
        "# Initialize the PaddleOCR detector\n",
        "ocr = PaddleOCR(use_angle_cls=True, lang='en', use_gpu = True)  # Adjust language as needed\n"
      ]
    },
    {
      "cell_type": "code",
      "execution_count": 8,
      "metadata": {
        "colab": {
          "base_uri": "https://localhost:8080/"
        },
        "id": "h9QOPqX362Qi",
        "outputId": "3966574d-d4c4-48c2-c4aa-fc14bf4e69b4"
      },
      "outputs": [
        {
          "output_type": "stream",
          "name": "stdout",
          "text": [
            "[2025/01/01 03:41:22] ppocr DEBUG: dt_boxes num : 33, elapsed : 0.3530430793762207\n",
            "[2025/01/01 03:41:31] ppocr DEBUG: rec_res num  : 33, elapsed : 9.209418535232544\n",
            "[2025/01/01 03:41:31] ppocr DEBUG: dt_boxes num : 22, elapsed : 0.2306687831878662\n",
            "[2025/01/01 03:41:35] ppocr DEBUG: rec_res num  : 22, elapsed : 3.4255430698394775\n",
            "[2025/01/01 03:41:35] ppocr DEBUG: dt_boxes num : 34, elapsed : 0.23299074172973633\n",
            "[2025/01/01 03:41:41] ppocr DEBUG: rec_res num  : 34, elapsed : 5.932956695556641\n"
          ]
        }
      ],
      "source": [
        "# List and sort images based on extracted page number\n",
        "images_files = [f for f in os.listdir(image_folder) if f.lower().endswith(('.jpeg', '.jpg', '.png', '.bmp'))]\n",
        "\n",
        "\n",
        "# Process images and save results\n",
        "results = []\n",
        "\n",
        "for idx, image_name in enumerate(images_files):\n",
        "    image_path = os.path.join(image_folder, image_name)\n",
        "\n",
        "    # Perform OCR detection\n",
        "    ocr_result = ocr.ocr(image_path, cls=False)\n",
        "\n",
        "    if ocr_result[0]:\n",
        "    # Collect bounding box data and confidence\n",
        "      for line in ocr_result[0]:\n",
        "          box = line[0]  # Bounding box coordinates\n",
        "          confidence = line[1][1]  # Confidence score\n",
        "          results.append({\n",
        "              \"Page Number\": idx + 1,\n",
        "              \"Bounding box\": box,\n",
        "              \"Confidence\": confidence  # Add confidence score\n",
        "          })\n",
        "\n",
        "# Convert results to a DataFrame\n",
        "Paddledf = pd.DataFrame(results)"
      ]
    },
    {
      "cell_type": "markdown",
      "metadata": {
        "id": "ysA6O2EM3zcq"
      },
      "source": [
        "#Collect VietOCR Model"
      ]
    },
    {
      "cell_type": "code",
      "execution_count": 9,
      "metadata": {
        "colab": {
          "base_uri": "https://localhost:8080/"
        },
        "id": "AM8sMD3c8Q8E",
        "outputId": "3d750007-f7e5-46c0-b9cb-261dca5a53aa"
      },
      "outputs": [
        {
          "output_type": "stream",
          "name": "stdout",
          "text": [
            "/content/voting-system/vietnamese-ocr\n"
          ]
        }
      ],
      "source": [
        "cd '/content/voting-system/vietnamese-ocr'"
      ]
    },
    {
      "cell_type": "code",
      "execution_count": 10,
      "metadata": {
        "colab": {
          "base_uri": "https://localhost:8080/",
          "height": 36
        },
        "id": "Qn4xGo1pZpNx",
        "outputId": "ddfb0faf-8f16-43c3-dba8-e7fc10f80cac"
      },
      "outputs": [
        {
          "output_type": "execute_result",
          "data": {
            "text/plain": [
              "'/content/voting-system/vietnamese-ocr'"
            ],
            "application/vnd.google.colaboratory.intrinsic+json": {
              "type": "string"
            }
          },
          "metadata": {},
          "execution_count": 10
        }
      ],
      "source": [
        "pwd"
      ]
    },
    {
      "cell_type": "code",
      "execution_count": 11,
      "metadata": {
        "colab": {
          "base_uri": "https://localhost:8080/"
        },
        "id": "2FlioUZj8hMs",
        "outputId": "b9f025bb-d6e7-42a9-fc83-13d33b66a2e8"
      },
      "outputs": [
        {
          "output_type": "stream",
          "name": "stdout",
          "text": [
            "Collecting einops==0.2.0 (from -r /content/voting-system/vietnamese-ocr/requirement.txt (line 1))\n",
            "  Downloading einops-0.2.0-py2.py3-none-any.whl.metadata (8.7 kB)\n",
            "Requirement already satisfied: paddlepaddle in /usr/local/lib/python3.10/dist-packages (from -r /content/voting-system/vietnamese-ocr/requirement.txt (line 2)) (2.6.2)\n",
            "Requirement already satisfied: pyclipper in /usr/local/lib/python3.10/dist-packages (from -r /content/voting-system/vietnamese-ocr/requirement.txt (line 3)) (1.3.0.post6)\n",
            "Requirement already satisfied: lmdb in /usr/local/lib/python3.10/dist-packages (from -r /content/voting-system/vietnamese-ocr/requirement.txt (line 4)) (1.5.1)\n",
            "Requirement already satisfied: httpx in /usr/local/lib/python3.10/dist-packages (from paddlepaddle->-r /content/voting-system/vietnamese-ocr/requirement.txt (line 2)) (0.28.1)\n",
            "Requirement already satisfied: numpy>=1.13 in /usr/local/lib/python3.10/dist-packages (from paddlepaddle->-r /content/voting-system/vietnamese-ocr/requirement.txt (line 2)) (1.26.4)\n",
            "Requirement already satisfied: Pillow in /usr/local/lib/python3.10/dist-packages (from paddlepaddle->-r /content/voting-system/vietnamese-ocr/requirement.txt (line 2)) (10.4.0)\n",
            "Requirement already satisfied: decorator in /usr/local/lib/python3.10/dist-packages (from paddlepaddle->-r /content/voting-system/vietnamese-ocr/requirement.txt (line 2)) (4.4.2)\n",
            "Requirement already satisfied: astor in /usr/local/lib/python3.10/dist-packages (from paddlepaddle->-r /content/voting-system/vietnamese-ocr/requirement.txt (line 2)) (0.8.1)\n",
            "Requirement already satisfied: opt-einsum==3.3.0 in /usr/local/lib/python3.10/dist-packages (from paddlepaddle->-r /content/voting-system/vietnamese-ocr/requirement.txt (line 2)) (3.3.0)\n",
            "Requirement already satisfied: protobuf>=3.20.2 in /usr/local/lib/python3.10/dist-packages (from paddlepaddle->-r /content/voting-system/vietnamese-ocr/requirement.txt (line 2)) (4.25.5)\n",
            "Requirement already satisfied: anyio in /usr/local/lib/python3.10/dist-packages (from httpx->paddlepaddle->-r /content/voting-system/vietnamese-ocr/requirement.txt (line 2)) (3.7.1)\n",
            "Requirement already satisfied: certifi in /usr/local/lib/python3.10/dist-packages (from httpx->paddlepaddle->-r /content/voting-system/vietnamese-ocr/requirement.txt (line 2)) (2024.12.14)\n",
            "Requirement already satisfied: httpcore==1.* in /usr/local/lib/python3.10/dist-packages (from httpx->paddlepaddle->-r /content/voting-system/vietnamese-ocr/requirement.txt (line 2)) (1.0.7)\n",
            "Requirement already satisfied: idna in /usr/local/lib/python3.10/dist-packages (from httpx->paddlepaddle->-r /content/voting-system/vietnamese-ocr/requirement.txt (line 2)) (3.10)\n",
            "Requirement already satisfied: h11<0.15,>=0.13 in /usr/local/lib/python3.10/dist-packages (from httpcore==1.*->httpx->paddlepaddle->-r /content/voting-system/vietnamese-ocr/requirement.txt (line 2)) (0.14.0)\n",
            "Requirement already satisfied: sniffio>=1.1 in /usr/local/lib/python3.10/dist-packages (from anyio->httpx->paddlepaddle->-r /content/voting-system/vietnamese-ocr/requirement.txt (line 2)) (1.3.1)\n",
            "Requirement already satisfied: exceptiongroup in /usr/local/lib/python3.10/dist-packages (from anyio->httpx->paddlepaddle->-r /content/voting-system/vietnamese-ocr/requirement.txt (line 2)) (1.2.2)\n",
            "Downloading einops-0.2.0-py2.py3-none-any.whl (18 kB)\n",
            "Installing collected packages: einops\n",
            "  Attempting uninstall: einops\n",
            "    Found existing installation: einops 0.8.0\n",
            "    Uninstalling einops-0.8.0:\n",
            "      Successfully uninstalled einops-0.8.0\n",
            "Successfully installed einops-0.2.0\n"
          ]
        }
      ],
      "source": [
        "!pip install -r /content/voting-system/vietnamese-ocr/requirement.txt"
      ]
    },
    {
      "cell_type": "code",
      "execution_count": 12,
      "metadata": {
        "id": "1Chl28Fr8koJ"
      },
      "outputs": [],
      "source": [
        "import os\n",
        "import cv2\n",
        "import matplotlib.pyplot as plt\n",
        "from PIL import Image\n",
        "\n",
        "# from PaddleOCR import PaddleOCR, draw_ocr\n",
        "\n",
        "\n",
        "# Now import modules\n",
        "from vietocr.vietocr.tool.predictor import Predictor\n",
        "from vietocr.vietocr.tool.config import Cfg"
      ]
    },
    {
      "cell_type": "code",
      "execution_count": 13,
      "metadata": {
        "colab": {
          "base_uri": "https://localhost:8080/"
        },
        "id": "lJIHxb9r8r7F",
        "outputId": "1a4ad179-92be-418b-b8f6-c92e71a471da"
      },
      "outputs": [
        {
          "output_type": "stream",
          "name": "stderr",
          "text": [
            "Downloading: \"https://download.pytorch.org/models/vgg19_bn-c79401a0.pth\" to /root/.cache/torch/hub/checkpoints/vgg19_bn-c79401a0.pth\n",
            "100%|██████████| 548M/548M [00:09<00:00, 62.9MB/s]\n",
            "18533it [00:08, 2103.93it/s]\n"
          ]
        }
      ],
      "source": [
        "# Configure of VietOCR\n",
        "config = Cfg.load_config_from_name('vgg_transformer')\n",
        "# config = Cfg.load_config_from_file('vietocr/config.yml')\n",
        "# config['weights'] = '/Users/bmd1905/Desktop/pretrain_ocr/vi00_vi01_transformer.pth'\n",
        "\n",
        "config['cnn']['pretrained'] = True\n",
        "config['predictor']['beamsearch'] = True\n",
        "config['device'] = 'cuda:0' # mps\n",
        "\n",
        "VietOCRrecognitor = Predictor(config)\n",
        "\n",
        "# Example Usage\n",
        "# img = cv2.imread(img_path)\n",
        "# img = Image.fromarray(img)\n",
        "# rec_result = VietOCRrecognitor.predict(img)"
      ]
    },
    {
      "cell_type": "code",
      "execution_count": 14,
      "metadata": {
        "colab": {
          "base_uri": "https://localhost:8080/"
        },
        "id": "ZTR956luCCuO",
        "outputId": "ea03e9a4-b80e-4bb1-d4cc-1c030c7452d0"
      },
      "outputs": [
        {
          "output_type": "stream",
          "name": "stdout",
          "text": [
            "/content/voting-system\n"
          ]
        }
      ],
      "source": [
        "%cd ../"
      ]
    },
    {
      "cell_type": "markdown",
      "metadata": {
        "id": "ZEt_oXki34qF"
      },
      "source": [
        "#Collect Surya Model"
      ]
    },
    {
      "cell_type": "code",
      "execution_count": 15,
      "metadata": {
        "colab": {
          "base_uri": "https://localhost:8080/",
          "height": 276,
          "referenced_widgets": [
            "53c6711ebb0e4d49aa920ca099bfeada",
            "3ddb9943bf9f4d57b24fb0a9bb7b423b",
            "2946f155b66c49d78ea5448e22ce5e50",
            "b41499cc099c43f1bbbe1e9af53b8987",
            "a9313959e3504f38b17d66c66b42945b",
            "18bab88ffe724e098cce8462bf523c76",
            "b99913a49bca402cb2c6be64de4cffe3",
            "fb95849e49714c549f49adb4d4bfa566",
            "932b684e4c8049c4987c249f65d1f98c",
            "8858a35dec294b9a99bcf1dea78be59b",
            "73d2c3c0f7084ec2ba6498a98c017fa7",
            "8c73cdef890d48a09a87e3f7f4f30fea",
            "382c6ccbfdbb4c0a9d4d541eb0fdd264",
            "5a709ce08a334819b979b21f8d645da2",
            "ce3a4a16f4cb46c0a2ea302451aa3566",
            "fc43ea10c8264efb8d4e92eb6f7afe85",
            "bf6b0edc0df74895a95dd284fac14157",
            "981376d0730c4726814effca530dcd4e",
            "0d88619d98af42b09378d1f8b983c84c",
            "f729b52843274d4d9d07f3f41768d753",
            "088f61b832744758bcf7e74c4eaff5dc",
            "7fde6057ed684b549a1143df6492edf4",
            "b30eeca6655345a0aa41a46ec38c93c3",
            "076695459cdb4c529e8c5de5544651dd",
            "b7fddddf711841c1b5d07ac65c6772bd",
            "bd409253fc6749fe911d93710f955ac7",
            "65a0bea393c94ce9943c46947acf9325",
            "196ba6150fd146a3aa116fff39a88dae",
            "40929ab72a1c4eb6aba2f21141a3bd10",
            "b427e30f6c3e4795a43dfa0827bb7b23",
            "a131ae78375b4741ba3e4e0cab7ec3d0",
            "8b0966752d854209bf6d2ecf17c86f81",
            "ff0f0c8974e04696ab59dbc64d1169bd",
            "2f789555bd1d46f5bc1c5b6b51833669",
            "7afa4806960440bbbc51d2ba09efb8b5",
            "7dd653e260b54fb3b03aacbe2b1aa05c",
            "632c1a873dd84701abc058ca545f3bdc",
            "9249ae1d0e8a4da29d7ac006580ace25",
            "c1d10bf91ea948a0b77e4c7598169f87",
            "13f7d128d954410ba4eb03ec2632faae",
            "6b631fc183cb4d14897b46a785a0dc6d",
            "cd5a4a9010b942ddaa935d6f4e341a56",
            "caf46e3f18cb41308a1c149bae503564",
            "ee331b2e389d4d159a102f5e5dc08a93",
            "307aef86e2a849c6bf2b7d83ab9b3b18",
            "a6c9eb3c758f42018e362c4c71bc3584",
            "6eacafbff10e42ffa15069992cf081bc",
            "9bbd2c8289a94473b33076e50baeaa7f",
            "c90d6a0c129e43d6a121b882438a1e12",
            "44c8fe36dcba45cd9deb0992fe364781",
            "2bcf9756412542bc93cecc20e18a06d9",
            "e7626a5a0799421fa44db79254b88c3c",
            "defbf01634784c3ba4867de93988ac73",
            "e174476c16d34027aeb52f36725ea27b",
            "e0a43f9e6c46422c97c2d4717af226b0",
            "77b67f71b7aa460ea274fea6401bb5f8",
            "6ffb5abc1c304408b287789352f9696a",
            "944617517d504cecad534ce5e01dfcad",
            "de28fe171cdf435e935af9df5995a1e6",
            "3e5f1a96eaac4c61813ca21a57731e2f",
            "f12e63254cb64f2e9076c7c13212c1b0",
            "a2e52074b1f24f1496bb0486222537f3",
            "26e180d91b2648178c15c7cf4eeabf64",
            "5f027b37afbf4e819815c32ce9ecbb52",
            "d307de92ae3f4a19954779fe37a95d4a",
            "79ff6727fd134a53ba6b5fd6bccf7d33",
            "1f2e0f9d43314adc89b619fb963ddb31",
            "6895521cbc794decac678c4106d7b173",
            "73b86c27dbbd48b5943135a6bbd71787",
            "66a910a0c3d340879ccfb4ab0df56881",
            "3b8c8fac3218424cb8c85c3b8db4e74d",
            "722f6362bb094ea883fb981943a316bd",
            "4b3f25a8005146d480af077d562be8fb",
            "4efddadaab354a0e8b02e5f167a59216",
            "e278586d9d944740b2d773ad405a6ac7",
            "f463d0161110400ba4106b4132f5ac6e",
            "a7fd3505938d4de58aa227a2e6c05cc8"
          ]
        },
        "id": "uKXsdq7T3754",
        "outputId": "27c1ee81-ecfe-4dae-c38a-f31447d0ac25"
      },
      "outputs": [
        {
          "output_type": "display_data",
          "data": {
            "text/plain": [
              "config.json:   0%|          | 0.00/811 [00:00<?, ?B/s]"
            ],
            "application/vnd.jupyter.widget-view+json": {
              "version_major": 2,
              "version_minor": 0,
              "model_id": "53c6711ebb0e4d49aa920ca099bfeada"
            }
          },
          "metadata": {}
        },
        {
          "output_type": "display_data",
          "data": {
            "text/plain": [
              "model.safetensors:   0%|          | 0.00/154M [00:00<?, ?B/s]"
            ],
            "application/vnd.jupyter.widget-view+json": {
              "version_major": 2,
              "version_minor": 0,
              "model_id": "8c73cdef890d48a09a87e3f7f4f30fea"
            }
          },
          "metadata": {}
        },
        {
          "output_type": "stream",
          "name": "stdout",
          "text": [
            "Loaded detection model vikp/surya_det3 on device cuda with dtype torch.float16\n"
          ]
        },
        {
          "output_type": "display_data",
          "data": {
            "text/plain": [
              "preprocessor_config.json:   0%|          | 0.00/675 [00:00<?, ?B/s]"
            ],
            "application/vnd.jupyter.widget-view+json": {
              "version_major": 2,
              "version_minor": 0,
              "model_id": "b30eeca6655345a0aa41a46ec38c93c3"
            }
          },
          "metadata": {}
        },
        {
          "output_type": "display_data",
          "data": {
            "text/plain": [
              "config.json:   0%|          | 0.00/8.05k [00:00<?, ?B/s]"
            ],
            "application/vnd.jupyter.widget-view+json": {
              "version_major": 2,
              "version_minor": 0,
              "model_id": "2f789555bd1d46f5bc1c5b6b51833669"
            }
          },
          "metadata": {}
        },
        {
          "output_type": "display_data",
          "data": {
            "text/plain": [
              "model.safetensors:   0%|          | 0.00/941M [00:00<?, ?B/s]"
            ],
            "application/vnd.jupyter.widget-view+json": {
              "version_major": 2,
              "version_minor": 0,
              "model_id": "307aef86e2a849c6bf2b7d83ab9b3b18"
            }
          },
          "metadata": {}
        },
        {
          "output_type": "display_data",
          "data": {
            "text/plain": [
              "generation_config.json:   0%|          | 0.00/163 [00:00<?, ?B/s]"
            ],
            "application/vnd.jupyter.widget-view+json": {
              "version_major": 2,
              "version_minor": 0,
              "model_id": "77b67f71b7aa460ea274fea6401bb5f8"
            }
          },
          "metadata": {}
        },
        {
          "output_type": "stream",
          "name": "stdout",
          "text": [
            "Loaded recognition model vikp/surya_rec2 on device cuda with dtype torch.float16\n"
          ]
        },
        {
          "output_type": "display_data",
          "data": {
            "text/plain": [
              "preprocessor_config.json:   0%|          | 0.00/556 [00:00<?, ?B/s]"
            ],
            "application/vnd.jupyter.widget-view+json": {
              "version_major": 2,
              "version_minor": 0,
              "model_id": "1f2e0f9d43314adc89b619fb963ddb31"
            }
          },
          "metadata": {}
        }
      ],
      "source": [
        "from surya.detection import batch_text_detection\n",
        "from surya.model.detection.model import load_model as load_det_model, load_processor as load_det_processor\n",
        "\n",
        "from surya.recognition import batch_recognition\n",
        "from surya.model.recognition.model import load_model\n",
        "from surya.model.recognition.processor import load_processor\n",
        "\n",
        "\n",
        "model, processor = load_det_model(), load_det_processor()\n",
        "recognition_model, recognition_processor = load_model(), load_processor()\n",
        "langs = [\"vi\"]  # Replace with your languages"
      ]
    },
    {
      "cell_type": "code",
      "execution_count": 16,
      "metadata": {
        "id": "esVAtnwK-lqT"
      },
      "outputs": [],
      "source": [
        "def Surya_line_det(images_list):\n",
        "    bbox_list = []\n",
        "\n",
        "    for idx, image in enumerate(images_list):\n",
        "        print(f'Processing {image}...')\n",
        "        image_path = os.path.join(image_folder, image)\n",
        "        image = Image.open(image_path)\n",
        "\n",
        "        predictions = batch_text_detection([image], model, processor)\n",
        "        for bbox in predictions[0].bboxes:\n",
        "            bbox_list.append({\n",
        "                \"Page number\": idx + 1,\n",
        "                \"Bounding box\": bbox.polygon,\n",
        "                \"Confidence\": bbox.confidence\n",
        "            })\n",
        "\n",
        "    return bbox_list\n",
        "\n",
        "\n",
        "def Surya_ocr(warp_image):\n",
        "    recognition, _ = batch_recognition([warp_image], [langs], recognition_model, recognition_processor)\n",
        "    # print(f\"[!] {image_name} done\")\n",
        "    return recognition[0]"
      ]
    },
    {
      "cell_type": "code",
      "execution_count": 17,
      "metadata": {
        "colab": {
          "base_uri": "https://localhost:8080/"
        },
        "id": "YwPmL5b3_ndn",
        "outputId": "eef2e230-9637-4e49-efe4-f3cf6f524c6d"
      },
      "outputs": [
        {
          "output_type": "stream",
          "name": "stdout",
          "text": [
            "Processing page_3.jpeg...\n"
          ]
        },
        {
          "output_type": "stream",
          "name": "stderr",
          "text": [
            "Detecting bboxes: 100%|██████████| 1/1 [00:01<00:00,  1.49s/it]\n"
          ]
        },
        {
          "output_type": "stream",
          "name": "stdout",
          "text": [
            "Processing page_1.jpeg...\n"
          ]
        },
        {
          "output_type": "stream",
          "name": "stderr",
          "text": [
            "Detecting bboxes: 100%|██████████| 1/1 [00:00<00:00,  3.17it/s]\n"
          ]
        },
        {
          "output_type": "stream",
          "name": "stdout",
          "text": [
            "Processing page_2.jpeg...\n"
          ]
        },
        {
          "output_type": "stream",
          "name": "stderr",
          "text": [
            "Detecting bboxes: 100%|██████████| 1/1 [00:00<00:00,  3.33it/s]\n"
          ]
        }
      ],
      "source": [
        "# List and sort images based on extracted page number\n",
        "images_list = [f for f in os.listdir(image_folder) if f.lower().endswith(('.jpeg', '.jpg', '.png', '.bmp'))]\n",
        "bbox_list = Surya_line_det(images_list)\n",
        "Suryabbdf = pd.DataFrame(bbox_list)"
      ]
    },
    {
      "cell_type": "markdown",
      "metadata": {
        "id": "Sh0VjDlN38md"
      },
      "source": [
        "#Collect EasyOCR Model"
      ]
    },
    {
      "cell_type": "code",
      "execution_count": 18,
      "metadata": {
        "colab": {
          "base_uri": "https://localhost:8080/"
        },
        "id": "ZSb87odB3yWN",
        "outputId": "8b8341d4-1e05-4e6f-db45-96aa5ceabebd"
      },
      "outputs": [
        {
          "output_type": "stream",
          "name": "stderr",
          "text": [
            "WARNING:easyocr.easyocr:Downloading detection model, please wait. This may take several minutes depending upon your network connection.\n"
          ]
        },
        {
          "output_type": "stream",
          "name": "stdout",
          "text": [
            "Progress: |██████████████████████████████████████████████████| 100.0% Complete"
          ]
        },
        {
          "output_type": "stream",
          "name": "stderr",
          "text": [
            "WARNING:easyocr.easyocr:Downloading recognition model, please wait. This may take several minutes depending upon your network connection.\n"
          ]
        },
        {
          "output_type": "stream",
          "name": "stdout",
          "text": [
            "Progress: |██████████████████████████████████████████████████| 100.0% Complete"
          ]
        }
      ],
      "source": [
        "import easyocr\n",
        "reader = easyocr.Reader(['vi'])"
      ]
    },
    {
      "cell_type": "code",
      "execution_count": 19,
      "metadata": {
        "id": "caBhx39QJF5t"
      },
      "outputs": [],
      "source": [
        "def easyocr_ocr(warp_image):\n",
        "    ocr_result = reader.recognize(warp_image)\n",
        "    return ocr_result[0][1]"
      ]
    },
    {
      "cell_type": "markdown",
      "metadata": {
        "id": "xPlqJ_sf4Dc1"
      },
      "source": [
        "#Voting on text detection"
      ]
    },
    {
      "cell_type": "code",
      "execution_count": 20,
      "metadata": {
        "id": "t0b-dUFIDOZI"
      },
      "outputs": [],
      "source": [
        "import pandas as pd\n",
        "import ast\n",
        "from shapely.geometry import Polygon\n",
        "\n",
        "def calculate_overlap_ratio(box1, box2):\n",
        "    try:\n",
        "        polygon1 = Polygon(box1)\n",
        "        polygon2 = Polygon(box2)\n",
        "\n",
        "        if not polygon1.is_valid or not polygon2.is_valid:\n",
        "            return 0.0\n",
        "\n",
        "        intersection = polygon1.intersection(polygon2)\n",
        "\n",
        "        area1 = polygon1.area\n",
        "        area2 = polygon2.area\n",
        "        intersection_area = intersection.area\n",
        "\n",
        "        ratio1 = intersection_area / area1 if area1 > 0 else 0.0\n",
        "        ratio2 = intersection_area / area2 if area2 > 0 else 0.0\n",
        "\n",
        "        return max(ratio1, ratio2)\n",
        "\n",
        "    except Exception as e:\n",
        "        print(f\"Error calculating overlap: {e}\")\n",
        "        return 0.0\n",
        "\n",
        "def parse_bbox(bbox_str):\n",
        "\n",
        "    return ast.literal_eval(str(bbox_str))\n",
        "\n",
        "def compare_ocr_results(df1, df2):\n",
        "    output_data = []\n",
        "\n",
        "    for page in df1['Page Number'].unique():\n",
        "        page_boxes1 = df1[df1['Page Number'] == page]\n",
        "        page_boxes2 = df2[df2['Page number'] == page]\n",
        "        matched_boxes2 = set()\n",
        "\n",
        "        for _, box1 in page_boxes1.iterrows():\n",
        "            # print(box1['Bounding box'])\n",
        "            box1_coords = parse_bbox(box1['Bounding box'])\n",
        "            matched = False\n",
        "\n",
        "            for idx2, box2 in page_boxes2.iterrows():\n",
        "                if idx2 in matched_boxes2:\n",
        "                    continue\n",
        "\n",
        "                box2_coords = parse_bbox(box2['Bounding box'])\n",
        "                overlap_ratio = calculate_overlap_ratio(box1_coords, box2_coords)\n",
        "\n",
        "                if overlap_ratio >= 0.4:\n",
        "                    avg_confidence = (box1['Confidence'] + box2['Confidence']) / 2\n",
        "                    if avg_confidence > 0.5:\n",
        "                        output_data.append({\n",
        "                            'Page Number': page,\n",
        "                            'Bounding box': box1['Bounding box'],\n",
        "                            'Confidence': avg_confidence,\n",
        "                            'Source': 'matched'\n",
        "                        })\n",
        "                    matched_boxes2.add(idx2)\n",
        "                    matched = True\n",
        "\n",
        "            if not matched and box1['Confidence'] > 0.8:\n",
        "                output_data.append({\n",
        "                    'Page Number': page,\n",
        "                    'Bounding Box': box1['Bounding Box'],\n",
        "                    'Confidence': box1['Confidence'],\n",
        "                    'Source': 'ocr1'\n",
        "                })\n",
        "\n",
        "        for idx2, box2 in page_boxes2.iterrows():\n",
        "            if idx2 not in matched_boxes2 and box2['Confidence'] > 0.8:\n",
        "                output_data.append({\n",
        "                    'Page Number': page,\n",
        "                    'Bounding Box': box2['Bounding Box'],\n",
        "                    'Confidence': box2['Confidence'],\n",
        "                    'Source': 'ocr2'\n",
        "                })\n",
        "\n",
        "    return pd.DataFrame(output_data)\n",
        "\n",
        "\n",
        "matched_results = compare_ocr_results(Paddledf, Suryabbdf)"
      ]
    },
    {
      "cell_type": "markdown",
      "metadata": {
        "id": "ooUzcaUO4L1w"
      },
      "source": [
        "#Image Warp Perspective"
      ]
    },
    {
      "cell_type": "code",
      "execution_count": 21,
      "metadata": {
        "id": "34-mkDMr4KtQ"
      },
      "outputs": [],
      "source": [
        "import cv2\n",
        "import numpy as np\n",
        "import pandas as pd\n",
        "import os\n",
        "import ast\n",
        "from itertools import groupby\n",
        "from typing import List, Dict, Tuple\n",
        "\n",
        "def order_points(pts):\n",
        "    rect = np.zeros((4, 2), dtype=\"float32\")\n",
        "    s = pts.sum(axis=1)\n",
        "    rect[0] = pts[np.argmin(s)]\n",
        "    rect[2] = pts[np.argmax(s)]\n",
        "    diff = np.diff(pts, axis=1)\n",
        "    rect[1] = pts[np.argmin(diff)]\n",
        "    rect[3] = pts[np.argmax(diff)]\n",
        "    return rect\n",
        "\n",
        "def four_point_transform(image, pts):\n",
        "    rect = order_points(pts)\n",
        "    (tl, tr, br, bl) = rect\n",
        "\n",
        "    widthA = np.sqrt(((br[0] - bl[0]) ** 2) + ((br[1] - bl[1]) ** 2))\n",
        "    widthB = np.sqrt(((tr[0] - tl[0]) ** 2) + ((tr[1] - tl[1]) ** 2))\n",
        "    maxWidth = max(int(widthA), int(widthB))\n",
        "\n",
        "    heightA = np.sqrt(((tr[0] - br[0]) ** 2) + ((tr[1] - br[1]) ** 2))\n",
        "    heightB = np.sqrt(((tl[0] - bl[0]) ** 2) + ((tl[1] - bl[1]) ** 2))\n",
        "    maxHeight = max(int(heightA), int(heightB))\n",
        "\n",
        "    padding = 4\n",
        "    padded_width = maxWidth + (2 * padding)\n",
        "    padded_height = maxHeight + (2 * padding)\n",
        "\n",
        "    dst = np.array([\n",
        "        [padding, padding],\n",
        "        [padded_width - padding - 1, padding],\n",
        "        [padded_width - padding - 1, padded_height - padding - 1],\n",
        "        [padding, padded_height - padding - 1]], dtype=\"float32\")\n",
        "\n",
        "    M = cv2.getPerspectiveTransform(rect, dst)\n",
        "    warped = cv2.warpPerspective(image, M, (padded_width, padded_height))\n",
        "    return warped\n",
        "\n",
        "def process_images_with_boxes(image_files, df):\n",
        "    \"\"\"\n",
        "    Process a list of image files with bounding boxes from DataFrame\n",
        "\n",
        "    Args:\n",
        "        image_files: List of image file paths\n",
        "        df: DataFrame with bounding box information\n",
        "\n",
        "    Returns:\n",
        "        List of lists, where each inner list contains the cropped regions for one image\n",
        "    \"\"\"\n",
        "    all_regions = []  # List to store lists of regions for each image\n",
        "\n",
        "    # Process each image\n",
        "    for page_idx, image_path in enumerate(image_files):\n",
        "        page_num = page_idx + 1  # Assuming page numbers start from 1\n",
        "\n",
        "        # Get boxes for current page\n",
        "        page_boxes = df[df['Page Number'] == page_num]\n",
        "\n",
        "        # Read the image\n",
        "        image_path = os.path.join(image_folder, image_path)\n",
        "        image = cv2.imread(image_path)\n",
        "        if image is None:\n",
        "            print(f\"Error: Could not read image: {image_path}\")\n",
        "            all_regions.append([])  # Add empty list for failed image\n",
        "            continue\n",
        "\n",
        "        # List to store regions for current image\n",
        "        page_regions = []\n",
        "\n",
        "        # Process each box in the current page\n",
        "        for _, row in page_boxes.iterrows():\n",
        "            try:\n",
        "                bbox = np.array(ast.literal_eval(str(row['Bounding box'])), dtype=\"float32\")\n",
        "                warped = four_point_transform(image, bbox)\n",
        "                page_regions.append(warped)\n",
        "            except Exception as e:\n",
        "                print(f\"Error processing region in page {page_num}: {str(e)}\")\n",
        "                continue\n",
        "\n",
        "        all_regions.append(page_regions)\n",
        "\n",
        "    return all_regions\n",
        "\n",
        "processed_regions = process_images_with_boxes(images_files, matched_results)"
      ]
    },
    {
      "cell_type": "markdown",
      "metadata": {
        "id": "eVpZ9jKAo62f"
      },
      "source": [
        "# Draw bounding box"
      ]
    },
    {
      "cell_type": "code",
      "execution_count": 22,
      "metadata": {
        "colab": {
          "base_uri": "https://localhost:8080/"
        },
        "id": "kSoJegV-pArt",
        "outputId": "786c4e25-ca2e-4c60-dac0-2ee168c0efb2"
      },
      "outputs": [
        {
          "output_type": "stream",
          "name": "stdout",
          "text": [
            "Saved image with bounding boxes to: /content/voting-system/output/bbox_page_3.jpeg\n",
            "Saved image with bounding boxes to: /content/voting-system/output/bbox_page_1.jpeg\n",
            "Saved image with bounding boxes to: /content/voting-system/output/bbox_page_2.jpeg\n"
          ]
        }
      ],
      "source": [
        "def draw_bounding_boxes(images_files, df):\n",
        "    \"\"\"\n",
        "    Draw bounding boxes on images and save them to output folder\n",
        "\n",
        "    Args:\n",
        "        images_files: List of image file paths\n",
        "        df: DataFrame with bounding box information\n",
        "    \"\"\"\n",
        "    # Create output folder if it doesn't exist\n",
        "    os.makedirs(output_folder, exist_ok=True)\n",
        "\n",
        "    for page_idx, image_path in enumerate(images_files):\n",
        "        page_num = page_idx + 1\n",
        "\n",
        "        # Get boxes for current page\n",
        "        page_boxes = df[df['Page Number'] == page_num]\n",
        "\n",
        "        # Read original image\n",
        "        image = cv2.imread(os.path.join(image_folder, image_path))\n",
        "        if image is None:\n",
        "            print(f\"Error: Could not read image: {image_path}\")\n",
        "            continue\n",
        "\n",
        "        # Draw all bounding boxes\n",
        "        for _, row in page_boxes.iterrows():\n",
        "            bbox = np.array(ast.literal_eval(str(row['Bounding box'])), dtype=\"float32\")\n",
        "            # Draw lines connecting the points\n",
        "            for i in range(4):\n",
        "                pt1 = tuple(bbox[i])\n",
        "                pt2 = tuple(bbox[(i + 1) % 4])\n",
        "                cv2.line(image,\n",
        "                        (int(pt1[0]), int(pt1[1])),\n",
        "                        (int(pt2[0]), int(pt2[1])),\n",
        "                        (255, 0, 0), 2)  # Blue color, thickness=2\n",
        "\n",
        "        # Save the image\n",
        "        output_path = os.path.join(output_folder, f'bbox_{os.path.basename(image_path)}')\n",
        "        cv2.imwrite(output_path, image)\n",
        "        print(f\"Saved image with bounding boxes to: {output_path}\")\n",
        "\n",
        "draw_bounding_boxes(images_files, matched_results)"
      ]
    },
    {
      "cell_type": "markdown",
      "metadata": {
        "id": "VFTscC5E4P08"
      },
      "source": [
        "#Voting on text recognition"
      ]
    },
    {
      "cell_type": "code",
      "execution_count": 23,
      "metadata": {
        "id": "cja5YcOOBLGO",
        "colab": {
          "base_uri": "https://localhost:8080/"
        },
        "outputId": "3b546fa4-ca87-4a23-a41e-275b8fd480b6"
      },
      "outputs": [
        {
          "output_type": "stream",
          "name": "stderr",
          "text": [
            "Recognizing Text: 100%|██████████| 1/1 [00:00<00:00,  1.09it/s]\n"
          ]
        },
        {
          "output_type": "stream",
          "name": "stdout",
          "text": [
            "đứng gay trên bãi đất trống. Con ngựa già lông hung\n"
          ]
        },
        {
          "output_type": "stream",
          "name": "stderr",
          "text": [
            "Recognizing Text: 100%|██████████| 1/1 [00:00<00:00,  3.04it/s]\n"
          ]
        },
        {
          "output_type": "stream",
          "name": "stdout",
          "text": [
            "vục mõm vào giỏ vừa nhai cỏ vừa rùng minh buồi\n"
          ]
        },
        {
          "output_type": "stream",
          "name": "stderr",
          "text": [
            "Recognizing Text: 100%|██████████| 1/1 [00:00<00:00,  2.70it/s]\n"
          ]
        },
        {
          "output_type": "stream",
          "name": "stdout",
          "text": [
            "nhặng, Đám lông nơi khuỷu chân trắng phếch bui đường.\n"
          ]
        },
        {
          "output_type": "stream",
          "name": "stderr",
          "text": [
            "Recognizing Text: 100%|██████████| 1/1 [00:00<00:00,  2.92it/s]\n"
          ]
        },
        {
          "output_type": "stream",
          "name": "stdout",
          "text": [
            "Gần đó, khoảng đát lầm bụi cát đã được khoanh lại\n"
          ]
        },
        {
          "output_type": "stream",
          "name": "stderr",
          "text": [
            "Recognizing Text: 100%|██████████| 1/1 [00:00<00:00,  2.98it/s]\n"
          ]
        },
        {
          "output_type": "stream",
          "name": "stdout",
          "text": [
            "bởi những sợi thừng chăng qua bốn cây cọc. Chủ gánh\n"
          ]
        },
        {
          "output_type": "stream",
          "name": "stderr",
          "text": [
            "Recognizing Text: 100%|██████████| 1/1 [00:00<00:00,  2.72it/s]\n"
          ]
        },
        {
          "output_type": "stream",
          "name": "stdout",
          "text": [
            "xiếc, một người đàn ông thấp lùn, nhỏ bé, cái đầu\n"
          ]
        },
        {
          "output_type": "stream",
          "name": "stderr",
          "text": [
            "Recognizing Text: 100%|██████████| 1/1 [00:00<00:00,  2.30it/s]\n"
          ]
        },
        {
          "output_type": "stream",
          "name": "stdout",
          "text": [
            "phinh ra một cách dị thường, da đen xam, mắt long\n"
          ]
        },
        {
          "output_type": "stream",
          "name": "stderr",
          "text": [
            "Recognizing Text: 100%|██████████| 1/1 [00:00<00:00,  1.83it/s]\n"
          ]
        },
        {
          "output_type": "stream",
          "name": "stdout",
          "text": [
            "lanh đang biểu diễn trò nuốt lửa, xiên linh, nhào lộn\n"
          ]
        },
        {
          "output_type": "stream",
          "name": "stderr",
          "text": [
            "Recognizing Text: 100%|██████████| 1/1 [00:00<00:00,  2.72it/s]\n"
          ]
        },
        {
          "output_type": "stream",
          "name": "stdout",
          "text": [
            "trên dây. Sau đó, ông ta tự bịt mắt bằng một tấm vải\n"
          ]
        },
        {
          "output_type": "stream",
          "name": "stderr",
          "text": [
            "Recognizing Text: 100%|██████████| 1/1 [00:00<00:00,  3.02it/s]\n"
          ]
        },
        {
          "output_type": "stream",
          "name": "stdout",
          "text": [
            "đen rồi phóng dao lên tâm bảng gỗ, Những con dao\n"
          ]
        },
        {
          "output_type": "stream",
          "name": "stderr",
          "text": [
            "Recognizing Text: 100%|██████████| 1/1 [00:00<00:00,  2.85it/s]\n"
          ]
        },
        {
          "output_type": "stream",
          "name": "stdout",
          "text": [
            "nhọn cắm phầm phập trên tấm gỗ mềm, Đứng áp lưng\n"
          ]
        },
        {
          "output_type": "stream",
          "name": "stderr",
          "text": [
            "Recognizing Text: 100%|██████████| 1/1 [00:00<00:00,  2.83it/s]\n"
          ]
        },
        {
          "output_type": "stream",
          "name": "stdout",
          "text": [
            "vào tấm bảng, vợ người chủ gánh xiếc dang hai tay.\n"
          ]
        },
        {
          "output_type": "stream",
          "name": "stderr",
          "text": [
            "Recognizing Text: 100%|██████████| 1/1 [00:00<00:00,  2.99it/s]\n"
          ]
        },
        {
          "output_type": "stream",
          "name": "stdout",
          "text": [
            "ngầng cao đầu với vẻ gan góc và hùng dũng hiếm có\n"
          ]
        },
        {
          "output_type": "stream",
          "name": "stderr",
          "text": [
            "Recognizing Text: 100%|██████████| 1/1 [00:00<00:00,  2.95it/s]\n"
          ]
        },
        {
          "output_type": "stream",
          "name": "stdout",
          "text": [
            "Đen trũi, dữ tợn, to béo như hộ pháp, người đàn bà\n"
          ]
        },
        {
          "output_type": "stream",
          "name": "stderr",
          "text": [
            "Recognizing Text: 100%|██████████| 1/1 [00:00<00:00,  2.82it/s]\n"
          ]
        },
        {
          "output_type": "stream",
          "name": "stdout",
          "text": [
            "đó khiến chúng tôi vừa kính nề vừa khiếp sợ, Bà ta\n"
          ]
        },
        {
          "output_type": "stream",
          "name": "stderr",
          "text": [
            "Recognizing Text: 100%|██████████| 1/1 [00:00<00:00,  2.87it/s]\n"
          ]
        },
        {
          "output_type": "stream",
          "name": "stdout",
          "text": [
            "giương mắt nhìn những ánh thép đang loang loảng lao\n"
          ]
        },
        {
          "output_type": "stream",
          "name": "stderr",
          "text": [
            "Recognizing Text: 100%|██████████| 1/1 [00:00<00:00,  2.94it/s]\n"
          ]
        },
        {
          "output_type": "stream",
          "name": "stdout",
          "text": [
            "tới một cách bình thản, trong khi chúng tôi thét lên\n"
          ]
        },
        {
          "output_type": "stream",
          "name": "stderr",
          "text": [
            "Recognizing Text: 100%|██████████| 1/1 [00:00<00:00,  2.87it/s]\n"
          ]
        },
        {
          "output_type": "stream",
          "name": "stdout",
          "text": [
            "vì hoảng sợ, tim nhảy trong lồng ngực thình thình\n"
          ]
        },
        {
          "output_type": "stream",
          "name": "stderr",
          "text": [
            "Recognizing Text: 100%|██████████| 1/1 [00:00<00:00,  2.78it/s]\n"
          ]
        },
        {
          "output_type": "stream",
          "name": "stdout",
          "text": [
            "Hết trò ném dao, người đàn ông gỡ mảnh vải chào đám\n"
          ]
        },
        {
          "output_type": "stream",
          "name": "stderr",
          "text": [
            "Recognizing Text: 100%|██████████| 1/1 [00:00<00:00,  2.99it/s]\n"
          ]
        },
        {
          "output_type": "stream",
          "name": "stdout",
          "text": [
            "đông với vẻ khiêm nhường, Đoạn ông ta quay lại phía\n"
          ]
        },
        {
          "output_type": "stream",
          "name": "stderr",
          "text": [
            "Recognizing Text: 100%|██████████| 1/1 [00:00<00:00,  3.02it/s]\n"
          ]
        },
        {
          "output_type": "stream",
          "name": "stdout",
          "text": [
            "sau, giơ tay vẫy, Khi bàn tay ông hạ xuống, hai con\n"
          ]
        },
        {
          "output_type": "stream",
          "name": "stderr",
          "text": [
            "Recognizing Text: 100%|██████████| 1/1 [00:00<00:00,  2.72it/s]\n"
          ]
        },
        {
          "output_type": "stream",
          "name": "stdout",
          "text": [
            "khỉ đèo nhau bằng xe đạp tiến ra. Cả hai con đều mặc\n"
          ]
        },
        {
          "output_type": "stream",
          "name": "stderr",
          "text": [
            "Recognizing Text: 100%|██████████| 1/1 [00:00<00:00,  2.04it/s]\n"
          ]
        },
        {
          "output_type": "stream",
          "name": "stdout",
          "text": [
            "quần đủi đỏ viền den, áo may ô vàng và đội, mũ át\n"
          ]
        },
        {
          "output_type": "stream",
          "name": "stderr",
          "text": [
            "Recognizing Text: 100%|██████████| 1/1 [00:00<00:00,  1.76it/s]\n"
          ]
        },
        {
          "output_type": "stream",
          "name": "stdout",
          "text": [
            "két đen, Con trước lái, con sau đứng vịn vào vai hạn.\n"
          ]
        },
        {
          "output_type": "stream",
          "name": "stderr",
          "text": [
            "Recognizing Text: 100%|██████████| 1/1 [00:00<00:00,  1.88it/s]\n"
          ]
        },
        {
          "output_type": "stream",
          "name": "stdout",
          "text": [
            "Hết một đợt chừng mười vòng, con khi đứng sau nhảy\n"
          ]
        },
        {
          "output_type": "stream",
          "name": "stderr",
          "text": [
            "Recognizing Text: 100%|██████████| 1/1 [00:00<00:00,  2.87it/s]\n"
          ]
        },
        {
          "output_type": "stream",
          "name": "stdout",
          "text": [
            "xuống xe, giật mũ chào người xem và xin tiền. Con\n"
          ]
        },
        {
          "output_type": "stream",
          "name": "stderr",
          "text": [
            "Recognizing Text: 100%|██████████| 1/1 [00:00<00:00,  2.59it/s]\n"
          ]
        },
        {
          "output_type": "stream",
          "name": "stdout",
          "text": [
            "kia ngồi trên xe, gác chân lên giong vênh váo, Khi\n"
          ]
        },
        {
          "output_type": "stream",
          "name": "stderr",
          "text": [
            "Recognizing Text: 100%|██████████| 1/1 [00:00<00:00,  2.88it/s]\n"
          ]
        },
        {
          "output_type": "stream",
          "name": "stdout",
          "text": [
            "mũ đã đầy tiền giấy và xu, con khỉ chay lại đưa cho\n"
          ]
        },
        {
          "output_type": "stream",
          "name": "stderr",
          "text": [
            "Recognizing Text: 100%|██████████| 1/1 [00:00<00:00,  2.62it/s]\n"
          ]
        },
        {
          "output_type": "stream",
          "name": "stdout",
          "text": [
            "chủ gánh xiếc. Ông ta cất tiền vào túi bên trái, móc túi\n"
          ]
        },
        {
          "output_type": "stream",
          "name": "stderr",
          "text": [
            "Recognizing Text: 100%|██████████| 1/1 [00:00<00:00,  2.89it/s]\n"
          ]
        },
        {
          "output_type": "stream",
          "name": "stdout",
          "text": [
            "bên phải ra một nắm hạt dẻ hoặc vài trái chuối chín\n"
          ]
        },
        {
          "output_type": "stream",
          "name": "stderr",
          "text": [
            "Recognizing Text: 100%|██████████| 1/1 [00:00<00:00,  2.80it/s]\n"
          ]
        },
        {
          "output_type": "stream",
          "name": "stdout",
          "text": [
            "thưởng cho hai con vật, Rồi ông ta cúi thấp, mái đầu,\n"
          ]
        },
        {
          "output_type": "stream",
          "name": "stderr",
          "text": [
            "Recognizing Text: 100%|██████████| 1/1 [00:00<00:00,  2.88it/s]\n"
          ]
        },
        {
          "output_type": "stream",
          "name": "stdout",
          "text": [
            "cảm ta người xem và lui lại phía sau, chuẩn bị đợt\n"
          ]
        },
        {
          "output_type": "stream",
          "name": "stderr",
          "text": [
            "Recognizing Text: 100%|██████████| 1/1 [00:00<00:00,  9.13it/s]\n"
          ]
        },
        {
          "output_type": "stream",
          "name": "stdout",
          "text": [
            "diễn tiếp.\n"
          ]
        },
        {
          "output_type": "stream",
          "name": "stderr",
          "text": [
            "Recognizing Text: 100%|██████████| 1/1 [00:00<00:00,  7.06it/s]\n"
          ]
        },
        {
          "output_type": "stream",
          "name": "stdout",
          "text": [
            "PHẦN THỨ NHẤT\n"
          ]
        },
        {
          "output_type": "stream",
          "name": "stderr",
          "text": [
            "Recognizing Text: 100%|██████████| 1/1 [00:00<00:00,  6.98it/s]\n"
          ]
        },
        {
          "output_type": "stream",
          "name": "stdout",
          "text": [
            "ĐỨA BÉ MẤT TÍCH\n"
          ]
        },
        {
          "output_type": "stream",
          "name": "stderr",
          "text": [
            "Recognizing Text: 100%|██████████| 1/1 [00:00<00:00,  2.94it/s]\n"
          ]
        },
        {
          "output_type": "stream",
          "name": "stdout",
          "text": [
            "Năm ấy tôi mười hai tuổi. Tôi ở thị trấn Rêu với\n"
          ]
        },
        {
          "output_type": "stream",
          "name": "stderr",
          "text": [
            "Recognizing Text: 100%|██████████| 1/1 [00:00<00:00,  2.19it/s]\n"
          ]
        },
        {
          "output_type": "stream",
          "name": "stdout",
          "text": [
            "mẹ tôi, Thị trấn này gồm vài ba dãy phố cũ, toàn\n"
          ]
        },
        {
          "output_type": "stream",
          "name": "stderr",
          "text": [
            "Recognizing Text: 100%|██████████| 1/1 [00:00<00:00,  1.93it/s]\n"
          ]
        },
        {
          "output_type": "stream",
          "name": "stdout",
          "text": [
            "những ngôi nhà lợp ngói ta. hiên rộng, cột gỗ đen bóng,\n"
          ]
        },
        {
          "output_type": "stream",
          "name": "stderr",
          "text": [
            "Recognizing Text: 100%|██████████| 1/1 [00:00<00:00,  2.02it/s]\n"
          ]
        },
        {
          "output_type": "stream",
          "name": "stdout",
          "text": [
            "cánh cửa chạm cầu kỳ, vườn bao quanh trồng nhiều\n"
          ]
        },
        {
          "output_type": "stream",
          "name": "stderr",
          "text": [
            "Recognizing Text: 100%|██████████| 1/1 [00:00<00:00,  2.85it/s]\n"
          ]
        },
        {
          "output_type": "stream",
          "name": "stdout",
          "text": [
            "thứ cây ăn quả và những bức tưởng phân cách thấp lê\n"
          ]
        },
        {
          "output_type": "stream",
          "name": "stderr",
          "text": [
            "Recognizing Text: 100%|██████████| 1/1 [00:00<00:00,  2.60it/s]\n"
          ]
        },
        {
          "output_type": "stream",
          "name": "stdout",
          "text": [
            "tè, rêu loang từng đám. Bên kia, đường xe lửa, có\n"
          ]
        },
        {
          "output_type": "stream",
          "name": "stderr",
          "text": [
            "Recognizing Text: 100%|██████████| 1/1 [00:00<00:00,  1.92it/s]\n"
          ]
        },
        {
          "output_type": "stream",
          "name": "stdout",
          "text": [
            "thêm một dãy phố mới, gồm những ngòi nhà cất trên\n"
          ]
        },
        {
          "output_type": "stream",
          "name": "stderr",
          "text": [
            "Recognizing Text: 100%|██████████| 1/1 [00:00<00:00,  2.86it/s]\n"
          ]
        },
        {
          "output_type": "stream",
          "name": "stdout",
          "text": [
            "rẻo đất hoang và nền gạch vỡ tiêu thổ kháng chiến\n"
          ]
        },
        {
          "output_type": "stream",
          "name": "stderr",
          "text": [
            "Recognizing Text: 100%|██████████| 1/1 [00:00<00:00,  2.87it/s]\n"
          ]
        },
        {
          "output_type": "stream",
          "name": "stdout",
          "text": [
            "chống Pháp. Nhà ở đây thường hai tầng, lớn nhỏ lồ\n"
          ]
        },
        {
          "output_type": "stream",
          "name": "stderr",
          "text": [
            "Recognizing Text: 100%|██████████| 1/1 [00:00<00:00,  2.82it/s]\n"
          ]
        },
        {
          "output_type": "stream",
          "name": "stdout",
          "text": [
            "nhô, bao lơn có: song sắt hoa dủ kiều: Dân phố mới\n"
          ]
        },
        {
          "output_type": "stream",
          "name": "stderr",
          "text": [
            "Recognizing Text: 100%|██████████| 1/1 [00:00<00:00,  2.96it/s]\n"
          ]
        },
        {
          "output_type": "stream",
          "name": "stdout",
          "text": [
            "phần lớn là thương nhân. Cửa hàng của họ bán đu thứ\n"
          ]
        },
        {
          "output_type": "stream",
          "name": "stderr",
          "text": [
            "Recognizing Text: 100%|██████████| 1/1 [00:00<00:00,  2.61it/s]\n"
          ]
        },
        {
          "output_type": "stream",
          "name": "stdout",
          "text": [
            "vải sồi, mắm muối, gao bột, tạp hóa khác... . Sát đường\n"
          ]
        },
        {
          "output_type": "stream",
          "name": "stderr",
          "text": [
            "Recognizing Text: 100%|██████████| 1/1 [00:00<00:00,  2.67it/s]\n"
          ]
        },
        {
          "output_type": "stream",
          "name": "stdout",
          "text": [
            "ray, ở giữa khu phố cũ và dãy phố mới, có một khoảng\n"
          ]
        },
        {
          "output_type": "stream",
          "name": "stderr",
          "text": [
            "Recognizing Text: 100%|██████████| 1/1 [00:00<00:00,  2.00it/s]\n"
          ]
        },
        {
          "output_type": "stream",
          "name": "stdout",
          "text": [
            "đất trống. Chợ họp ở đó. Trước cửa chợ trồng cây cột\n"
          ]
        },
        {
          "output_type": "stream",
          "name": "stderr",
          "text": [
            "Recognizing Text: 100%|██████████| 1/1 [00:00<00:00,  2.27it/s]\n"
          ]
        },
        {
          "output_type": "stream",
          "name": "stdout",
          "text": [
            "gỗ treo một dải lua hồng, Hàng năm, trước ngày Tết\n"
          ]
        },
        {
          "output_type": "stream",
          "name": "stderr",
          "text": [
            "Recognizing Text: 100%|██████████| 1/1 [00:00<00:00,  2.00it/s]\n"
          ]
        },
        {
          "output_type": "stream",
          "name": "stdout",
          "text": [
            "Ống Táo, người coi chợ gỡ mảnh lua đã bợt máu vì\n"
          ]
        },
        {
          "output_type": "stream",
          "name": "stderr",
          "text": [
            "Recognizing Text: 100%|██████████| 1/1 [00:00<00:00,  2.62it/s]\n"
          ]
        },
        {
          "output_type": "stream",
          "name": "stdout",
          "text": [
            "mưa qua giỏ lai, thay vào đó một dải lua mới tinh khôi\n"
          ]
        },
        {
          "output_type": "stream",
          "name": "stderr",
          "text": [
            "Recognizing Text: 100%|██████████| 1/1 [00:00<00:00,  2.70it/s]\n"
          ]
        },
        {
          "output_type": "stream",
          "name": "stdout",
          "text": [
            "màu hồng thắm. Dân cư trong thị trấn nhìn về phía\n"
          ]
        },
        {
          "output_type": "stream",
          "name": "stderr",
          "text": [
            "Recognizing Text: 100%|██████████| 1/1 [00:00<00:00,  2.97it/s]\n"
          ]
        },
        {
          "output_type": "stream",
          "name": "stdout",
          "text": [
            "chợ lòng hoan hỉ vì thấy dấu hiệu phồn vinh của\n"
          ]
        },
        {
          "output_type": "stream",
          "name": "stderr",
          "text": [
            "Recognizing Text: 100%|██████████| 1/1 [00:00<00:00,  9.07it/s]\n"
          ]
        },
        {
          "output_type": "stream",
          "name": "stdout",
          "text": [
            "năm tới.\n"
          ]
        },
        {
          "output_type": "stream",
          "name": "stderr",
          "text": [
            "Recognizing Text: 100%|██████████| 1/1 [00:00<00:00,  2.96it/s]\n"
          ]
        },
        {
          "output_type": "stream",
          "name": "stdout",
          "text": [
            "Ga xe lửa ở ngay gần chợ, Ngày ngày, những chuyến\n"
          ]
        },
        {
          "output_type": "stream",
          "name": "stderr",
          "text": [
            "Recognizing Text: 100%|██████████| 1/1 [00:00<00:00,  3.18it/s]\n"
          ]
        },
        {
          "output_type": "stream",
          "name": "stdout",
          "text": [
            "tàu xuôi ngược lướt qua đám dân ồn ào mua bán.\n"
          ]
        },
        {
          "output_type": "stream",
          "name": "stderr",
          "text": [
            "Recognizing Text: 100%|██████████| 1/1 [00:00<00:00,  2.81it/s]\n"
          ]
        },
        {
          "output_type": "stream",
          "name": "stdout",
          "text": [
            "Người trên bàu thò cô ra cửa nhìn xuống chợ. Và dân\n"
          ]
        },
        {
          "output_type": "stream",
          "name": "stderr",
          "text": [
            "Recognizing Text: 100%|██████████| 1/1 [00:00<00:00,  2.98it/s]\n"
          ]
        },
        {
          "output_type": "stream",
          "name": "stdout",
          "text": [
            "trong chợ nghếch mắt nhìn con rắn kỳ dị bằng sắt\n"
          ]
        },
        {
          "output_type": "stream",
          "name": "stderr",
          "text": [
            "Recognizing Text: 100%|██████████| 1/1 [00:00<00:00,  2.75it/s]\n"
          ]
        },
        {
          "output_type": "stream",
          "name": "stdout",
          "text": [
            "trườn đi trên đương ray, vừa đi vừa thở phi phò, tuôn\n"
          ]
        },
        {
          "output_type": "stream",
          "name": "stderr",
          "text": [
            "Recognizing Text: 100%|██████████| 1/1 [00:00<00:00,  3.28it/s]\n"
          ]
        },
        {
          "output_type": "stream",
          "name": "stdout",
          "text": [
            "về phía sau những luồng hơi trắng như muối.\n"
          ]
        },
        {
          "output_type": "stream",
          "name": "stderr",
          "text": [
            "Recognizing Text: 100%|██████████| 1/1 [00:00<00:00,  2.99it/s]\n"
          ]
        },
        {
          "output_type": "stream",
          "name": "stdout",
          "text": [
            "Phía trên thị trấn chừng nửa cây số có một dòng\n"
          ]
        },
        {
          "output_type": "stream",
          "name": "stderr",
          "text": [
            "Recognizing Text: 100%|██████████| 1/1 [00:00<00:00,  2.74it/s]\n"
          ]
        },
        {
          "output_type": "stream",
          "name": "stdout",
          "text": [
            "sông nhỏ, Chúng tỏi gọi nó là dòng sông Xanh, vì nước\n"
          ]
        },
        {
          "output_type": "stream",
          "name": "stderr",
          "text": [
            "Recognizing Text: 100%|██████████| 1/1 [00:00<00:00,  3.01it/s]\n"
          ]
        },
        {
          "output_type": "stream",
          "name": "stdout",
          "text": [
            "sông xanh như thể pha màu lá nõn, Thuyền qua lại\n"
          ]
        },
        {
          "output_type": "stream",
          "name": "stderr",
          "text": [
            "Recognizing Text: 100%|██████████| 1/1 [00:00<00:00,  2.23it/s]\n"
          ]
        },
        {
          "output_type": "stream",
          "name": "stdout",
          "text": [
            "luôn luôn, buồm giương lên như cánh bướm. Đôi khi,\n"
          ]
        },
        {
          "output_type": "stream",
          "name": "stderr",
          "text": [
            "Recognizing Text: 100%|██████████| 1/1 [00:00<00:00,  1.84it/s]\n"
          ]
        },
        {
          "output_type": "stream",
          "name": "stdout",
          "text": [
            "gió lặng, người chủ thuyền phải nhảy xuống lội bộ,\n"
          ]
        },
        {
          "output_type": "stream",
          "name": "stderr",
          "text": [
            "Recognizing Text: 100%|██████████| 1/1 [00:00<00:00,  2.88it/s]\n"
          ]
        },
        {
          "output_type": "stream",
          "name": "stdout",
          "text": [
            "kéo bằng dây chão tròng qua vai, Những đứa con nhỏ\n"
          ]
        },
        {
          "output_type": "stream",
          "name": "stderr",
          "text": [
            "Recognizing Text: 100%|██████████| 1/1 [00:00<00:00,  2.77it/s]\n"
          ]
        },
        {
          "output_type": "stream",
          "name": "stdout",
          "text": [
            "ở khoang giương mắt thao láo nhìn, Và bất chợt, người\n"
          ]
        },
        {
          "output_type": "stream",
          "name": "stderr",
          "text": [
            "Recognizing Text: 100%|██████████| 1/1 [00:00<00:00,  2.72it/s]\n"
          ]
        },
        {
          "output_type": "stream",
          "name": "stdout",
          "text": [
            "kéo thuyền cất lên giọng hát trầm [tràm, có nhiều chỗ\n"
          ]
        },
        {
          "output_type": "stream",
          "name": "stderr",
          "text": [
            "Recognizing Text: 100%|██████████| 1/1 [00:00<00:00,  2.86it/s]\n"
          ]
        },
        {
          "output_type": "stream",
          "name": "stdout",
          "text": [
            "láy, Dòng sông Xanh ấy có hai gò đất lớn; ; chủng tôi\n"
          ]
        },
        {
          "output_type": "stream",
          "name": "stderr",
          "text": [
            "Recognizing Text: 100%|██████████| 1/1 [00:00<00:00,  2.79it/s]\n"
          ]
        },
        {
          "output_type": "stream",
          "name": "stdout",
          "text": [
            "gọi là đảo Hoa Vàng vì chúng mọc đầy cay duối. Quả\n"
          ]
        },
        {
          "output_type": "stream",
          "name": "stderr",
          "text": [
            "Recognizing Text: 100%|██████████| 1/1 [00:00<00:00,  2.78it/s]\n"
          ]
        },
        {
          "output_type": "stream",
          "name": "stdout",
          "text": [
            "duối chín vàng như kén tằm rắc khin các lùm cây, trông\n"
          ]
        },
        {
          "output_type": "stream",
          "name": "stderr",
          "text": [
            "Recognizing Text: 100%|██████████| 1/1 [00:00<00:00,  3.05it/s]\n"
          ]
        },
        {
          "output_type": "stream",
          "name": "stdout",
          "text": [
            "như ai rắc những lớp bụi kim nhũ lên đó, Đảo Hoa\n"
          ]
        },
        {
          "output_type": "stream",
          "name": "stderr",
          "text": [
            "Recognizing Text: 100%|██████████| 1/1 [00:00<00:00,  2.73it/s]\n"
          ]
        },
        {
          "output_type": "stream",
          "name": "stdout",
          "text": [
            "Vàng là nơi cất giấu kho tàng bi mật của chúng tôi.\n"
          ]
        },
        {
          "output_type": "stream",
          "name": "stderr",
          "text": [
            "Recognizing Text: 100%|██████████| 1/1 [00:00<00:00,  2.97it/s]\n"
          ]
        },
        {
          "output_type": "stream",
          "name": "stdout",
          "text": [
            "Trên đảo có miếu thờ Ngũ hồ, tuy đã sụt lở nhưng\n"
          ]
        },
        {
          "output_type": "stream",
          "name": "stderr",
          "text": [
            "Recognizing Text: 100%|██████████| 1/1 [00:00<00:00,  3.02it/s]\n"
          ]
        },
        {
          "output_type": "stream",
          "name": "stdout",
          "text": [
            "vẫn đủ che cho một người ngủ qua đêm, Những ngày\n"
          ]
        },
        {
          "output_type": "stream",
          "name": "stderr",
          "text": [
            "Recognizing Text: 100%|██████████| 1/1 [00:00<00:00,  2.48it/s]\n"
          ]
        },
        {
          "output_type": "stream",
          "name": "stdout",
          "text": [
            "dân tron; ; thị trấn ra đảo cúng Ngũ hồ, mùi hương\n"
          ]
        },
        {
          "output_type": "stream",
          "name": "stderr",
          "text": [
            "Recognizing Text: 100%|██████████| 1/1 [00:00<00:00,  2.42it/s]\n"
          ]
        },
        {
          "output_type": "stream",
          "name": "stdout",
          "text": [
            "thơm lan khắp mặt sông. Tưởng như những cây duối\n"
          ]
        },
        {
          "output_type": "stream",
          "name": "stderr",
          "text": [
            "Recognizing Text: 100%|██████████| 1/1 [00:00<00:00,  1.98it/s]\n"
          ]
        },
        {
          "output_type": "stream",
          "name": "stdout",
          "text": [
            "vàng rực rỡ kia tỏa hương chứ không phải những bát\n"
          ]
        },
        {
          "output_type": "stream",
          "name": "stderr",
          "text": [
            "Recognizing Text: 100%|██████████| 1/1 [00:00<00:00,  2.62it/s]\n"
          ]
        },
        {
          "output_type": "stream",
          "name": "stdout",
          "text": [
            "nhang trong ngôi miếu thờ nhỏ cũ kỹ.\n"
          ]
        },
        {
          "output_type": "stream",
          "name": "stderr",
          "text": [
            "Recognizing Text: 100%|██████████| 1/1 [00:00<00:00,  2.93it/s]\n"
          ]
        },
        {
          "output_type": "stream",
          "name": "stdout",
          "text": [
            "Dạo đó là mùa xuân, Bánh Tết đã hết, nhưng bánh\n"
          ]
        },
        {
          "output_type": "stream",
          "name": "stderr",
          "text": [
            "Recognizing Text: 100%|██████████| 1/1 [00:00<00:00,  2.66it/s]\n"
          ]
        },
        {
          "output_type": "stream",
          "name": "stdout",
          "text": [
            "gói rằm tháng giêng còn xếp đầy trong những chiếc\n"
          ]
        },
        {
          "output_type": "stream",
          "name": "stderr",
          "text": [
            "Recognizing Text: 100%|██████████| 1/1 [00:00<00:00,  2.87it/s]\n"
          ]
        },
        {
          "output_type": "stream",
          "name": "stdout",
          "text": [
            "thúng con ở bếp mọi nhà, Chợ phố họp thật đông. Vào\n"
          ]
        },
        {
          "output_type": "stream",
          "name": "stderr",
          "text": [
            "Recognizing Text: 100%|██████████| 1/1 [00:00<00:00,  2.87it/s]\n"
          ]
        },
        {
          "output_type": "stream",
          "name": "stdout",
          "text": [
            "dịp này, những người bán kẹo rong chuyên thồi con\n"
          ]
        },
        {
          "output_type": "stream",
          "name": "stderr",
          "text": [
            "Recognizing Text: 100%|██████████| 1/1 [00:00<00:00,  2.70it/s]\n"
          ]
        },
        {
          "output_type": "stream",
          "name": "stdout",
          "text": [
            "tò te bằng đường có đặc hoặc nặn con [giống bằng bột\n"
          ]
        },
        {
          "output_type": "stream",
          "name": "stderr",
          "text": [
            "Recognizing Text: 100%|██████████| 1/1 [00:00<00:00,  2.78it/s]\n"
          ]
        },
        {
          "output_type": "stream",
          "name": "stdout",
          "text": [
            "nếp nhuộm phẩm đều tới chợ đề kiếm cách moi tiền\n"
          ]
        },
        {
          "output_type": "stream",
          "name": "stderr",
          "text": [
            "Recognizing Text: 100%|██████████| 1/1 [00:00<00:00,  2.69it/s]\n"
          ]
        },
        {
          "output_type": "stream",
          "name": "stdout",
          "text": [
            "trong túi đám khách đi hội, lễ chùa ghé qua thị trấn\n"
          ]
        },
        {
          "output_type": "stream",
          "name": "stderr",
          "text": [
            "Recognizing Text: 100%|██████████| 1/1 [00:00<00:00,  2.74it/s]\n"
          ]
        },
        {
          "output_type": "stream",
          "name": "stdout",
          "text": [
            "Cũng dịp ấy, gánh xiếc rong quen thuộc với lũ trẻ trong\n"
          ]
        },
        {
          "output_type": "stream",
          "name": "stderr",
          "text": [
            "Recognizing Text: 100%|██████████| 1/1 [00:00<00:00,  2.89it/s]"
          ]
        },
        {
          "output_type": "stream",
          "name": "stdout",
          "text": [
            "thị trăn lai đến cửa chợ. Một cổ xe ngựa mui khum\n"
          ]
        },
        {
          "output_type": "stream",
          "name": "stderr",
          "text": [
            "\n"
          ]
        }
      ],
      "source": [
        "import csv\n",
        "from collections import Counter, defaultdict\n",
        "import pandas as pd\n",
        "import re\n",
        "\n",
        "import unicodedata\n",
        "\n",
        "\n",
        "# Expanded mapping of accents to their corresponding numbers\n",
        "ACCENT_TO_NUMBER = {\n",
        "    \"á\": 1, \"à\": 2, \"ã\": 3, \"ả\": 4, \"ạ\": 5,\n",
        "    \"é\": 1, \"è\": 2, \"ẽ\": 3, \"ẻ\": 4, \"ẹ\": 5,\n",
        "    \"í\": 1, \"ì\": 2, \"ĩ\": 3, \"ỉ\": 4, \"ị\": 5,\n",
        "    \"ó\": 1, \"ò\": 2, \"õ\": 3, \"ỏ\": 4, \"ọ\": 5,\n",
        "    \"ú\": 1, \"ù\": 2, \"ũ\": 3, \"ủ\": 4, \"ụ\": 5,\n",
        "    \"ý\": 1, \"ỳ\": 2, \"ỹ\": 3, \"ỷ\": 4, \"ỵ\": 5,\n",
        "    \"ấ\": 1, \"ầ\": 2, \"ẫ\": 3, \"ẩ\": 4, \"ậ\": 5,\n",
        "    \"ế\": 1, \"ề\": 2, \"ễ\": 3, \"ể\": 4, \"ệ\": 5,\n",
        "    \"ố\": 1, \"ồ\": 2, \"ỗ\": 3, \"ổ\": 4, \"ộ\": 5,\n",
        "    \"ắ\": 1, \"ằ\": 2, \"ẵ\": 3, \"ẳ\": 4, \"ặ\": 5,\n",
        "    \"ớ\": 1, \"ờ\": 2, \"ỡ\": 3, \"ở\": 4, \"ợ\": 5,\n",
        "    \"ứ\": 1, \"ừ\": 2, \"ữ\": 3, \"ử\": 4, \"ự\": 5#,\n",
        "    #\"đ\": 9  # For 'đ', assigning a unique number\n",
        "}\n",
        "\n",
        "# Mapping of accented characters to their base (unmarked) characters\n",
        "ACCENT_TO_BASE = {\n",
        "    \"á\": \"a\", \"à\": \"a\", \"ã\": \"a\", \"ả\": \"a\", \"ạ\": \"a\",\n",
        "    \"é\": \"e\", \"è\": \"e\", \"ẽ\": \"e\", \"ẻ\": \"e\", \"ẹ\": \"e\",\n",
        "    \"í\": \"i\", \"ì\": \"i\", \"ĩ\": \"i\", \"ỉ\": \"i\", \"ị\": \"i\",\n",
        "    \"ó\": \"o\", \"ò\": \"o\", \"õ\": \"o\", \"ỏ\": \"o\", \"ọ\": \"o\",\n",
        "    \"ú\": \"u\", \"ù\": \"u\", \"ũ\": \"u\", \"ủ\": \"u\", \"ụ\": \"u\",\n",
        "    \"ý\": \"y\", \"ỳ\": \"y\", \"ỹ\": \"y\", \"ỷ\": \"y\", \"ỵ\": \"y\",\n",
        "    \"â\": \"â\", \"ấ\": \"â\", \"ầ\": \"â\", \"ẫ\": \"â\", \"ẩ\": \"â\", \"ậ\": \"â\",\n",
        "    \"ê\": \"ê\", \"ế\": \"ê\", \"ề\": \"ê\", \"ễ\": \"ê\", \"ể\": \"ê\", \"ệ\": \"ê\",\n",
        "    \"ô\": \"o\", \"ố\": \"o\", \"ồ\": \"o\", \"ỗ\": \"o\", \"ổ\": \"o\", \"ộ\": \"o\",\n",
        "    \"ă\": \"ă\", \"ắ\": \"ă\", \"ằ\": \"ă\", \"ẵ\": \"ă\", \"ẳ\": \"ă\", \"ặ\": \"ă\",\n",
        "    \"ơ\": \"ơ\", \"ớ\": \"ơ\", \"ờ\": \"ơ\", \"ỡ\": \"ơ\", \"ở\": \"ơ\", \"ợ\": \"ơ\",\n",
        "    \"ư\": \"ư\", \"ứ\": \"ư\", \"ừ\": \"ư\", \"ữ\": \"ư\", \"ử\": \"ư\", \"ự\": \"ư\"\n",
        "}\n",
        "\n",
        "\n",
        "\n",
        "def normalize_vietnamese(word):\n",
        "    normalized_word = \"\"\n",
        "    accent_number = \"\"\n",
        "    word = word.lower()\n",
        "    for char in word:\n",
        "        if char in ACCENT_TO_NUMBER:\n",
        "            normalized_word += ACCENT_TO_BASE[char]  # Replace with the base character\n",
        "            accent_number = str(ACCENT_TO_NUMBER[char])  # Set the corresponding accent number\n",
        "        else:\n",
        "            normalized_word += char  # Add the character as is if no accent\n",
        "\n",
        "    return normalized_word + accent_number\n",
        "\n",
        "\n",
        "\n",
        "\n",
        "import difflib\n",
        "\n",
        "def load_words(file_path):\n",
        "    \"\"\"Load words from the given text file.\"\"\"\n",
        "    with open(file_path, 'r', encoding='utf-8') as file:\n",
        "        return [line.strip() for line in file]\n",
        "\n",
        "def load_normalize_words(file_path):\n",
        "    \"\"\"Load words from the given text file.\"\"\"\n",
        "    with open(file_path, 'r', encoding='utf-8') as file:\n",
        "        return [normalize_vietnamese(line.strip()) for line in file]\n",
        "\n",
        "def find_similar_words(word, word_list, max_results=10):\n",
        "    \"\"\"\n",
        "    Find similar words using difflib.\n",
        "    - Returns up to `max_results` similar words from the word list.\n",
        "    \"\"\"\n",
        "    similar_list  = []\n",
        "    normalize_word = normalize_vietnamese(word)\n",
        "    cnt = 0\n",
        "    for check in word_list:\n",
        "        normalize_check = normalize_vietnamese(check)\n",
        "        similar, dis = words_similar(normalize_word, normalize_check, threshold= 0.3)\n",
        "\n",
        "        if similar:\n",
        "            similar_list.append(check)\n",
        "            cnt += 1\n",
        "\n",
        "        if(cnt >= max_results):\n",
        "            break\n",
        "    return similar_list\n",
        "\n",
        "\n",
        "\n",
        "def check_word_in_file(word, vietnam_word_list, normalize_vietnam_list):\n",
        "    \"\"\"\n",
        "    Check if a word is in the file and return suggestions if it's not found.\n",
        "    - If found, return \"Yes\".\n",
        "    - If not, return \"No\" and a list of similar words.\n",
        "    \"\"\"\n",
        "\n",
        "    normalize_word = normalize_vietnamese(word)\n",
        "    normalize_word = re.sub(r'[.,:_;?/\"()…]', '', normalize_word)\n",
        "    if normalize_word in normalize_vietnam_list:\n",
        "        similar_words = [word]\n",
        "        return True, similar_words\n",
        "    else:\n",
        "        similar_words = find_similar_words(word, vietnam_word_list)\n",
        "        return False, similar_words\n",
        "\n",
        "\n",
        "def normalize_text(text):\n",
        "    # Remove newline characters\n",
        "    text = re.sub(r'\\s*[\\n\\r]+\\s*', ' ', text)\n",
        "\n",
        "    # Convert \"~\", \"=\", \"—\", \"→\", \"_\" to \"-\"\n",
        "    text = text.replace(\"~\", \"-\")\n",
        "    text = text.replace(\"=\", \"-\")\n",
        "    text = text.replace(\"—\", \"-\")\n",
        "    text = text.replace(\"→\", '-')\n",
        "    text = text.replace(\"_\", '-')\n",
        "\n",
        "    # Convert \"«»\", \"<>\" to '\"\"'\n",
        "    text = text.replace(\"« \", '\"')\n",
        "    text = text.replace(\" »\", '\"')\n",
        "    text = text.replace(\"< \", '\"')\n",
        "    text = text.replace(\" >\", '\"')\n",
        "\n",
        "    # Convert '...' to '…'\n",
        "    text = re.sub(r'\\.\\.\\.', '…', text)\n",
        "\n",
        "    # Ensure punctuation is followed by a space\n",
        "    text = re.sub(r'([….,;:?!])\\s', r'\\1 ', text)\n",
        "\n",
        "    # Remove spaces before punctuation\n",
        "    text = re.sub(r'\\s+([….,!?;:])', r'\\1', text)\n",
        "\n",
        "    # Ensure only one space between words\n",
        "    text = re.sub(r'\\s+', ' ', text)\n",
        "\n",
        "    # Ensure a space follows \"-\" at the start of the text\n",
        "    text = re.sub(r'^-\\s*', '- ', text)\n",
        "\n",
        "    # Strip leading and trailing spaces\n",
        "    text = text.strip()\n",
        "\n",
        "    # Return normalized text\n",
        "    return text\n",
        "\n",
        "def normalize_word(word):\n",
        "    \"\"\"\n",
        "    Normalize a word to lowercase and remove accents (diacritical marks).\n",
        "\n",
        "    Args:\n",
        "        word (str): The word to normalize.\n",
        "\n",
        "    Returns:\n",
        "        str: The normalized word.\n",
        "    \"\"\"\n",
        "\n",
        "    if(word ==  'None'):\n",
        "        return word\n",
        "    # Convert to lowercase\n",
        "    word = word.lower()\n",
        "\n",
        "    # Remove accents by decomposing the Unicode characters and filtering\n",
        "    word = ''.join(\n",
        "        char for char in unicodedata.normalize('NFD', word)\n",
        "        if unicodedata.category(char) != 'Mn'\n",
        "    )\n",
        "    word = re.sub(r'-', '', word)\n",
        "    word = re.sub(r'f', 't', word)\n",
        "    word = re.sub(r'j', 'i', word)\n",
        "\n",
        "\n",
        "    return word\n",
        "\n",
        "\n",
        "def levenshtein_distance(a, b):\n",
        "    \"\"\"Calculate the Levenshtein distance between two strings.\"\"\"\n",
        "    len_a, len_b = len(a), len(b)\n",
        "    dp = [[0] * (len_b + 1) for _ in range(len_a + 1)]\n",
        "\n",
        "    # Initialize base cases\n",
        "    for i in range(len_a + 1):\n",
        "        dp[i][0] = i  # Cost of deleting all characters from `a`\n",
        "    for j in range(len_b + 1):\n",
        "        dp[0][j] = j  # Cost of inserting all characters into `a`\n",
        "\n",
        "    # Compute distances\n",
        "    for i in range(1, len_a + 1):\n",
        "        for j in range(1, len_b + 1):\n",
        "            if a[i - 1] == b[j - 1]:\n",
        "                cost = 0  # No cost if characters match\n",
        "            else:\n",
        "                cost = 1  # Substitution cost\n",
        "            dp[i][j] = min(\n",
        "                dp[i - 1][j] + 1,      # Deletion\n",
        "                dp[i][j - 1] + 1,      # Insertion\n",
        "                dp[i - 1][j - 1] + cost  # Substitution\n",
        "            )\n",
        "\n",
        "    return dp[len_a][len_b]\n",
        "\n",
        "\n",
        "def words_similar(word1, word2, threshold=0.5):\n",
        "    \"\"\"\n",
        "    Check if two words are similar based on Levenshtein distance\n",
        "    after normalization.\n",
        "\n",
        "    Args:\n",
        "        word1 (str): First word.\n",
        "        word2 (str): Second word.\n",
        "        threshold (float): Maximum allowed distance as a fraction of word length.\n",
        "\n",
        "    Returns:\n",
        "        bool: True if the words are similar enough, False otherwise.\n",
        "    \"\"\"\n",
        "    if(word1 == 'None' and word1 == word2):\n",
        "        return True, 4\n",
        "    if(word1 == 'None'):\n",
        "        return False, len(word2)\n",
        "    if(word2 == 'None'):\n",
        "        return False, len(word1)\n",
        "    # Normalize both words\n",
        "    word1 = normalize_word(word1)\n",
        "    word2 = normalize_word(word2)\n",
        "    # Calculate Levenshtein distance\n",
        "    distance = levenshtein_distance(word1, word2)\n",
        "    if(distance <= threshold * max(len(word2), len(word1))):\n",
        "      return True , distance\n",
        "    else:\n",
        "      return False , distance\n",
        "\n",
        "\n",
        "def MED_to_word(sen1, sen2):\n",
        "    # Initialize cache for MED calculation and operations tracking\n",
        "    sen1 = sen1.strip()\n",
        "    sen2 = sen2.strip()\n",
        "    seq1 = sen1.split(' ')\n",
        "    seq2 = sen2.split(' ')\n",
        "    cache = [[float(\"inf\")] * (len(seq2) + 1) for _ in range(len(seq1) + 1)]\n",
        "    ops = [[None] * (len(seq2) + 1) for _ in range(len(seq1) + 1)]\n",
        "\n",
        "    # Fill base cases\n",
        "    for j in range(len(seq2) + 1):\n",
        "        cache[len(seq1)][j] = len(seq2) - j\n",
        "        ops[len(seq1)][j] = 'insert'  # Need to insert remaining qn chars\n",
        "    for i in range(len(seq1) + 1):\n",
        "        cache[i][len(seq2)] = len(seq1) - i\n",
        "        ops[i][len(seq2)] = 'delete'  # Need to delete remaining seq1 chars\n",
        "\n",
        "    # Fill the cache and ops table\n",
        "    for i in range(len(seq1) - 1, -1, -1):\n",
        "        for j in range(len(seq2) - 1, -1, -1):\n",
        "            compare, dis = words_similar(seq1[i],seq2[j])\n",
        "            if compare:\n",
        "                cache[i][j] = cache[i + 1][j + 1]\n",
        "                ops[i][j] = 'match'  # Characters match, move diagonally\n",
        "            else:\n",
        "                # Consider all operations: insert, delete, substitute\n",
        "                insert_cost = 1 + cache[i][j + 1]\n",
        "                delete_cost = 1 + cache[i + 1][j]\n",
        "                substitute_cost = 1 + cache[i + 1][j + 1]\n",
        "\n",
        "                # Choose the operation with the minimum cost\n",
        "                if insert_cost <= delete_cost and insert_cost <= substitute_cost:\n",
        "                    cache[i][j] = insert_cost\n",
        "                    ops[i][j] = 'insert'\n",
        "                elif delete_cost <= insert_cost and delete_cost <= substitute_cost:\n",
        "                    cache[i][j] = delete_cost\n",
        "                    ops[i][j] = 'delete'\n",
        "                else:\n",
        "                    cache[i][j] = substitute_cost\n",
        "                    ops[i][j] = 'substitute'\n",
        "\n",
        "    # Backtrack\n",
        "    aligned_seq1, aligned_seq2 = [], []\n",
        "    i, j = 0, 0\n",
        "    while i < len(seq1) or j < len(seq2):\n",
        "        if i < len(seq1) and j < len(seq2) and ops[i][j] == 'match':\n",
        "            aligned_seq1.append(seq1[i])\n",
        "            aligned_seq2.append(seq2[j])\n",
        "            i += 1\n",
        "            j += 1\n",
        "        elif i < len(seq1) and ops[i][j] == 'delete':\n",
        "            aligned_seq1.append(seq1[i])\n",
        "            aligned_seq2.append('None')\n",
        "            i += 1\n",
        "        elif j < len(seq2) and ops[i][j] == 'insert':\n",
        "            aligned_seq1.append('None')\n",
        "            aligned_seq2.append(seq2[j])\n",
        "            j += 1\n",
        "        elif i < len(seq1) and j < len(seq2) and ops[i][j] == 'substitute':\n",
        "            aligned_seq1.append(seq1[i])\n",
        "            aligned_seq2.append(seq2[j])\n",
        "            i += 1\n",
        "            j += 1\n",
        "\n",
        "    aligned_seq1 = ' '.join(aligned_seq1)\n",
        "    aligned_seq2 = ' '.join(aligned_seq2)\n",
        "    return aligned_seq1, aligned_seq2\n",
        "\n",
        "\n",
        "def align_multiple_sequences(sequences, best_ocr = 1):\n",
        "    cnt = len(sequences)\n",
        "    try_case = 0\n",
        "    while try_case < len(sequences):\n",
        "        aligned_sequences = sequences[:]\n",
        "        limit = 0\n",
        "        base_sequence = aligned_sequences.pop(try_case)\n",
        "        while limit < 10:\n",
        "            # Align each remaining sequence to the base sequence\n",
        "            updated_sequences = []\n",
        "            for seq in aligned_sequences:\n",
        "                aligned_seq, base_sequence = MED_to_word(seq, base_sequence)\n",
        "                updated_sequences.append(aligned_seq)\n",
        "\n",
        "            # Update the list of aligned sequences\n",
        "            aligned_sequences = updated_sequences\n",
        "\n",
        "            # Check if all sequences are aligned to the same length\n",
        "\n",
        "\n",
        "            if all(len(seq. split(' ')) == len(base_sequence.split(' ')) for seq in aligned_sequences):\n",
        "                aligned_sequences.append(base_sequence)\n",
        "                return aligned_sequences, 0\n",
        "\n",
        "\n",
        "\n",
        "            limit += 1\n",
        "\n",
        "        try_case += 1\n",
        "\n",
        "\n",
        "    # If can't align return the best ocr result\n",
        "    res = []\n",
        "    for i in range(cnt):\n",
        "        res.append(sequences[best_ocr])\n",
        "    return res, 1\n",
        "\n",
        "\n",
        "def read_ocr_inputs(csv_file):\n",
        "    ocr_outputs = []\n",
        "    with open(csv_file, mode='r', encoding='utf-8') as file:\n",
        "        reader = csv.reader(file)\n",
        "        for row in reader:\n",
        "            # Skip the filename column and extract the next 4 columns\n",
        "            ocr_outputs.append(row[1:5])  # Columns 2 to 5 (0-based index)\n",
        "\n",
        "    return ocr_outputs\n",
        "\n",
        "\n",
        "import string\n",
        "\n",
        "def most_common_end_punctuation(strings):\n",
        "    \"\"\"\n",
        "    Find the most common ending punctuation in a list of strings.\n",
        "    :param strings: List of strings\n",
        "    :return: The most common ending punctuation and its count\n",
        "    \"\"\"\n",
        "    end_punctuations = []\n",
        "\n",
        "    # Define punctuation characters\n",
        "    punctuation_set = {'?', '!', '.', ';' , ',', ']', '}', '%' , '$', '…'}\n",
        "\n",
        "    # Collect ending punctuation from each string\n",
        "    for s in strings:\n",
        "        if s and s[-1] in punctuation_set:\n",
        "            end_punctuations.append(s[-1])\n",
        "\n",
        "    # Use Counter to find the most common ending punctuation\n",
        "    if end_punctuations:\n",
        "        counter = Counter(end_punctuations)\n",
        "        return counter.most_common(1)[0][0]  # Return the most common punctuation and its count\n",
        "    else:\n",
        "        return '' # No ending punctuation found\n",
        "\n",
        "def most_common_start_punctuation(strings):\n",
        "    \"\"\"\n",
        "    Find the most common start punctuation in a list of strings.\n",
        "    :param strings: List of strings\n",
        "    :return: The most common start punctuation and its count\n",
        "    \"\"\"\n",
        "    start_punctuations = []\n",
        "\n",
        "    # Define punctuation characters\n",
        "    punctuation_set = ['-', '\"', '(' , '{', '[']\n",
        "\n",
        "    # Collect ending punctuation from each string\n",
        "    for s in strings:\n",
        "        if s and s[0] in punctuation_set:\n",
        "            start_punctuations.append(s[0])\n",
        "\n",
        "    # Use Counter to find the most common ending punctuation\n",
        "    if start_punctuations:\n",
        "        counter = Counter(start_punctuations)\n",
        "        return counter.most_common(1)[0][0]  # Return the most common punctuation and its count\n",
        "    else:\n",
        "        return '' # No ending punctuation found\n",
        "\n",
        "def is_integer(s):\n",
        "    \"\"\"\n",
        "    Check if a string represents an integer.\n",
        "    :param s: Input string\n",
        "    :return: True if the string represents an integer, False otherwise\n",
        "    \"\"\"\n",
        "    try:\n",
        "        int(s)  # Try converting the string to an integer\n",
        "        return True\n",
        "    except ValueError:\n",
        "        return False\n",
        "\n",
        "def vote(list_word, vietnam_word_list, normalize_vietnam_list):\n",
        "\n",
        "    vote_container = []\n",
        "    weight_container = []\n",
        "    begin_punctuation = most_common_start_punctuation(list_word)\n",
        "    end_punctuation = most_common_end_punctuation(list_word)\n",
        "\n",
        "    for i in range(len(list_word)): #Early termination if there is a valid word and a word same to it\n",
        "        i = len(list_word) - 1 - i\n",
        "        nw = re.sub(r'[.,:_;?/\"()…]', '', list_word[i])\n",
        "        if(nw == '' or nw == 'None'):\n",
        "            continue\n",
        "        in_list, similar_words = check_word_in_file(nw, vietnam_word_list, normalize_vietnam_list)\n",
        "        if in_list:\n",
        "            for j in range(len(list_word)):\n",
        "                if(i != j):\n",
        "                    now = re.sub(r'[.,:_;?/\"()…]', '', list_word[j])\n",
        "                    if(now == nw):\n",
        "                        return list_word[i], 2004\n",
        "\n",
        "    for i , word in enumerate(reversed(list_word)):\n",
        "        org_word = word\n",
        "        if word == 'None' or word == '':\n",
        "            continue\n",
        "        word = re.sub(r'[.,:_;?/\"()…]', '', word)\n",
        "        if is_integer(word):\n",
        "            vote_container.append(word)\n",
        "            weight_container.append(1)\n",
        "            continue\n",
        "        in_list, similar_words = check_word_in_file(word, vietnam_word_list, normalize_vietnam_list)\n",
        "        if in_list:\n",
        "            for other_word in list_word:\n",
        "                if org_word != other_word:  # Avoid comparing the same element\n",
        "                    other_word = re.sub(r'[.,:_;?/\"(){}[]…]', '', other_word)\n",
        "                    nw = normalize_vietnamese(normalize_word(word))\n",
        "                    now = normalize_vietnamese(normalize_word(other_word))\n",
        "                    similar, dist = words_similar(nw, now, threshold = 0.3)\n",
        "                    if(similar): #Early termination if there is a valid word and a word similar to it\n",
        "                            return begin_punctuation + word + end_punctuation, 2011\n",
        "\n",
        "            vote_container.append(word)\n",
        "            weight_container.append(1 * (1.25 * (i // 2)))\n",
        "            continue\n",
        "        for sim in similar_words:\n",
        "            vote_container.append(sim)\n",
        "            dist = levenshtein_distance(sim, word)\n",
        "            weight_container.append(0.68 * (1 - dist/max(len(word), len(sim))) * (1.25 * (i // 2)))\n",
        "\n",
        "    if not vote_container:\n",
        "        if begin_punctuation == '' and end_punctuation == '':\n",
        "            return None, 0  # Return None if the list is empty\n",
        "        else:\n",
        "            return begin_punctuation + end_punctuation, 1\n",
        "\n",
        "    if len(vote_container) != len(weight_container):\n",
        "        raise ValueError(\"vote_container and weight_container must have the same length.\")\n",
        "\n",
        "        # Aggregate weights for each unique vote\n",
        "    weight_sum = defaultdict(float)\n",
        "    for vote, weight in zip(vote_container, weight_container):\n",
        "        weight_sum[vote] += weight\n",
        "\n",
        "    # Find the item with the highest total weight\n",
        "    most_common = max(weight_sum.items(), key=lambda item: item[1])\n",
        "    most_common_item, total_weight = most_common\n",
        "\n",
        "    return begin_punctuation + most_common_item + end_punctuation , total_weight\n",
        "\n",
        "\n",
        "def read_and_vote(warp_images_list, vietnam_word_list, normalize_vietnam_list ):\n",
        "\n",
        "    # for bbox in df[\"Bounding Box\"]:  # Select by column label\n",
        "\n",
        "    # Iterate through rows starting from the second row\n",
        "    rowID = 1\n",
        "    image_list = []\n",
        "    for image_id, warp_images in enumerate(warp_images_list):\n",
        "          line_list = []\n",
        "          for warp_image in warp_images:\n",
        "\n",
        "              pil_img = Image.fromarray(warp_image)\n",
        "              sentence1 = VietOCRrecognitor.predict(pil_img) # VietOCR text\n",
        "              sentence2 = easyocr_ocr(warp_image) # Easy OCR text\n",
        "              sentence3 = Surya_ocr(pil_img)   # Surya text\n",
        "\n",
        "\n",
        "              sequences = [sentence1, sentence2, sentence3]\n",
        "              align_sentences, success = align_multiple_sequences(sequences)\n",
        "              vote_sentence_splits = []\n",
        "\n",
        "              if success == '1':\n",
        "                  vote_sentence = align_sentences[0]\n",
        "              else:\n",
        "                  sentences_splits = []\n",
        "                  for align in align_sentences:\n",
        "                      word_list = align.split(' ')\n",
        "                      sentences_splits.append(word_list)\n",
        "                  for i in range(len(sentences_splits[0])):\n",
        "                      word1 = sentences_splits[0][i]\n",
        "                      word2 = sentences_splits[1][i]\n",
        "                      word3 = sentences_splits[2][i]\n",
        "\n",
        "                      list_word_to_vote = [word1, word2, word3]\n",
        "                      vote_word = vote(list_word_to_vote, vietnam_word_list, normalize_vietnam_list)\n",
        "\n",
        "                      if vote_word[0]:\n",
        "                          vote_sentence_splits.append(vote_word[0])\n",
        "\n",
        "                  vote_sentence = ' '.join(vote_sentence_splits)\n",
        "                  print(vote_sentence)\n",
        "                  line_list.append(vote_sentence)\n",
        "          image_list.append(line_list)\n",
        "    return image_list\n",
        "\n",
        "          # Writing the voted text and bounding box to a text file\n",
        "          # Assuming warp_image contains the image ID and bounding boxes in some form\n",
        "          #image_id = warp_image[\"image_id\"]  # Replace with actual image ID retrieval\n",
        "          # bounding_boxes = warp_image[\"bounding_boxes\"]  # Replace with actual bounding box retrieval\n",
        "\n",
        "          # label_file_path = os.path.join(output_folder, f\"{image_id}.txt\")\n",
        "          # with open(label_file_path, 'w') as label_file:\n",
        "          #     for i, bbox in enumerate(bounding_boxes):\n",
        "          #         # bbox is assumed to be a tuple or list (x_min, y_min, x_max, y_max)\n",
        "          #         label_line = f\"{bbox} {vote_sentence}\\n\"\n",
        "          #         label_file.write(label_line)\n",
        "\n",
        "\n",
        "# Example usage\n",
        "vietnamese_file_path = '/content/voting-system/voting/VN_MorphoSyllable_List.txt'\n",
        "vietnam_word_list = load_words(vietnamese_file_path)\n",
        "normalize_vietnam_list = load_normalize_words(vietnamese_file_path)\n",
        "voted_ocr = read_and_vote(processed_regions, vietnam_word_list, normalize_vietnam_list)\n",
        "\n"
      ]
    },
    {
      "cell_type": "markdown",
      "metadata": {
        "id": "oQnIe1lm4V6M"
      },
      "source": [
        "#Apply Language Model"
      ]
    },
    {
      "cell_type": "code",
      "execution_count": 24,
      "metadata": {
        "id": "Dps0r6ll4Yfq",
        "colab": {
          "base_uri": "https://localhost:8080/",
          "height": 226,
          "referenced_widgets": [
            "e517e452c5ae4cc8977ec7fedd42c04f",
            "5e9627f58c264916aa5d73c2f4ff369e",
            "ce3b58a6dec64845975ad4530682169f",
            "4dede7f691dd464e9217f2554c1c41a5",
            "9d0ff09a54f44563b19afee62f65d28f",
            "b4d1e490c8094de19806de44d66d5ec0",
            "997356d9779b4627aa1d32726b1cd7e2",
            "829400ada660415bb312e4cd61aa0cc7",
            "4705193bc5e845bdba1d96a4f647bb71",
            "5eaaec7d4ce549e3b8314d4d2865ddfc",
            "2e4ade5404414f17ba16a549f9ad4e62",
            "78b8071a699c413a887c994554c10b80",
            "7c4e91b5708b496bbbb47c9809b8e302",
            "8ffb301b07e246ed83fb0417e44b457f",
            "b44155deadb74df2b4a6fbe6703d6be2",
            "0927332ee76a4e6e999cd1301c704be0",
            "cae7db3ce2d1468d80065bdaa4e433df",
            "472f19fbd9a542f4a429fc73f2a7eaa0",
            "d196f53d9e7b40839fc6e48d944d2abd",
            "59e23644a957410da0bae566cc1a08f7",
            "53b62af7e5a845e486da5fd613826f1b",
            "07d78ef701d34ade88dd7abd34b76503",
            "b13e0b2df4654e67849ee329819aa300",
            "c5f2aa6c9ecb4d1ab3142948fdba47b4",
            "8cf7eebc89794d99a0c1040168bf0983",
            "69852c266a464f088fa2e2e5439702d8",
            "db4fdc646a4d4ea2ad11cd456f39eb27",
            "af9e399d339c4140b7b2bda816dad530",
            "5d7905e5759a4a26a49da8ce0caa82dc",
            "d509ae997e614d0d8e0273c7ab51ee22",
            "4a995d81f39f48828a533c5202a3411f",
            "6e33ae77d3394b9e92fedf2854b51f3c",
            "b790fba488a746cf97c4b97a6b7b6700",
            "d727639874d64b08b87d35d61d9719d4",
            "2781c268ba1542bc8559a1f9f879307b",
            "c63ac11865f84f44a2475d8467438deb",
            "892f97bb42224a3996a012f9f21ba4b1",
            "9c1671ed3536449d902e5f088d8e1e0a",
            "19a827dc09744c8baae30793baa8894c",
            "aa7517c0f7704fbba3c7115c9190761d",
            "340da51614e6411fbf3da80eca31a21c",
            "0c68b9dce081468089f295ccf06ebbff",
            "2017df7bda53410c8a4ea4b31e7e0b5b",
            "0a93a6ea9f87443aaa6f8f78e9292ab1",
            "fbe27503797240b8816a0b3799b9cf32",
            "6a6e3e562e014479a6c53c18ceeb9b9d",
            "ff61d284d27041e689a77e0dfda247ca",
            "1bed7c2673e440af81f32eb8b93e9cf0",
            "8c80927f5e304b00a2f6307ce8734f3c",
            "701dfbe472644705b846e6390a846bd7",
            "512d0d06ac434216996fe8ad8257c442",
            "30f8a15f4e1f49a596396d7fdb1287cf",
            "34879d928f424bc7aadad5ee7af99b0b",
            "37133185bda34bc88d8847ab9eb847b4",
            "797daa95ebae4fa89001331cd4ef48c5",
            "57c5efaf65bb49719a4eb8809708c1b6",
            "0790a1dfdbf6489aa4e572e6b3b5ce4f",
            "4a84e371441b49d1975212247d6d0436",
            "8a63029541a54c3fa916bbbc79318097",
            "b9c156bfee874dd6af3a24c41c42d40b",
            "ddc321236c0840208ca7fa3d5c6377b2",
            "ccb31e69bf6e43cf9cf50b280e9b68d5",
            "24a3f57c301b42dd90d682ac76baf4dc",
            "aec6d97c30df4a44a1292585d77ecb71",
            "423f7321a99344829d7f7ca0816c8f28",
            "815993d155754b258d20f9d851c239d6"
          ]
        },
        "outputId": "84461bd7-9343-4e29-f215-d45ab9c8b82b"
      },
      "outputs": [
        {
          "output_type": "display_data",
          "data": {
            "text/plain": [
              "config.json:   0%|          | 0.00/961 [00:00<?, ?B/s]"
            ],
            "application/vnd.jupyter.widget-view+json": {
              "version_major": 2,
              "version_minor": 0,
              "model_id": "e517e452c5ae4cc8977ec7fedd42c04f"
            }
          },
          "metadata": {}
        },
        {
          "output_type": "display_data",
          "data": {
            "text/plain": [
              "model.safetensors:   0%|          | 0.00/1.58G [00:00<?, ?B/s]"
            ],
            "application/vnd.jupyter.widget-view+json": {
              "version_major": 2,
              "version_minor": 0,
              "model_id": "78b8071a699c413a887c994554c10b80"
            }
          },
          "metadata": {}
        },
        {
          "output_type": "display_data",
          "data": {
            "text/plain": [
              "tokenizer_config.json:   0%|          | 0.00/1.17k [00:00<?, ?B/s]"
            ],
            "application/vnd.jupyter.widget-view+json": {
              "version_major": 2,
              "version_minor": 0,
              "model_id": "b13e0b2df4654e67849ee329819aa300"
            }
          },
          "metadata": {}
        },
        {
          "output_type": "display_data",
          "data": {
            "text/plain": [
              "sentencepiece.bpe.model:   0%|          | 0.00/5.07M [00:00<?, ?B/s]"
            ],
            "application/vnd.jupyter.widget-view+json": {
              "version_major": 2,
              "version_minor": 0,
              "model_id": "d727639874d64b08b87d35d61d9719d4"
            }
          },
          "metadata": {}
        },
        {
          "output_type": "display_data",
          "data": {
            "text/plain": [
              "dict.txt:   0%|          | 0.00/360k [00:00<?, ?B/s]"
            ],
            "application/vnd.jupyter.widget-view+json": {
              "version_major": 2,
              "version_minor": 0,
              "model_id": "fbe27503797240b8816a0b3799b9cf32"
            }
          },
          "metadata": {}
        },
        {
          "output_type": "display_data",
          "data": {
            "text/plain": [
              "special_tokens_map.json:   0%|          | 0.00/279 [00:00<?, ?B/s]"
            ],
            "application/vnd.jupyter.widget-view+json": {
              "version_major": 2,
              "version_minor": 0,
              "model_id": "57c5efaf65bb49719a4eb8809708c1b6"
            }
          },
          "metadata": {}
        },
        {
          "output_type": "stream",
          "name": "stderr",
          "text": [
            "Device set to use cuda:0\n"
          ]
        }
      ],
      "source": [
        "from transformers import pipeline\n",
        "corrector = pipeline(\"text2text-generation\", model=\"bmd1905/vietnamese-correction-v2\", device=0)\n",
        "MAX_LENGTH = 512"
      ]
    },
    {
      "cell_type": "code",
      "execution_count": 25,
      "metadata": {
        "id": "C6iP1yGVO6jE"
      },
      "outputs": [],
      "source": [
        "def revert_pipeline_changes(ocr_lines, predictions):\n",
        "    check_list = []\n",
        "    reverted_lines = []\n",
        "\n",
        "    for row, (ocr_line, prediction) in enumerate(zip(ocr_lines, predictions)):\n",
        "        pred_text = prediction['generated_text']\n",
        "\n",
        "        # Remove added capitalization if OCR doesn't have it\n",
        "        if ocr_line and pred_text[0].isupper() and ocr_line[0].islower():\n",
        "            pred_text = pred_text[0].lower() + pred_text[1:]\n",
        "\n",
        "        # Remove added punctuation if OCR doesn't have it\n",
        "        if ocr_line and not ocr_line.endswith(\".\") and pred_text.endswith(\".\"):\n",
        "            check_list.append((row + 2, 1))\n",
        "            pred_text = pred_text[:-1]\n",
        "        elif ocr_line and not ocr_line.endswith(\"!\") and pred_text.endswith(\"!\"):\n",
        "            check_list.append((row + 2, 1))\n",
        "            pred_text = pred_text[:-1]\n",
        "        elif ocr_line and not ocr_line.endswith(\"?\") and pred_text.endswith(\"?\"):\n",
        "            check_list.append((row + 2, 1))\n",
        "            pred_text = pred_text[:-1]\n",
        "        elif ocr_line and not ocr_line.endswith(\":\") and pred_text.endswith(\":\"):\n",
        "            check_list.append((row + 2, 1))\n",
        "            pred_text = pred_text[:-1]\n",
        "        elif ocr_line and not ocr_line.endswith(\"…\") and pred_text.endswith(\"…\"):\n",
        "            check_list.append((row + 2, 1))\n",
        "            pred_text = pred_text[:-1]\n",
        "        elif ocr_line and not ocr_line.endswith(\",\") and pred_text.endswith(\",\"):\n",
        "            check_list.append((row + 2, 1))\n",
        "            pred_text = pred_text[:-1]\n",
        "\n",
        "        ocr_word = ocr_line.split()\n",
        "        pred_word = pred_text.split()\n",
        "        if len(pred_word) - len(ocr_word) > 1:\n",
        "            check_list.append((row + 2, 2))\n",
        "            pred_text = \" \".join(pred_word[:len(ocr_word)])\n",
        "        elif len(pred_word) - len(ocr_word) == 1 and levenshtein_distance(pred_word[1], ocr_word[0])/len(ocr_word[0]) < 0.5:\n",
        "            check_list.append((row + 2, 3))\n",
        "            pred_text = \" \".join(pred_word[1:])\n",
        "        elif len(pred_word) - len(ocr_word) == 1:\n",
        "            check_list.append((row + 2, 4))\n",
        "            pred_text = \" \".join(pred_word[:-1])\n",
        "\n",
        "        reverted_lines.append(pred_text)\n",
        "\n",
        "    return reverted_lines, check_list\n",
        "\n",
        "\n",
        "def batch_predictions(voted_ocr):\n",
        "    predictions = corrector(voted_ocr, max_length=MAX_LENGTH)\n",
        "    return predictions"
      ]
    },
    {
      "cell_type": "code",
      "execution_count": 26,
      "metadata": {
        "id": "q4SRXIjSPqaO",
        "colab": {
          "base_uri": "https://localhost:8080/"
        },
        "outputId": "ca2aae94-7c68-49ef-c5af-b425f58639f0"
      },
      "outputs": [
        {
          "output_type": "stream",
          "name": "stdout",
          "text": [
            "[['đứng ngay trên bãi đất trống. Con ngựa già lông hung', 'vục mõm vào giỏ vừa nhai cỏ vừa rùng mình buồi', 'nhặng, Đám lông nơi khuỷu chân trắng phếch bui đường.', 'Gần đó, khoảng đát lầm bụi cát đã được khoanh lại', 'bởi những sợi thừng chăng qua bốn cây cọc. Chủ gánh', 'xiếc, một người đàn ông thấp lùn, nhỏ bé, cái đầu', 'phinh ra một cách dị thường, da đen xạm, mắt long', 'anh đang biểu diễn trò nuốt lửa, xiên linh, nhào lộn', 'trên dây. Sau đó, ông ta tự bịt mắt bằng một tấm vải', 'đen rồi phóng dao lên tâm bảng gỗ, Những con dao', 'nhọn cắm phầm phập trên tấm gỗ mềm, đứng áp lưng', 'vào tấm bảng, vợ người chủ gánh xiếc dang hai tay.', 'ngầng cao đầu với vẻ gan góc và hùng dũng hiếm có', 'Đen trũi, dữ tợn, to béo như hộ pháp, người đàn bà', 'đó khiến chúng tôi vừa kính nề vừa khiếp sợ, bà ta', 'giương mắt nhìn những ánh thép đang loang loảng lao', 'tới một cách bình thản, trong khi chúng tôi thét lên', 'vì hoảng sợ, tim nhảy trong lồng ngực thình thình', 'Hết trò ném dao, người đàn ông gỡ mảnh vải chào đám', 'đông với vẻ khiêm nhường, đoạn ông ta quay lại phía', 'sau, giơ tay vẫy, Khi bàn tay ông hạ xuống, hai con', 'khỉ đèo nhau bằng xe đạp tiến ra. Cả hai con đều mặc', 'quần đủi đỏ viền đen, áo may ô vàng và đội, mũ át', 'két đen, Con trước lái, con sau đứng vịn vào vai hạn.', 'Hết một đợt chừng mười vòng, còn khi đứng sau nhảy', 'xuống xe, giật mũ chào người xem và xin tiền. Con', 'kia ngồi trên xe, gác chân lên giong vênh váo, khi', 'mũ đã đầy tiền giấy và xu, con khỉ chạy lại đưa cho', 'chủ gánh xiếc. Ông ta cất tiền vào túi bên trái, móc túi', 'bên phải, ra một nắm hạt dẻ hoặc vài trái chuối chín', 'thưởng cho hai con vật, rồi ông ta cúi thấp, mái đầu,', 'cảm ơn người xem và lui lại phía sau, chuẩn bị đợt', 'diễn tiếp.'], ['PHẦN THỨ NHẤT', 'ĐỨA BÉ MẤT TÍCH', 'Năm ấy tôi mười hai tuổi. Tôi ở thị trấn Rêu với', 'mẹ tôi, Thị trấn này gồm vài ba dãy phố cũ, toàn', 'những ngôi nhà lợp ngói ta. hiên rộng, cột gỗ đen bóng,', 'cánh cửa chạm cầu kỳ, vườn bao quanh trồng nhiều', 'thứ cây ăn quả và những bức tường phân cách thấp lên', 'tè, rêu loang từng đám. Bên kia, đường xe lửa, có', 'thêm một dãy phố mới, gồm những ngòi nhà cất trên', 'rẻo đất hoang và nền gạch vỡ tiêu thổ kháng chiến', 'chống Pháp. Nhà ở đây thường hai tầng, lớn nhỏ lồ', 'nhô, bao lơn có: song sắt hoa dủ kiều: Dân phố mới', 'phần lớn là thương nhân. Cửa hàng của họ bán đủ thứ', 'vải sồi, mắm muối, gạo bột, tạp hóa khác... . Sát đường', 'ray, ở giữa khu phố cũ và dãy phố mới, có một khoảng', 'đất trống. Chợ họp ở đó. Trước cửa chợ trồng cây cột', 'gỗ treo một dải lụa hồng, Hàng năm, trước ngày Tết', 'Ông Táo, người coi chợ gỡ mảnh lụa đã bợt máu vì', 'mưa qua giỏ lại, thay vào đó một dải lua mới tinh khôi', 'màu hồng thắm. Dân cư trong thị trấn nhìn về phía', 'chợ lòng hoan hỉ vì thấy dấu hiệu phồn vinh của', 'năm tới.'], ['Ga xe lửa ở ngay gần chợ, Ngày ngày, những chuyến', 'tàu xuôi ngược lướt qua đám dân ồn ào mua bán.', 'Người trên bàu thò cô ra cửa nhìn xuống chợ. Và dân', 'trong chợ, nghếch mắt nhìn con rắn kỳ dị bằng sắt', 'trường đi trên đương ray, vừa đi vừa thở phò phò, tuôn', 'về phía sau những luồng hơi trắng như muối.', 'Phía trên thị trấn chừng nửa cây số có một dòng', 'sông nhỏ, chúng tôi gọi nó là dòng sông Xanh, vì nước', 'sông xanh như thể pha màu lá nõn, Thuyền qua lại', 'luôn luôn, buồm giương lên như cánh bướm. Đôi khi,', 'gió lặng, người chủ thuyền phải nhảy xuống lội bộ,', 'kéo bằng dây chão tròng qua vai, Những đứa con nhỏ', 'ở khoảng giương mắt thao láo nhìn, và bất chợt, người', 'kéo thuyền cất lên giọng hát trầm (tràm, có nhiều chỗ..)', 'láy, Dòng sông Xanh ấy có hai gò đất lớn; ; chủng tôi', 'gọi là đảo Hoa Vàng vì chúng mọc đầy cây duối. Quả', 'duối chín vàng như kén tằm, rắc khắp các lùm cây, trông', 'như ai rắc những lớp bụi kim nhũ lên đó, Đảo Hoa', 'Vàng là nơi cất giấu kho tàng bi mật của chúng tôi.', 'Trên đảo có miếu thờ Ngũ hồ, tuy đã sụt lở nhưng', 'vẫn đủ che cho một người ngủ qua đêm, những ngày', 'dân trong; ; thị trấn ra đảo cúng Ngũ hồ, mùi hương', 'thơm lan khắp mặt sông. Tưởng như những cây duối', 'vàng rực rỡ kia tỏa hương chứ không phải những bát', 'nhang trong ngôi miếu thờ nhỏ cũ kỹ.', 'Dạo đó là mùa xuân, Bánh Tết đã hết, nhưng bánh', 'gói rằm tháng giêng còn xếp đầy trong những chiếc', 'thúng con ở bếp mọi nhà, Chợ phố họp thật đông. Vào', 'dịp này, những người bán kẹo rong chuyên hồi con', 'tò tỏa bằng đường có đặc hoặc nặn con (giống bằng bột)', 'nếp, nhuộm phẩm đều tới chợ để kiếm cách moi tiền', 'trong túi đám khách đi hội, lễ chùa ghé qua thị trấn', 'Cũng dịp ấy, gánh xiếc rong quen thuộc với lũ trẻ trong', 'thị trăn lại đến cửa chợ. Một cổ xe ngựa mui khum']]\n"
          ]
        }
      ],
      "source": [
        "LM_results = []\n",
        "for image in voted_ocr:\n",
        "  predictions = batch_predictions(image)\n",
        "  refine_ocr, check_list = revert_pipeline_changes(image, predictions)\n",
        "  LM_results.append(refine_ocr)\n",
        "\n",
        "print(LM_results)"
      ]
    },
    {
      "cell_type": "markdown",
      "source": [
        "# Final Output"
      ],
      "metadata": {
        "id": "xaCh8RT6uw6r"
      }
    },
    {
      "cell_type": "code",
      "source": [
        "import json\n",
        "\n",
        "def write_results_to_file(images_files, matched_results, text_strings, output_file):\n",
        "    \"\"\"\n",
        "    Write results to a text file in the specified format\n",
        "\n",
        "    Args:\n",
        "        images_files: List of image file paths\n",
        "        matched_results: DataFrame with Page Number and Bounding box\n",
        "        text_strings: Texts corresponding to the bounding boxes\n",
        "        output_file: Path to output text file\n",
        "    \"\"\"\n",
        "    with open(output_file, 'w', encoding='utf-8') as f:\n",
        "        # Process each page\n",
        "        for page_idx, image_path in enumerate(images_files):\n",
        "            page_num = page_idx + 1\n",
        "\n",
        "            # Write image path\n",
        "            f.write(f\"output_images/{image_path}\")\n",
        "\n",
        "            # Get boxes and texts for current page\n",
        "            page_data = matched_results[matched_results['Page Number'] == page_num]\n",
        "\n",
        "            # Create list for JSON data\n",
        "            json_data = []\n",
        "\n",
        "            # Add each box and text pair\n",
        "            for idx, row in page_data.iterrows():\n",
        "                # Convert bounding box string to list of points\n",
        "                bbox = np.array(ast.literal_eval(str(row['Bounding box'])), dtype=\"float32\")\n",
        "                points = [[int(x), int(y)] for x, y in bbox]\n",
        "\n",
        "                # Get corresponding text\n",
        "                text = text_strings[page_idx][len(json_data)]  # Use current count as index\n",
        "\n",
        "                # Create entry\n",
        "                entry = {\n",
        "                    \"transcription\": text,\n",
        "                    \"points\": points,\n",
        "                    \"difficult\": False\n",
        "                }\n",
        "                json_data.append(entry)\n",
        "\n",
        "            # Write JSON data\n",
        "            f.write(\" \" + json.dumps(json_data, ensure_ascii=False))\n",
        "            f.write(\"\\n\")\n",
        "\n",
        "output_file = output_folder + \"/LM.txt\"\n",
        "write_results_to_file(images_files, matched_results, LM_results, output_file)\n",
        "\n",
        "output_file = output_folder + \"/Vote.txt\"\n",
        "write_results_to_file(images_files, matched_results, voted_ocr, output_file)"
      ],
      "metadata": {
        "id": "BR8EtbziuzjY"
      },
      "execution_count": 27,
      "outputs": []
    }
  ],
  "metadata": {
    "accelerator": "GPU",
    "colab": {
      "gpuType": "T4",
      "provenance": []
    },
    "kernelspec": {
      "display_name": "Python 3",
      "name": "python3"
    },
    "language_info": {
      "name": "python"
    },
    "widgets": {
      "application/vnd.jupyter.widget-state+json": {
        "53c6711ebb0e4d49aa920ca099bfeada": {
          "model_module": "@jupyter-widgets/controls",
          "model_name": "HBoxModel",
          "model_module_version": "1.5.0",
          "state": {
            "_dom_classes": [],
            "_model_module": "@jupyter-widgets/controls",
            "_model_module_version": "1.5.0",
            "_model_name": "HBoxModel",
            "_view_count": null,
            "_view_module": "@jupyter-widgets/controls",
            "_view_module_version": "1.5.0",
            "_view_name": "HBoxView",
            "box_style": "",
            "children": [
              "IPY_MODEL_3ddb9943bf9f4d57b24fb0a9bb7b423b",
              "IPY_MODEL_2946f155b66c49d78ea5448e22ce5e50",
              "IPY_MODEL_b41499cc099c43f1bbbe1e9af53b8987"
            ],
            "layout": "IPY_MODEL_a9313959e3504f38b17d66c66b42945b"
          }
        },
        "3ddb9943bf9f4d57b24fb0a9bb7b423b": {
          "model_module": "@jupyter-widgets/controls",
          "model_name": "HTMLModel",
          "model_module_version": "1.5.0",
          "state": {
            "_dom_classes": [],
            "_model_module": "@jupyter-widgets/controls",
            "_model_module_version": "1.5.0",
            "_model_name": "HTMLModel",
            "_view_count": null,
            "_view_module": "@jupyter-widgets/controls",
            "_view_module_version": "1.5.0",
            "_view_name": "HTMLView",
            "description": "",
            "description_tooltip": null,
            "layout": "IPY_MODEL_18bab88ffe724e098cce8462bf523c76",
            "placeholder": "​",
            "style": "IPY_MODEL_b99913a49bca402cb2c6be64de4cffe3",
            "value": "config.json: 100%"
          }
        },
        "2946f155b66c49d78ea5448e22ce5e50": {
          "model_module": "@jupyter-widgets/controls",
          "model_name": "FloatProgressModel",
          "model_module_version": "1.5.0",
          "state": {
            "_dom_classes": [],
            "_model_module": "@jupyter-widgets/controls",
            "_model_module_version": "1.5.0",
            "_model_name": "FloatProgressModel",
            "_view_count": null,
            "_view_module": "@jupyter-widgets/controls",
            "_view_module_version": "1.5.0",
            "_view_name": "ProgressView",
            "bar_style": "success",
            "description": "",
            "description_tooltip": null,
            "layout": "IPY_MODEL_fb95849e49714c549f49adb4d4bfa566",
            "max": 811,
            "min": 0,
            "orientation": "horizontal",
            "style": "IPY_MODEL_932b684e4c8049c4987c249f65d1f98c",
            "value": 811
          }
        },
        "b41499cc099c43f1bbbe1e9af53b8987": {
          "model_module": "@jupyter-widgets/controls",
          "model_name": "HTMLModel",
          "model_module_version": "1.5.0",
          "state": {
            "_dom_classes": [],
            "_model_module": "@jupyter-widgets/controls",
            "_model_module_version": "1.5.0",
            "_model_name": "HTMLModel",
            "_view_count": null,
            "_view_module": "@jupyter-widgets/controls",
            "_view_module_version": "1.5.0",
            "_view_name": "HTMLView",
            "description": "",
            "description_tooltip": null,
            "layout": "IPY_MODEL_8858a35dec294b9a99bcf1dea78be59b",
            "placeholder": "​",
            "style": "IPY_MODEL_73d2c3c0f7084ec2ba6498a98c017fa7",
            "value": " 811/811 [00:00&lt;00:00, 48.1kB/s]"
          }
        },
        "a9313959e3504f38b17d66c66b42945b": {
          "model_module": "@jupyter-widgets/base",
          "model_name": "LayoutModel",
          "model_module_version": "1.2.0",
          "state": {
            "_model_module": "@jupyter-widgets/base",
            "_model_module_version": "1.2.0",
            "_model_name": "LayoutModel",
            "_view_count": null,
            "_view_module": "@jupyter-widgets/base",
            "_view_module_version": "1.2.0",
            "_view_name": "LayoutView",
            "align_content": null,
            "align_items": null,
            "align_self": null,
            "border": null,
            "bottom": null,
            "display": null,
            "flex": null,
            "flex_flow": null,
            "grid_area": null,
            "grid_auto_columns": null,
            "grid_auto_flow": null,
            "grid_auto_rows": null,
            "grid_column": null,
            "grid_gap": null,
            "grid_row": null,
            "grid_template_areas": null,
            "grid_template_columns": null,
            "grid_template_rows": null,
            "height": null,
            "justify_content": null,
            "justify_items": null,
            "left": null,
            "margin": null,
            "max_height": null,
            "max_width": null,
            "min_height": null,
            "min_width": null,
            "object_fit": null,
            "object_position": null,
            "order": null,
            "overflow": null,
            "overflow_x": null,
            "overflow_y": null,
            "padding": null,
            "right": null,
            "top": null,
            "visibility": null,
            "width": null
          }
        },
        "18bab88ffe724e098cce8462bf523c76": {
          "model_module": "@jupyter-widgets/base",
          "model_name": "LayoutModel",
          "model_module_version": "1.2.0",
          "state": {
            "_model_module": "@jupyter-widgets/base",
            "_model_module_version": "1.2.0",
            "_model_name": "LayoutModel",
            "_view_count": null,
            "_view_module": "@jupyter-widgets/base",
            "_view_module_version": "1.2.0",
            "_view_name": "LayoutView",
            "align_content": null,
            "align_items": null,
            "align_self": null,
            "border": null,
            "bottom": null,
            "display": null,
            "flex": null,
            "flex_flow": null,
            "grid_area": null,
            "grid_auto_columns": null,
            "grid_auto_flow": null,
            "grid_auto_rows": null,
            "grid_column": null,
            "grid_gap": null,
            "grid_row": null,
            "grid_template_areas": null,
            "grid_template_columns": null,
            "grid_template_rows": null,
            "height": null,
            "justify_content": null,
            "justify_items": null,
            "left": null,
            "margin": null,
            "max_height": null,
            "max_width": null,
            "min_height": null,
            "min_width": null,
            "object_fit": null,
            "object_position": null,
            "order": null,
            "overflow": null,
            "overflow_x": null,
            "overflow_y": null,
            "padding": null,
            "right": null,
            "top": null,
            "visibility": null,
            "width": null
          }
        },
        "b99913a49bca402cb2c6be64de4cffe3": {
          "model_module": "@jupyter-widgets/controls",
          "model_name": "DescriptionStyleModel",
          "model_module_version": "1.5.0",
          "state": {
            "_model_module": "@jupyter-widgets/controls",
            "_model_module_version": "1.5.0",
            "_model_name": "DescriptionStyleModel",
            "_view_count": null,
            "_view_module": "@jupyter-widgets/base",
            "_view_module_version": "1.2.0",
            "_view_name": "StyleView",
            "description_width": ""
          }
        },
        "fb95849e49714c549f49adb4d4bfa566": {
          "model_module": "@jupyter-widgets/base",
          "model_name": "LayoutModel",
          "model_module_version": "1.2.0",
          "state": {
            "_model_module": "@jupyter-widgets/base",
            "_model_module_version": "1.2.0",
            "_model_name": "LayoutModel",
            "_view_count": null,
            "_view_module": "@jupyter-widgets/base",
            "_view_module_version": "1.2.0",
            "_view_name": "LayoutView",
            "align_content": null,
            "align_items": null,
            "align_self": null,
            "border": null,
            "bottom": null,
            "display": null,
            "flex": null,
            "flex_flow": null,
            "grid_area": null,
            "grid_auto_columns": null,
            "grid_auto_flow": null,
            "grid_auto_rows": null,
            "grid_column": null,
            "grid_gap": null,
            "grid_row": null,
            "grid_template_areas": null,
            "grid_template_columns": null,
            "grid_template_rows": null,
            "height": null,
            "justify_content": null,
            "justify_items": null,
            "left": null,
            "margin": null,
            "max_height": null,
            "max_width": null,
            "min_height": null,
            "min_width": null,
            "object_fit": null,
            "object_position": null,
            "order": null,
            "overflow": null,
            "overflow_x": null,
            "overflow_y": null,
            "padding": null,
            "right": null,
            "top": null,
            "visibility": null,
            "width": null
          }
        },
        "932b684e4c8049c4987c249f65d1f98c": {
          "model_module": "@jupyter-widgets/controls",
          "model_name": "ProgressStyleModel",
          "model_module_version": "1.5.0",
          "state": {
            "_model_module": "@jupyter-widgets/controls",
            "_model_module_version": "1.5.0",
            "_model_name": "ProgressStyleModel",
            "_view_count": null,
            "_view_module": "@jupyter-widgets/base",
            "_view_module_version": "1.2.0",
            "_view_name": "StyleView",
            "bar_color": null,
            "description_width": ""
          }
        },
        "8858a35dec294b9a99bcf1dea78be59b": {
          "model_module": "@jupyter-widgets/base",
          "model_name": "LayoutModel",
          "model_module_version": "1.2.0",
          "state": {
            "_model_module": "@jupyter-widgets/base",
            "_model_module_version": "1.2.0",
            "_model_name": "LayoutModel",
            "_view_count": null,
            "_view_module": "@jupyter-widgets/base",
            "_view_module_version": "1.2.0",
            "_view_name": "LayoutView",
            "align_content": null,
            "align_items": null,
            "align_self": null,
            "border": null,
            "bottom": null,
            "display": null,
            "flex": null,
            "flex_flow": null,
            "grid_area": null,
            "grid_auto_columns": null,
            "grid_auto_flow": null,
            "grid_auto_rows": null,
            "grid_column": null,
            "grid_gap": null,
            "grid_row": null,
            "grid_template_areas": null,
            "grid_template_columns": null,
            "grid_template_rows": null,
            "height": null,
            "justify_content": null,
            "justify_items": null,
            "left": null,
            "margin": null,
            "max_height": null,
            "max_width": null,
            "min_height": null,
            "min_width": null,
            "object_fit": null,
            "object_position": null,
            "order": null,
            "overflow": null,
            "overflow_x": null,
            "overflow_y": null,
            "padding": null,
            "right": null,
            "top": null,
            "visibility": null,
            "width": null
          }
        },
        "73d2c3c0f7084ec2ba6498a98c017fa7": {
          "model_module": "@jupyter-widgets/controls",
          "model_name": "DescriptionStyleModel",
          "model_module_version": "1.5.0",
          "state": {
            "_model_module": "@jupyter-widgets/controls",
            "_model_module_version": "1.5.0",
            "_model_name": "DescriptionStyleModel",
            "_view_count": null,
            "_view_module": "@jupyter-widgets/base",
            "_view_module_version": "1.2.0",
            "_view_name": "StyleView",
            "description_width": ""
          }
        },
        "8c73cdef890d48a09a87e3f7f4f30fea": {
          "model_module": "@jupyter-widgets/controls",
          "model_name": "HBoxModel",
          "model_module_version": "1.5.0",
          "state": {
            "_dom_classes": [],
            "_model_module": "@jupyter-widgets/controls",
            "_model_module_version": "1.5.0",
            "_model_name": "HBoxModel",
            "_view_count": null,
            "_view_module": "@jupyter-widgets/controls",
            "_view_module_version": "1.5.0",
            "_view_name": "HBoxView",
            "box_style": "",
            "children": [
              "IPY_MODEL_382c6ccbfdbb4c0a9d4d541eb0fdd264",
              "IPY_MODEL_5a709ce08a334819b979b21f8d645da2",
              "IPY_MODEL_ce3a4a16f4cb46c0a2ea302451aa3566"
            ],
            "layout": "IPY_MODEL_fc43ea10c8264efb8d4e92eb6f7afe85"
          }
        },
        "382c6ccbfdbb4c0a9d4d541eb0fdd264": {
          "model_module": "@jupyter-widgets/controls",
          "model_name": "HTMLModel",
          "model_module_version": "1.5.0",
          "state": {
            "_dom_classes": [],
            "_model_module": "@jupyter-widgets/controls",
            "_model_module_version": "1.5.0",
            "_model_name": "HTMLModel",
            "_view_count": null,
            "_view_module": "@jupyter-widgets/controls",
            "_view_module_version": "1.5.0",
            "_view_name": "HTMLView",
            "description": "",
            "description_tooltip": null,
            "layout": "IPY_MODEL_bf6b0edc0df74895a95dd284fac14157",
            "placeholder": "​",
            "style": "IPY_MODEL_981376d0730c4726814effca530dcd4e",
            "value": "model.safetensors: 100%"
          }
        },
        "5a709ce08a334819b979b21f8d645da2": {
          "model_module": "@jupyter-widgets/controls",
          "model_name": "FloatProgressModel",
          "model_module_version": "1.5.0",
          "state": {
            "_dom_classes": [],
            "_model_module": "@jupyter-widgets/controls",
            "_model_module_version": "1.5.0",
            "_model_name": "FloatProgressModel",
            "_view_count": null,
            "_view_module": "@jupyter-widgets/controls",
            "_view_module_version": "1.5.0",
            "_view_name": "ProgressView",
            "bar_style": "success",
            "description": "",
            "description_tooltip": null,
            "layout": "IPY_MODEL_0d88619d98af42b09378d1f8b983c84c",
            "max": 153827656,
            "min": 0,
            "orientation": "horizontal",
            "style": "IPY_MODEL_f729b52843274d4d9d07f3f41768d753",
            "value": 153827656
          }
        },
        "ce3a4a16f4cb46c0a2ea302451aa3566": {
          "model_module": "@jupyter-widgets/controls",
          "model_name": "HTMLModel",
          "model_module_version": "1.5.0",
          "state": {
            "_dom_classes": [],
            "_model_module": "@jupyter-widgets/controls",
            "_model_module_version": "1.5.0",
            "_model_name": "HTMLModel",
            "_view_count": null,
            "_view_module": "@jupyter-widgets/controls",
            "_view_module_version": "1.5.0",
            "_view_name": "HTMLView",
            "description": "",
            "description_tooltip": null,
            "layout": "IPY_MODEL_088f61b832744758bcf7e74c4eaff5dc",
            "placeholder": "​",
            "style": "IPY_MODEL_7fde6057ed684b549a1143df6492edf4",
            "value": " 154M/154M [00:03&lt;00:00, 42.1MB/s]"
          }
        },
        "fc43ea10c8264efb8d4e92eb6f7afe85": {
          "model_module": "@jupyter-widgets/base",
          "model_name": "LayoutModel",
          "model_module_version": "1.2.0",
          "state": {
            "_model_module": "@jupyter-widgets/base",
            "_model_module_version": "1.2.0",
            "_model_name": "LayoutModel",
            "_view_count": null,
            "_view_module": "@jupyter-widgets/base",
            "_view_module_version": "1.2.0",
            "_view_name": "LayoutView",
            "align_content": null,
            "align_items": null,
            "align_self": null,
            "border": null,
            "bottom": null,
            "display": null,
            "flex": null,
            "flex_flow": null,
            "grid_area": null,
            "grid_auto_columns": null,
            "grid_auto_flow": null,
            "grid_auto_rows": null,
            "grid_column": null,
            "grid_gap": null,
            "grid_row": null,
            "grid_template_areas": null,
            "grid_template_columns": null,
            "grid_template_rows": null,
            "height": null,
            "justify_content": null,
            "justify_items": null,
            "left": null,
            "margin": null,
            "max_height": null,
            "max_width": null,
            "min_height": null,
            "min_width": null,
            "object_fit": null,
            "object_position": null,
            "order": null,
            "overflow": null,
            "overflow_x": null,
            "overflow_y": null,
            "padding": null,
            "right": null,
            "top": null,
            "visibility": null,
            "width": null
          }
        },
        "bf6b0edc0df74895a95dd284fac14157": {
          "model_module": "@jupyter-widgets/base",
          "model_name": "LayoutModel",
          "model_module_version": "1.2.0",
          "state": {
            "_model_module": "@jupyter-widgets/base",
            "_model_module_version": "1.2.0",
            "_model_name": "LayoutModel",
            "_view_count": null,
            "_view_module": "@jupyter-widgets/base",
            "_view_module_version": "1.2.0",
            "_view_name": "LayoutView",
            "align_content": null,
            "align_items": null,
            "align_self": null,
            "border": null,
            "bottom": null,
            "display": null,
            "flex": null,
            "flex_flow": null,
            "grid_area": null,
            "grid_auto_columns": null,
            "grid_auto_flow": null,
            "grid_auto_rows": null,
            "grid_column": null,
            "grid_gap": null,
            "grid_row": null,
            "grid_template_areas": null,
            "grid_template_columns": null,
            "grid_template_rows": null,
            "height": null,
            "justify_content": null,
            "justify_items": null,
            "left": null,
            "margin": null,
            "max_height": null,
            "max_width": null,
            "min_height": null,
            "min_width": null,
            "object_fit": null,
            "object_position": null,
            "order": null,
            "overflow": null,
            "overflow_x": null,
            "overflow_y": null,
            "padding": null,
            "right": null,
            "top": null,
            "visibility": null,
            "width": null
          }
        },
        "981376d0730c4726814effca530dcd4e": {
          "model_module": "@jupyter-widgets/controls",
          "model_name": "DescriptionStyleModel",
          "model_module_version": "1.5.0",
          "state": {
            "_model_module": "@jupyter-widgets/controls",
            "_model_module_version": "1.5.0",
            "_model_name": "DescriptionStyleModel",
            "_view_count": null,
            "_view_module": "@jupyter-widgets/base",
            "_view_module_version": "1.2.0",
            "_view_name": "StyleView",
            "description_width": ""
          }
        },
        "0d88619d98af42b09378d1f8b983c84c": {
          "model_module": "@jupyter-widgets/base",
          "model_name": "LayoutModel",
          "model_module_version": "1.2.0",
          "state": {
            "_model_module": "@jupyter-widgets/base",
            "_model_module_version": "1.2.0",
            "_model_name": "LayoutModel",
            "_view_count": null,
            "_view_module": "@jupyter-widgets/base",
            "_view_module_version": "1.2.0",
            "_view_name": "LayoutView",
            "align_content": null,
            "align_items": null,
            "align_self": null,
            "border": null,
            "bottom": null,
            "display": null,
            "flex": null,
            "flex_flow": null,
            "grid_area": null,
            "grid_auto_columns": null,
            "grid_auto_flow": null,
            "grid_auto_rows": null,
            "grid_column": null,
            "grid_gap": null,
            "grid_row": null,
            "grid_template_areas": null,
            "grid_template_columns": null,
            "grid_template_rows": null,
            "height": null,
            "justify_content": null,
            "justify_items": null,
            "left": null,
            "margin": null,
            "max_height": null,
            "max_width": null,
            "min_height": null,
            "min_width": null,
            "object_fit": null,
            "object_position": null,
            "order": null,
            "overflow": null,
            "overflow_x": null,
            "overflow_y": null,
            "padding": null,
            "right": null,
            "top": null,
            "visibility": null,
            "width": null
          }
        },
        "f729b52843274d4d9d07f3f41768d753": {
          "model_module": "@jupyter-widgets/controls",
          "model_name": "ProgressStyleModel",
          "model_module_version": "1.5.0",
          "state": {
            "_model_module": "@jupyter-widgets/controls",
            "_model_module_version": "1.5.0",
            "_model_name": "ProgressStyleModel",
            "_view_count": null,
            "_view_module": "@jupyter-widgets/base",
            "_view_module_version": "1.2.0",
            "_view_name": "StyleView",
            "bar_color": null,
            "description_width": ""
          }
        },
        "088f61b832744758bcf7e74c4eaff5dc": {
          "model_module": "@jupyter-widgets/base",
          "model_name": "LayoutModel",
          "model_module_version": "1.2.0",
          "state": {
            "_model_module": "@jupyter-widgets/base",
            "_model_module_version": "1.2.0",
            "_model_name": "LayoutModel",
            "_view_count": null,
            "_view_module": "@jupyter-widgets/base",
            "_view_module_version": "1.2.0",
            "_view_name": "LayoutView",
            "align_content": null,
            "align_items": null,
            "align_self": null,
            "border": null,
            "bottom": null,
            "display": null,
            "flex": null,
            "flex_flow": null,
            "grid_area": null,
            "grid_auto_columns": null,
            "grid_auto_flow": null,
            "grid_auto_rows": null,
            "grid_column": null,
            "grid_gap": null,
            "grid_row": null,
            "grid_template_areas": null,
            "grid_template_columns": null,
            "grid_template_rows": null,
            "height": null,
            "justify_content": null,
            "justify_items": null,
            "left": null,
            "margin": null,
            "max_height": null,
            "max_width": null,
            "min_height": null,
            "min_width": null,
            "object_fit": null,
            "object_position": null,
            "order": null,
            "overflow": null,
            "overflow_x": null,
            "overflow_y": null,
            "padding": null,
            "right": null,
            "top": null,
            "visibility": null,
            "width": null
          }
        },
        "7fde6057ed684b549a1143df6492edf4": {
          "model_module": "@jupyter-widgets/controls",
          "model_name": "DescriptionStyleModel",
          "model_module_version": "1.5.0",
          "state": {
            "_model_module": "@jupyter-widgets/controls",
            "_model_module_version": "1.5.0",
            "_model_name": "DescriptionStyleModel",
            "_view_count": null,
            "_view_module": "@jupyter-widgets/base",
            "_view_module_version": "1.2.0",
            "_view_name": "StyleView",
            "description_width": ""
          }
        },
        "b30eeca6655345a0aa41a46ec38c93c3": {
          "model_module": "@jupyter-widgets/controls",
          "model_name": "HBoxModel",
          "model_module_version": "1.5.0",
          "state": {
            "_dom_classes": [],
            "_model_module": "@jupyter-widgets/controls",
            "_model_module_version": "1.5.0",
            "_model_name": "HBoxModel",
            "_view_count": null,
            "_view_module": "@jupyter-widgets/controls",
            "_view_module_version": "1.5.0",
            "_view_name": "HBoxView",
            "box_style": "",
            "children": [
              "IPY_MODEL_076695459cdb4c529e8c5de5544651dd",
              "IPY_MODEL_b7fddddf711841c1b5d07ac65c6772bd",
              "IPY_MODEL_bd409253fc6749fe911d93710f955ac7"
            ],
            "layout": "IPY_MODEL_65a0bea393c94ce9943c46947acf9325"
          }
        },
        "076695459cdb4c529e8c5de5544651dd": {
          "model_module": "@jupyter-widgets/controls",
          "model_name": "HTMLModel",
          "model_module_version": "1.5.0",
          "state": {
            "_dom_classes": [],
            "_model_module": "@jupyter-widgets/controls",
            "_model_module_version": "1.5.0",
            "_model_name": "HTMLModel",
            "_view_count": null,
            "_view_module": "@jupyter-widgets/controls",
            "_view_module_version": "1.5.0",
            "_view_name": "HTMLView",
            "description": "",
            "description_tooltip": null,
            "layout": "IPY_MODEL_196ba6150fd146a3aa116fff39a88dae",
            "placeholder": "​",
            "style": "IPY_MODEL_40929ab72a1c4eb6aba2f21141a3bd10",
            "value": "preprocessor_config.json: 100%"
          }
        },
        "b7fddddf711841c1b5d07ac65c6772bd": {
          "model_module": "@jupyter-widgets/controls",
          "model_name": "FloatProgressModel",
          "model_module_version": "1.5.0",
          "state": {
            "_dom_classes": [],
            "_model_module": "@jupyter-widgets/controls",
            "_model_module_version": "1.5.0",
            "_model_name": "FloatProgressModel",
            "_view_count": null,
            "_view_module": "@jupyter-widgets/controls",
            "_view_module_version": "1.5.0",
            "_view_name": "ProgressView",
            "bar_style": "success",
            "description": "",
            "description_tooltip": null,
            "layout": "IPY_MODEL_b427e30f6c3e4795a43dfa0827bb7b23",
            "max": 675,
            "min": 0,
            "orientation": "horizontal",
            "style": "IPY_MODEL_a131ae78375b4741ba3e4e0cab7ec3d0",
            "value": 675
          }
        },
        "bd409253fc6749fe911d93710f955ac7": {
          "model_module": "@jupyter-widgets/controls",
          "model_name": "HTMLModel",
          "model_module_version": "1.5.0",
          "state": {
            "_dom_classes": [],
            "_model_module": "@jupyter-widgets/controls",
            "_model_module_version": "1.5.0",
            "_model_name": "HTMLModel",
            "_view_count": null,
            "_view_module": "@jupyter-widgets/controls",
            "_view_module_version": "1.5.0",
            "_view_name": "HTMLView",
            "description": "",
            "description_tooltip": null,
            "layout": "IPY_MODEL_8b0966752d854209bf6d2ecf17c86f81",
            "placeholder": "​",
            "style": "IPY_MODEL_ff0f0c8974e04696ab59dbc64d1169bd",
            "value": " 675/675 [00:00&lt;00:00, 52.8kB/s]"
          }
        },
        "65a0bea393c94ce9943c46947acf9325": {
          "model_module": "@jupyter-widgets/base",
          "model_name": "LayoutModel",
          "model_module_version": "1.2.0",
          "state": {
            "_model_module": "@jupyter-widgets/base",
            "_model_module_version": "1.2.0",
            "_model_name": "LayoutModel",
            "_view_count": null,
            "_view_module": "@jupyter-widgets/base",
            "_view_module_version": "1.2.0",
            "_view_name": "LayoutView",
            "align_content": null,
            "align_items": null,
            "align_self": null,
            "border": null,
            "bottom": null,
            "display": null,
            "flex": null,
            "flex_flow": null,
            "grid_area": null,
            "grid_auto_columns": null,
            "grid_auto_flow": null,
            "grid_auto_rows": null,
            "grid_column": null,
            "grid_gap": null,
            "grid_row": null,
            "grid_template_areas": null,
            "grid_template_columns": null,
            "grid_template_rows": null,
            "height": null,
            "justify_content": null,
            "justify_items": null,
            "left": null,
            "margin": null,
            "max_height": null,
            "max_width": null,
            "min_height": null,
            "min_width": null,
            "object_fit": null,
            "object_position": null,
            "order": null,
            "overflow": null,
            "overflow_x": null,
            "overflow_y": null,
            "padding": null,
            "right": null,
            "top": null,
            "visibility": null,
            "width": null
          }
        },
        "196ba6150fd146a3aa116fff39a88dae": {
          "model_module": "@jupyter-widgets/base",
          "model_name": "LayoutModel",
          "model_module_version": "1.2.0",
          "state": {
            "_model_module": "@jupyter-widgets/base",
            "_model_module_version": "1.2.0",
            "_model_name": "LayoutModel",
            "_view_count": null,
            "_view_module": "@jupyter-widgets/base",
            "_view_module_version": "1.2.0",
            "_view_name": "LayoutView",
            "align_content": null,
            "align_items": null,
            "align_self": null,
            "border": null,
            "bottom": null,
            "display": null,
            "flex": null,
            "flex_flow": null,
            "grid_area": null,
            "grid_auto_columns": null,
            "grid_auto_flow": null,
            "grid_auto_rows": null,
            "grid_column": null,
            "grid_gap": null,
            "grid_row": null,
            "grid_template_areas": null,
            "grid_template_columns": null,
            "grid_template_rows": null,
            "height": null,
            "justify_content": null,
            "justify_items": null,
            "left": null,
            "margin": null,
            "max_height": null,
            "max_width": null,
            "min_height": null,
            "min_width": null,
            "object_fit": null,
            "object_position": null,
            "order": null,
            "overflow": null,
            "overflow_x": null,
            "overflow_y": null,
            "padding": null,
            "right": null,
            "top": null,
            "visibility": null,
            "width": null
          }
        },
        "40929ab72a1c4eb6aba2f21141a3bd10": {
          "model_module": "@jupyter-widgets/controls",
          "model_name": "DescriptionStyleModel",
          "model_module_version": "1.5.0",
          "state": {
            "_model_module": "@jupyter-widgets/controls",
            "_model_module_version": "1.5.0",
            "_model_name": "DescriptionStyleModel",
            "_view_count": null,
            "_view_module": "@jupyter-widgets/base",
            "_view_module_version": "1.2.0",
            "_view_name": "StyleView",
            "description_width": ""
          }
        },
        "b427e30f6c3e4795a43dfa0827bb7b23": {
          "model_module": "@jupyter-widgets/base",
          "model_name": "LayoutModel",
          "model_module_version": "1.2.0",
          "state": {
            "_model_module": "@jupyter-widgets/base",
            "_model_module_version": "1.2.0",
            "_model_name": "LayoutModel",
            "_view_count": null,
            "_view_module": "@jupyter-widgets/base",
            "_view_module_version": "1.2.0",
            "_view_name": "LayoutView",
            "align_content": null,
            "align_items": null,
            "align_self": null,
            "border": null,
            "bottom": null,
            "display": null,
            "flex": null,
            "flex_flow": null,
            "grid_area": null,
            "grid_auto_columns": null,
            "grid_auto_flow": null,
            "grid_auto_rows": null,
            "grid_column": null,
            "grid_gap": null,
            "grid_row": null,
            "grid_template_areas": null,
            "grid_template_columns": null,
            "grid_template_rows": null,
            "height": null,
            "justify_content": null,
            "justify_items": null,
            "left": null,
            "margin": null,
            "max_height": null,
            "max_width": null,
            "min_height": null,
            "min_width": null,
            "object_fit": null,
            "object_position": null,
            "order": null,
            "overflow": null,
            "overflow_x": null,
            "overflow_y": null,
            "padding": null,
            "right": null,
            "top": null,
            "visibility": null,
            "width": null
          }
        },
        "a131ae78375b4741ba3e4e0cab7ec3d0": {
          "model_module": "@jupyter-widgets/controls",
          "model_name": "ProgressStyleModel",
          "model_module_version": "1.5.0",
          "state": {
            "_model_module": "@jupyter-widgets/controls",
            "_model_module_version": "1.5.0",
            "_model_name": "ProgressStyleModel",
            "_view_count": null,
            "_view_module": "@jupyter-widgets/base",
            "_view_module_version": "1.2.0",
            "_view_name": "StyleView",
            "bar_color": null,
            "description_width": ""
          }
        },
        "8b0966752d854209bf6d2ecf17c86f81": {
          "model_module": "@jupyter-widgets/base",
          "model_name": "LayoutModel",
          "model_module_version": "1.2.0",
          "state": {
            "_model_module": "@jupyter-widgets/base",
            "_model_module_version": "1.2.0",
            "_model_name": "LayoutModel",
            "_view_count": null,
            "_view_module": "@jupyter-widgets/base",
            "_view_module_version": "1.2.0",
            "_view_name": "LayoutView",
            "align_content": null,
            "align_items": null,
            "align_self": null,
            "border": null,
            "bottom": null,
            "display": null,
            "flex": null,
            "flex_flow": null,
            "grid_area": null,
            "grid_auto_columns": null,
            "grid_auto_flow": null,
            "grid_auto_rows": null,
            "grid_column": null,
            "grid_gap": null,
            "grid_row": null,
            "grid_template_areas": null,
            "grid_template_columns": null,
            "grid_template_rows": null,
            "height": null,
            "justify_content": null,
            "justify_items": null,
            "left": null,
            "margin": null,
            "max_height": null,
            "max_width": null,
            "min_height": null,
            "min_width": null,
            "object_fit": null,
            "object_position": null,
            "order": null,
            "overflow": null,
            "overflow_x": null,
            "overflow_y": null,
            "padding": null,
            "right": null,
            "top": null,
            "visibility": null,
            "width": null
          }
        },
        "ff0f0c8974e04696ab59dbc64d1169bd": {
          "model_module": "@jupyter-widgets/controls",
          "model_name": "DescriptionStyleModel",
          "model_module_version": "1.5.0",
          "state": {
            "_model_module": "@jupyter-widgets/controls",
            "_model_module_version": "1.5.0",
            "_model_name": "DescriptionStyleModel",
            "_view_count": null,
            "_view_module": "@jupyter-widgets/base",
            "_view_module_version": "1.2.0",
            "_view_name": "StyleView",
            "description_width": ""
          }
        },
        "2f789555bd1d46f5bc1c5b6b51833669": {
          "model_module": "@jupyter-widgets/controls",
          "model_name": "HBoxModel",
          "model_module_version": "1.5.0",
          "state": {
            "_dom_classes": [],
            "_model_module": "@jupyter-widgets/controls",
            "_model_module_version": "1.5.0",
            "_model_name": "HBoxModel",
            "_view_count": null,
            "_view_module": "@jupyter-widgets/controls",
            "_view_module_version": "1.5.0",
            "_view_name": "HBoxView",
            "box_style": "",
            "children": [
              "IPY_MODEL_7afa4806960440bbbc51d2ba09efb8b5",
              "IPY_MODEL_7dd653e260b54fb3b03aacbe2b1aa05c",
              "IPY_MODEL_632c1a873dd84701abc058ca545f3bdc"
            ],
            "layout": "IPY_MODEL_9249ae1d0e8a4da29d7ac006580ace25"
          }
        },
        "7afa4806960440bbbc51d2ba09efb8b5": {
          "model_module": "@jupyter-widgets/controls",
          "model_name": "HTMLModel",
          "model_module_version": "1.5.0",
          "state": {
            "_dom_classes": [],
            "_model_module": "@jupyter-widgets/controls",
            "_model_module_version": "1.5.0",
            "_model_name": "HTMLModel",
            "_view_count": null,
            "_view_module": "@jupyter-widgets/controls",
            "_view_module_version": "1.5.0",
            "_view_name": "HTMLView",
            "description": "",
            "description_tooltip": null,
            "layout": "IPY_MODEL_c1d10bf91ea948a0b77e4c7598169f87",
            "placeholder": "​",
            "style": "IPY_MODEL_13f7d128d954410ba4eb03ec2632faae",
            "value": "config.json: 100%"
          }
        },
        "7dd653e260b54fb3b03aacbe2b1aa05c": {
          "model_module": "@jupyter-widgets/controls",
          "model_name": "FloatProgressModel",
          "model_module_version": "1.5.0",
          "state": {
            "_dom_classes": [],
            "_model_module": "@jupyter-widgets/controls",
            "_model_module_version": "1.5.0",
            "_model_name": "FloatProgressModel",
            "_view_count": null,
            "_view_module": "@jupyter-widgets/controls",
            "_view_module_version": "1.5.0",
            "_view_name": "ProgressView",
            "bar_style": "success",
            "description": "",
            "description_tooltip": null,
            "layout": "IPY_MODEL_6b631fc183cb4d14897b46a785a0dc6d",
            "max": 8050,
            "min": 0,
            "orientation": "horizontal",
            "style": "IPY_MODEL_cd5a4a9010b942ddaa935d6f4e341a56",
            "value": 8050
          }
        },
        "632c1a873dd84701abc058ca545f3bdc": {
          "model_module": "@jupyter-widgets/controls",
          "model_name": "HTMLModel",
          "model_module_version": "1.5.0",
          "state": {
            "_dom_classes": [],
            "_model_module": "@jupyter-widgets/controls",
            "_model_module_version": "1.5.0",
            "_model_name": "HTMLModel",
            "_view_count": null,
            "_view_module": "@jupyter-widgets/controls",
            "_view_module_version": "1.5.0",
            "_view_name": "HTMLView",
            "description": "",
            "description_tooltip": null,
            "layout": "IPY_MODEL_caf46e3f18cb41308a1c149bae503564",
            "placeholder": "​",
            "style": "IPY_MODEL_ee331b2e389d4d159a102f5e5dc08a93",
            "value": " 8.05k/8.05k [00:00&lt;00:00, 460kB/s]"
          }
        },
        "9249ae1d0e8a4da29d7ac006580ace25": {
          "model_module": "@jupyter-widgets/base",
          "model_name": "LayoutModel",
          "model_module_version": "1.2.0",
          "state": {
            "_model_module": "@jupyter-widgets/base",
            "_model_module_version": "1.2.0",
            "_model_name": "LayoutModel",
            "_view_count": null,
            "_view_module": "@jupyter-widgets/base",
            "_view_module_version": "1.2.0",
            "_view_name": "LayoutView",
            "align_content": null,
            "align_items": null,
            "align_self": null,
            "border": null,
            "bottom": null,
            "display": null,
            "flex": null,
            "flex_flow": null,
            "grid_area": null,
            "grid_auto_columns": null,
            "grid_auto_flow": null,
            "grid_auto_rows": null,
            "grid_column": null,
            "grid_gap": null,
            "grid_row": null,
            "grid_template_areas": null,
            "grid_template_columns": null,
            "grid_template_rows": null,
            "height": null,
            "justify_content": null,
            "justify_items": null,
            "left": null,
            "margin": null,
            "max_height": null,
            "max_width": null,
            "min_height": null,
            "min_width": null,
            "object_fit": null,
            "object_position": null,
            "order": null,
            "overflow": null,
            "overflow_x": null,
            "overflow_y": null,
            "padding": null,
            "right": null,
            "top": null,
            "visibility": null,
            "width": null
          }
        },
        "c1d10bf91ea948a0b77e4c7598169f87": {
          "model_module": "@jupyter-widgets/base",
          "model_name": "LayoutModel",
          "model_module_version": "1.2.0",
          "state": {
            "_model_module": "@jupyter-widgets/base",
            "_model_module_version": "1.2.0",
            "_model_name": "LayoutModel",
            "_view_count": null,
            "_view_module": "@jupyter-widgets/base",
            "_view_module_version": "1.2.0",
            "_view_name": "LayoutView",
            "align_content": null,
            "align_items": null,
            "align_self": null,
            "border": null,
            "bottom": null,
            "display": null,
            "flex": null,
            "flex_flow": null,
            "grid_area": null,
            "grid_auto_columns": null,
            "grid_auto_flow": null,
            "grid_auto_rows": null,
            "grid_column": null,
            "grid_gap": null,
            "grid_row": null,
            "grid_template_areas": null,
            "grid_template_columns": null,
            "grid_template_rows": null,
            "height": null,
            "justify_content": null,
            "justify_items": null,
            "left": null,
            "margin": null,
            "max_height": null,
            "max_width": null,
            "min_height": null,
            "min_width": null,
            "object_fit": null,
            "object_position": null,
            "order": null,
            "overflow": null,
            "overflow_x": null,
            "overflow_y": null,
            "padding": null,
            "right": null,
            "top": null,
            "visibility": null,
            "width": null
          }
        },
        "13f7d128d954410ba4eb03ec2632faae": {
          "model_module": "@jupyter-widgets/controls",
          "model_name": "DescriptionStyleModel",
          "model_module_version": "1.5.0",
          "state": {
            "_model_module": "@jupyter-widgets/controls",
            "_model_module_version": "1.5.0",
            "_model_name": "DescriptionStyleModel",
            "_view_count": null,
            "_view_module": "@jupyter-widgets/base",
            "_view_module_version": "1.2.0",
            "_view_name": "StyleView",
            "description_width": ""
          }
        },
        "6b631fc183cb4d14897b46a785a0dc6d": {
          "model_module": "@jupyter-widgets/base",
          "model_name": "LayoutModel",
          "model_module_version": "1.2.0",
          "state": {
            "_model_module": "@jupyter-widgets/base",
            "_model_module_version": "1.2.0",
            "_model_name": "LayoutModel",
            "_view_count": null,
            "_view_module": "@jupyter-widgets/base",
            "_view_module_version": "1.2.0",
            "_view_name": "LayoutView",
            "align_content": null,
            "align_items": null,
            "align_self": null,
            "border": null,
            "bottom": null,
            "display": null,
            "flex": null,
            "flex_flow": null,
            "grid_area": null,
            "grid_auto_columns": null,
            "grid_auto_flow": null,
            "grid_auto_rows": null,
            "grid_column": null,
            "grid_gap": null,
            "grid_row": null,
            "grid_template_areas": null,
            "grid_template_columns": null,
            "grid_template_rows": null,
            "height": null,
            "justify_content": null,
            "justify_items": null,
            "left": null,
            "margin": null,
            "max_height": null,
            "max_width": null,
            "min_height": null,
            "min_width": null,
            "object_fit": null,
            "object_position": null,
            "order": null,
            "overflow": null,
            "overflow_x": null,
            "overflow_y": null,
            "padding": null,
            "right": null,
            "top": null,
            "visibility": null,
            "width": null
          }
        },
        "cd5a4a9010b942ddaa935d6f4e341a56": {
          "model_module": "@jupyter-widgets/controls",
          "model_name": "ProgressStyleModel",
          "model_module_version": "1.5.0",
          "state": {
            "_model_module": "@jupyter-widgets/controls",
            "_model_module_version": "1.5.0",
            "_model_name": "ProgressStyleModel",
            "_view_count": null,
            "_view_module": "@jupyter-widgets/base",
            "_view_module_version": "1.2.0",
            "_view_name": "StyleView",
            "bar_color": null,
            "description_width": ""
          }
        },
        "caf46e3f18cb41308a1c149bae503564": {
          "model_module": "@jupyter-widgets/base",
          "model_name": "LayoutModel",
          "model_module_version": "1.2.0",
          "state": {
            "_model_module": "@jupyter-widgets/base",
            "_model_module_version": "1.2.0",
            "_model_name": "LayoutModel",
            "_view_count": null,
            "_view_module": "@jupyter-widgets/base",
            "_view_module_version": "1.2.0",
            "_view_name": "LayoutView",
            "align_content": null,
            "align_items": null,
            "align_self": null,
            "border": null,
            "bottom": null,
            "display": null,
            "flex": null,
            "flex_flow": null,
            "grid_area": null,
            "grid_auto_columns": null,
            "grid_auto_flow": null,
            "grid_auto_rows": null,
            "grid_column": null,
            "grid_gap": null,
            "grid_row": null,
            "grid_template_areas": null,
            "grid_template_columns": null,
            "grid_template_rows": null,
            "height": null,
            "justify_content": null,
            "justify_items": null,
            "left": null,
            "margin": null,
            "max_height": null,
            "max_width": null,
            "min_height": null,
            "min_width": null,
            "object_fit": null,
            "object_position": null,
            "order": null,
            "overflow": null,
            "overflow_x": null,
            "overflow_y": null,
            "padding": null,
            "right": null,
            "top": null,
            "visibility": null,
            "width": null
          }
        },
        "ee331b2e389d4d159a102f5e5dc08a93": {
          "model_module": "@jupyter-widgets/controls",
          "model_name": "DescriptionStyleModel",
          "model_module_version": "1.5.0",
          "state": {
            "_model_module": "@jupyter-widgets/controls",
            "_model_module_version": "1.5.0",
            "_model_name": "DescriptionStyleModel",
            "_view_count": null,
            "_view_module": "@jupyter-widgets/base",
            "_view_module_version": "1.2.0",
            "_view_name": "StyleView",
            "description_width": ""
          }
        },
        "307aef86e2a849c6bf2b7d83ab9b3b18": {
          "model_module": "@jupyter-widgets/controls",
          "model_name": "HBoxModel",
          "model_module_version": "1.5.0",
          "state": {
            "_dom_classes": [],
            "_model_module": "@jupyter-widgets/controls",
            "_model_module_version": "1.5.0",
            "_model_name": "HBoxModel",
            "_view_count": null,
            "_view_module": "@jupyter-widgets/controls",
            "_view_module_version": "1.5.0",
            "_view_name": "HBoxView",
            "box_style": "",
            "children": [
              "IPY_MODEL_a6c9eb3c758f42018e362c4c71bc3584",
              "IPY_MODEL_6eacafbff10e42ffa15069992cf081bc",
              "IPY_MODEL_9bbd2c8289a94473b33076e50baeaa7f"
            ],
            "layout": "IPY_MODEL_c90d6a0c129e43d6a121b882438a1e12"
          }
        },
        "a6c9eb3c758f42018e362c4c71bc3584": {
          "model_module": "@jupyter-widgets/controls",
          "model_name": "HTMLModel",
          "model_module_version": "1.5.0",
          "state": {
            "_dom_classes": [],
            "_model_module": "@jupyter-widgets/controls",
            "_model_module_version": "1.5.0",
            "_model_name": "HTMLModel",
            "_view_count": null,
            "_view_module": "@jupyter-widgets/controls",
            "_view_module_version": "1.5.0",
            "_view_name": "HTMLView",
            "description": "",
            "description_tooltip": null,
            "layout": "IPY_MODEL_44c8fe36dcba45cd9deb0992fe364781",
            "placeholder": "​",
            "style": "IPY_MODEL_2bcf9756412542bc93cecc20e18a06d9",
            "value": "model.safetensors: 100%"
          }
        },
        "6eacafbff10e42ffa15069992cf081bc": {
          "model_module": "@jupyter-widgets/controls",
          "model_name": "FloatProgressModel",
          "model_module_version": "1.5.0",
          "state": {
            "_dom_classes": [],
            "_model_module": "@jupyter-widgets/controls",
            "_model_module_version": "1.5.0",
            "_model_name": "FloatProgressModel",
            "_view_count": null,
            "_view_module": "@jupyter-widgets/controls",
            "_view_module_version": "1.5.0",
            "_view_name": "ProgressView",
            "bar_style": "success",
            "description": "",
            "description_tooltip": null,
            "layout": "IPY_MODEL_e7626a5a0799421fa44db79254b88c3c",
            "max": 940533088,
            "min": 0,
            "orientation": "horizontal",
            "style": "IPY_MODEL_defbf01634784c3ba4867de93988ac73",
            "value": 940533088
          }
        },
        "9bbd2c8289a94473b33076e50baeaa7f": {
          "model_module": "@jupyter-widgets/controls",
          "model_name": "HTMLModel",
          "model_module_version": "1.5.0",
          "state": {
            "_dom_classes": [],
            "_model_module": "@jupyter-widgets/controls",
            "_model_module_version": "1.5.0",
            "_model_name": "HTMLModel",
            "_view_count": null,
            "_view_module": "@jupyter-widgets/controls",
            "_view_module_version": "1.5.0",
            "_view_name": "HTMLView",
            "description": "",
            "description_tooltip": null,
            "layout": "IPY_MODEL_e174476c16d34027aeb52f36725ea27b",
            "placeholder": "​",
            "style": "IPY_MODEL_e0a43f9e6c46422c97c2d4717af226b0",
            "value": " 941M/941M [00:22&lt;00:00, 42.7MB/s]"
          }
        },
        "c90d6a0c129e43d6a121b882438a1e12": {
          "model_module": "@jupyter-widgets/base",
          "model_name": "LayoutModel",
          "model_module_version": "1.2.0",
          "state": {
            "_model_module": "@jupyter-widgets/base",
            "_model_module_version": "1.2.0",
            "_model_name": "LayoutModel",
            "_view_count": null,
            "_view_module": "@jupyter-widgets/base",
            "_view_module_version": "1.2.0",
            "_view_name": "LayoutView",
            "align_content": null,
            "align_items": null,
            "align_self": null,
            "border": null,
            "bottom": null,
            "display": null,
            "flex": null,
            "flex_flow": null,
            "grid_area": null,
            "grid_auto_columns": null,
            "grid_auto_flow": null,
            "grid_auto_rows": null,
            "grid_column": null,
            "grid_gap": null,
            "grid_row": null,
            "grid_template_areas": null,
            "grid_template_columns": null,
            "grid_template_rows": null,
            "height": null,
            "justify_content": null,
            "justify_items": null,
            "left": null,
            "margin": null,
            "max_height": null,
            "max_width": null,
            "min_height": null,
            "min_width": null,
            "object_fit": null,
            "object_position": null,
            "order": null,
            "overflow": null,
            "overflow_x": null,
            "overflow_y": null,
            "padding": null,
            "right": null,
            "top": null,
            "visibility": null,
            "width": null
          }
        },
        "44c8fe36dcba45cd9deb0992fe364781": {
          "model_module": "@jupyter-widgets/base",
          "model_name": "LayoutModel",
          "model_module_version": "1.2.0",
          "state": {
            "_model_module": "@jupyter-widgets/base",
            "_model_module_version": "1.2.0",
            "_model_name": "LayoutModel",
            "_view_count": null,
            "_view_module": "@jupyter-widgets/base",
            "_view_module_version": "1.2.0",
            "_view_name": "LayoutView",
            "align_content": null,
            "align_items": null,
            "align_self": null,
            "border": null,
            "bottom": null,
            "display": null,
            "flex": null,
            "flex_flow": null,
            "grid_area": null,
            "grid_auto_columns": null,
            "grid_auto_flow": null,
            "grid_auto_rows": null,
            "grid_column": null,
            "grid_gap": null,
            "grid_row": null,
            "grid_template_areas": null,
            "grid_template_columns": null,
            "grid_template_rows": null,
            "height": null,
            "justify_content": null,
            "justify_items": null,
            "left": null,
            "margin": null,
            "max_height": null,
            "max_width": null,
            "min_height": null,
            "min_width": null,
            "object_fit": null,
            "object_position": null,
            "order": null,
            "overflow": null,
            "overflow_x": null,
            "overflow_y": null,
            "padding": null,
            "right": null,
            "top": null,
            "visibility": null,
            "width": null
          }
        },
        "2bcf9756412542bc93cecc20e18a06d9": {
          "model_module": "@jupyter-widgets/controls",
          "model_name": "DescriptionStyleModel",
          "model_module_version": "1.5.0",
          "state": {
            "_model_module": "@jupyter-widgets/controls",
            "_model_module_version": "1.5.0",
            "_model_name": "DescriptionStyleModel",
            "_view_count": null,
            "_view_module": "@jupyter-widgets/base",
            "_view_module_version": "1.2.0",
            "_view_name": "StyleView",
            "description_width": ""
          }
        },
        "e7626a5a0799421fa44db79254b88c3c": {
          "model_module": "@jupyter-widgets/base",
          "model_name": "LayoutModel",
          "model_module_version": "1.2.0",
          "state": {
            "_model_module": "@jupyter-widgets/base",
            "_model_module_version": "1.2.0",
            "_model_name": "LayoutModel",
            "_view_count": null,
            "_view_module": "@jupyter-widgets/base",
            "_view_module_version": "1.2.0",
            "_view_name": "LayoutView",
            "align_content": null,
            "align_items": null,
            "align_self": null,
            "border": null,
            "bottom": null,
            "display": null,
            "flex": null,
            "flex_flow": null,
            "grid_area": null,
            "grid_auto_columns": null,
            "grid_auto_flow": null,
            "grid_auto_rows": null,
            "grid_column": null,
            "grid_gap": null,
            "grid_row": null,
            "grid_template_areas": null,
            "grid_template_columns": null,
            "grid_template_rows": null,
            "height": null,
            "justify_content": null,
            "justify_items": null,
            "left": null,
            "margin": null,
            "max_height": null,
            "max_width": null,
            "min_height": null,
            "min_width": null,
            "object_fit": null,
            "object_position": null,
            "order": null,
            "overflow": null,
            "overflow_x": null,
            "overflow_y": null,
            "padding": null,
            "right": null,
            "top": null,
            "visibility": null,
            "width": null
          }
        },
        "defbf01634784c3ba4867de93988ac73": {
          "model_module": "@jupyter-widgets/controls",
          "model_name": "ProgressStyleModel",
          "model_module_version": "1.5.0",
          "state": {
            "_model_module": "@jupyter-widgets/controls",
            "_model_module_version": "1.5.0",
            "_model_name": "ProgressStyleModel",
            "_view_count": null,
            "_view_module": "@jupyter-widgets/base",
            "_view_module_version": "1.2.0",
            "_view_name": "StyleView",
            "bar_color": null,
            "description_width": ""
          }
        },
        "e174476c16d34027aeb52f36725ea27b": {
          "model_module": "@jupyter-widgets/base",
          "model_name": "LayoutModel",
          "model_module_version": "1.2.0",
          "state": {
            "_model_module": "@jupyter-widgets/base",
            "_model_module_version": "1.2.0",
            "_model_name": "LayoutModel",
            "_view_count": null,
            "_view_module": "@jupyter-widgets/base",
            "_view_module_version": "1.2.0",
            "_view_name": "LayoutView",
            "align_content": null,
            "align_items": null,
            "align_self": null,
            "border": null,
            "bottom": null,
            "display": null,
            "flex": null,
            "flex_flow": null,
            "grid_area": null,
            "grid_auto_columns": null,
            "grid_auto_flow": null,
            "grid_auto_rows": null,
            "grid_column": null,
            "grid_gap": null,
            "grid_row": null,
            "grid_template_areas": null,
            "grid_template_columns": null,
            "grid_template_rows": null,
            "height": null,
            "justify_content": null,
            "justify_items": null,
            "left": null,
            "margin": null,
            "max_height": null,
            "max_width": null,
            "min_height": null,
            "min_width": null,
            "object_fit": null,
            "object_position": null,
            "order": null,
            "overflow": null,
            "overflow_x": null,
            "overflow_y": null,
            "padding": null,
            "right": null,
            "top": null,
            "visibility": null,
            "width": null
          }
        },
        "e0a43f9e6c46422c97c2d4717af226b0": {
          "model_module": "@jupyter-widgets/controls",
          "model_name": "DescriptionStyleModel",
          "model_module_version": "1.5.0",
          "state": {
            "_model_module": "@jupyter-widgets/controls",
            "_model_module_version": "1.5.0",
            "_model_name": "DescriptionStyleModel",
            "_view_count": null,
            "_view_module": "@jupyter-widgets/base",
            "_view_module_version": "1.2.0",
            "_view_name": "StyleView",
            "description_width": ""
          }
        },
        "77b67f71b7aa460ea274fea6401bb5f8": {
          "model_module": "@jupyter-widgets/controls",
          "model_name": "HBoxModel",
          "model_module_version": "1.5.0",
          "state": {
            "_dom_classes": [],
            "_model_module": "@jupyter-widgets/controls",
            "_model_module_version": "1.5.0",
            "_model_name": "HBoxModel",
            "_view_count": null,
            "_view_module": "@jupyter-widgets/controls",
            "_view_module_version": "1.5.0",
            "_view_name": "HBoxView",
            "box_style": "",
            "children": [
              "IPY_MODEL_6ffb5abc1c304408b287789352f9696a",
              "IPY_MODEL_944617517d504cecad534ce5e01dfcad",
              "IPY_MODEL_de28fe171cdf435e935af9df5995a1e6"
            ],
            "layout": "IPY_MODEL_3e5f1a96eaac4c61813ca21a57731e2f"
          }
        },
        "6ffb5abc1c304408b287789352f9696a": {
          "model_module": "@jupyter-widgets/controls",
          "model_name": "HTMLModel",
          "model_module_version": "1.5.0",
          "state": {
            "_dom_classes": [],
            "_model_module": "@jupyter-widgets/controls",
            "_model_module_version": "1.5.0",
            "_model_name": "HTMLModel",
            "_view_count": null,
            "_view_module": "@jupyter-widgets/controls",
            "_view_module_version": "1.5.0",
            "_view_name": "HTMLView",
            "description": "",
            "description_tooltip": null,
            "layout": "IPY_MODEL_f12e63254cb64f2e9076c7c13212c1b0",
            "placeholder": "​",
            "style": "IPY_MODEL_a2e52074b1f24f1496bb0486222537f3",
            "value": "generation_config.json: 100%"
          }
        },
        "944617517d504cecad534ce5e01dfcad": {
          "model_module": "@jupyter-widgets/controls",
          "model_name": "FloatProgressModel",
          "model_module_version": "1.5.0",
          "state": {
            "_dom_classes": [],
            "_model_module": "@jupyter-widgets/controls",
            "_model_module_version": "1.5.0",
            "_model_name": "FloatProgressModel",
            "_view_count": null,
            "_view_module": "@jupyter-widgets/controls",
            "_view_module_version": "1.5.0",
            "_view_name": "ProgressView",
            "bar_style": "success",
            "description": "",
            "description_tooltip": null,
            "layout": "IPY_MODEL_26e180d91b2648178c15c7cf4eeabf64",
            "max": 163,
            "min": 0,
            "orientation": "horizontal",
            "style": "IPY_MODEL_5f027b37afbf4e819815c32ce9ecbb52",
            "value": 163
          }
        },
        "de28fe171cdf435e935af9df5995a1e6": {
          "model_module": "@jupyter-widgets/controls",
          "model_name": "HTMLModel",
          "model_module_version": "1.5.0",
          "state": {
            "_dom_classes": [],
            "_model_module": "@jupyter-widgets/controls",
            "_model_module_version": "1.5.0",
            "_model_name": "HTMLModel",
            "_view_count": null,
            "_view_module": "@jupyter-widgets/controls",
            "_view_module_version": "1.5.0",
            "_view_name": "HTMLView",
            "description": "",
            "description_tooltip": null,
            "layout": "IPY_MODEL_d307de92ae3f4a19954779fe37a95d4a",
            "placeholder": "​",
            "style": "IPY_MODEL_79ff6727fd134a53ba6b5fd6bccf7d33",
            "value": " 163/163 [00:00&lt;00:00, 12.7kB/s]"
          }
        },
        "3e5f1a96eaac4c61813ca21a57731e2f": {
          "model_module": "@jupyter-widgets/base",
          "model_name": "LayoutModel",
          "model_module_version": "1.2.0",
          "state": {
            "_model_module": "@jupyter-widgets/base",
            "_model_module_version": "1.2.0",
            "_model_name": "LayoutModel",
            "_view_count": null,
            "_view_module": "@jupyter-widgets/base",
            "_view_module_version": "1.2.0",
            "_view_name": "LayoutView",
            "align_content": null,
            "align_items": null,
            "align_self": null,
            "border": null,
            "bottom": null,
            "display": null,
            "flex": null,
            "flex_flow": null,
            "grid_area": null,
            "grid_auto_columns": null,
            "grid_auto_flow": null,
            "grid_auto_rows": null,
            "grid_column": null,
            "grid_gap": null,
            "grid_row": null,
            "grid_template_areas": null,
            "grid_template_columns": null,
            "grid_template_rows": null,
            "height": null,
            "justify_content": null,
            "justify_items": null,
            "left": null,
            "margin": null,
            "max_height": null,
            "max_width": null,
            "min_height": null,
            "min_width": null,
            "object_fit": null,
            "object_position": null,
            "order": null,
            "overflow": null,
            "overflow_x": null,
            "overflow_y": null,
            "padding": null,
            "right": null,
            "top": null,
            "visibility": null,
            "width": null
          }
        },
        "f12e63254cb64f2e9076c7c13212c1b0": {
          "model_module": "@jupyter-widgets/base",
          "model_name": "LayoutModel",
          "model_module_version": "1.2.0",
          "state": {
            "_model_module": "@jupyter-widgets/base",
            "_model_module_version": "1.2.0",
            "_model_name": "LayoutModel",
            "_view_count": null,
            "_view_module": "@jupyter-widgets/base",
            "_view_module_version": "1.2.0",
            "_view_name": "LayoutView",
            "align_content": null,
            "align_items": null,
            "align_self": null,
            "border": null,
            "bottom": null,
            "display": null,
            "flex": null,
            "flex_flow": null,
            "grid_area": null,
            "grid_auto_columns": null,
            "grid_auto_flow": null,
            "grid_auto_rows": null,
            "grid_column": null,
            "grid_gap": null,
            "grid_row": null,
            "grid_template_areas": null,
            "grid_template_columns": null,
            "grid_template_rows": null,
            "height": null,
            "justify_content": null,
            "justify_items": null,
            "left": null,
            "margin": null,
            "max_height": null,
            "max_width": null,
            "min_height": null,
            "min_width": null,
            "object_fit": null,
            "object_position": null,
            "order": null,
            "overflow": null,
            "overflow_x": null,
            "overflow_y": null,
            "padding": null,
            "right": null,
            "top": null,
            "visibility": null,
            "width": null
          }
        },
        "a2e52074b1f24f1496bb0486222537f3": {
          "model_module": "@jupyter-widgets/controls",
          "model_name": "DescriptionStyleModel",
          "model_module_version": "1.5.0",
          "state": {
            "_model_module": "@jupyter-widgets/controls",
            "_model_module_version": "1.5.0",
            "_model_name": "DescriptionStyleModel",
            "_view_count": null,
            "_view_module": "@jupyter-widgets/base",
            "_view_module_version": "1.2.0",
            "_view_name": "StyleView",
            "description_width": ""
          }
        },
        "26e180d91b2648178c15c7cf4eeabf64": {
          "model_module": "@jupyter-widgets/base",
          "model_name": "LayoutModel",
          "model_module_version": "1.2.0",
          "state": {
            "_model_module": "@jupyter-widgets/base",
            "_model_module_version": "1.2.0",
            "_model_name": "LayoutModel",
            "_view_count": null,
            "_view_module": "@jupyter-widgets/base",
            "_view_module_version": "1.2.0",
            "_view_name": "LayoutView",
            "align_content": null,
            "align_items": null,
            "align_self": null,
            "border": null,
            "bottom": null,
            "display": null,
            "flex": null,
            "flex_flow": null,
            "grid_area": null,
            "grid_auto_columns": null,
            "grid_auto_flow": null,
            "grid_auto_rows": null,
            "grid_column": null,
            "grid_gap": null,
            "grid_row": null,
            "grid_template_areas": null,
            "grid_template_columns": null,
            "grid_template_rows": null,
            "height": null,
            "justify_content": null,
            "justify_items": null,
            "left": null,
            "margin": null,
            "max_height": null,
            "max_width": null,
            "min_height": null,
            "min_width": null,
            "object_fit": null,
            "object_position": null,
            "order": null,
            "overflow": null,
            "overflow_x": null,
            "overflow_y": null,
            "padding": null,
            "right": null,
            "top": null,
            "visibility": null,
            "width": null
          }
        },
        "5f027b37afbf4e819815c32ce9ecbb52": {
          "model_module": "@jupyter-widgets/controls",
          "model_name": "ProgressStyleModel",
          "model_module_version": "1.5.0",
          "state": {
            "_model_module": "@jupyter-widgets/controls",
            "_model_module_version": "1.5.0",
            "_model_name": "ProgressStyleModel",
            "_view_count": null,
            "_view_module": "@jupyter-widgets/base",
            "_view_module_version": "1.2.0",
            "_view_name": "StyleView",
            "bar_color": null,
            "description_width": ""
          }
        },
        "d307de92ae3f4a19954779fe37a95d4a": {
          "model_module": "@jupyter-widgets/base",
          "model_name": "LayoutModel",
          "model_module_version": "1.2.0",
          "state": {
            "_model_module": "@jupyter-widgets/base",
            "_model_module_version": "1.2.0",
            "_model_name": "LayoutModel",
            "_view_count": null,
            "_view_module": "@jupyter-widgets/base",
            "_view_module_version": "1.2.0",
            "_view_name": "LayoutView",
            "align_content": null,
            "align_items": null,
            "align_self": null,
            "border": null,
            "bottom": null,
            "display": null,
            "flex": null,
            "flex_flow": null,
            "grid_area": null,
            "grid_auto_columns": null,
            "grid_auto_flow": null,
            "grid_auto_rows": null,
            "grid_column": null,
            "grid_gap": null,
            "grid_row": null,
            "grid_template_areas": null,
            "grid_template_columns": null,
            "grid_template_rows": null,
            "height": null,
            "justify_content": null,
            "justify_items": null,
            "left": null,
            "margin": null,
            "max_height": null,
            "max_width": null,
            "min_height": null,
            "min_width": null,
            "object_fit": null,
            "object_position": null,
            "order": null,
            "overflow": null,
            "overflow_x": null,
            "overflow_y": null,
            "padding": null,
            "right": null,
            "top": null,
            "visibility": null,
            "width": null
          }
        },
        "79ff6727fd134a53ba6b5fd6bccf7d33": {
          "model_module": "@jupyter-widgets/controls",
          "model_name": "DescriptionStyleModel",
          "model_module_version": "1.5.0",
          "state": {
            "_model_module": "@jupyter-widgets/controls",
            "_model_module_version": "1.5.0",
            "_model_name": "DescriptionStyleModel",
            "_view_count": null,
            "_view_module": "@jupyter-widgets/base",
            "_view_module_version": "1.2.0",
            "_view_name": "StyleView",
            "description_width": ""
          }
        },
        "1f2e0f9d43314adc89b619fb963ddb31": {
          "model_module": "@jupyter-widgets/controls",
          "model_name": "HBoxModel",
          "model_module_version": "1.5.0",
          "state": {
            "_dom_classes": [],
            "_model_module": "@jupyter-widgets/controls",
            "_model_module_version": "1.5.0",
            "_model_name": "HBoxModel",
            "_view_count": null,
            "_view_module": "@jupyter-widgets/controls",
            "_view_module_version": "1.5.0",
            "_view_name": "HBoxView",
            "box_style": "",
            "children": [
              "IPY_MODEL_6895521cbc794decac678c4106d7b173",
              "IPY_MODEL_73b86c27dbbd48b5943135a6bbd71787",
              "IPY_MODEL_66a910a0c3d340879ccfb4ab0df56881"
            ],
            "layout": "IPY_MODEL_3b8c8fac3218424cb8c85c3b8db4e74d"
          }
        },
        "6895521cbc794decac678c4106d7b173": {
          "model_module": "@jupyter-widgets/controls",
          "model_name": "HTMLModel",
          "model_module_version": "1.5.0",
          "state": {
            "_dom_classes": [],
            "_model_module": "@jupyter-widgets/controls",
            "_model_module_version": "1.5.0",
            "_model_name": "HTMLModel",
            "_view_count": null,
            "_view_module": "@jupyter-widgets/controls",
            "_view_module_version": "1.5.0",
            "_view_name": "HTMLView",
            "description": "",
            "description_tooltip": null,
            "layout": "IPY_MODEL_722f6362bb094ea883fb981943a316bd",
            "placeholder": "​",
            "style": "IPY_MODEL_4b3f25a8005146d480af077d562be8fb",
            "value": "preprocessor_config.json: 100%"
          }
        },
        "73b86c27dbbd48b5943135a6bbd71787": {
          "model_module": "@jupyter-widgets/controls",
          "model_name": "FloatProgressModel",
          "model_module_version": "1.5.0",
          "state": {
            "_dom_classes": [],
            "_model_module": "@jupyter-widgets/controls",
            "_model_module_version": "1.5.0",
            "_model_name": "FloatProgressModel",
            "_view_count": null,
            "_view_module": "@jupyter-widgets/controls",
            "_view_module_version": "1.5.0",
            "_view_name": "ProgressView",
            "bar_style": "success",
            "description": "",
            "description_tooltip": null,
            "layout": "IPY_MODEL_4efddadaab354a0e8b02e5f167a59216",
            "max": 556,
            "min": 0,
            "orientation": "horizontal",
            "style": "IPY_MODEL_e278586d9d944740b2d773ad405a6ac7",
            "value": 556
          }
        },
        "66a910a0c3d340879ccfb4ab0df56881": {
          "model_module": "@jupyter-widgets/controls",
          "model_name": "HTMLModel",
          "model_module_version": "1.5.0",
          "state": {
            "_dom_classes": [],
            "_model_module": "@jupyter-widgets/controls",
            "_model_module_version": "1.5.0",
            "_model_name": "HTMLModel",
            "_view_count": null,
            "_view_module": "@jupyter-widgets/controls",
            "_view_module_version": "1.5.0",
            "_view_name": "HTMLView",
            "description": "",
            "description_tooltip": null,
            "layout": "IPY_MODEL_f463d0161110400ba4106b4132f5ac6e",
            "placeholder": "​",
            "style": "IPY_MODEL_a7fd3505938d4de58aa227a2e6c05cc8",
            "value": " 556/556 [00:00&lt;00:00, 42.1kB/s]"
          }
        },
        "3b8c8fac3218424cb8c85c3b8db4e74d": {
          "model_module": "@jupyter-widgets/base",
          "model_name": "LayoutModel",
          "model_module_version": "1.2.0",
          "state": {
            "_model_module": "@jupyter-widgets/base",
            "_model_module_version": "1.2.0",
            "_model_name": "LayoutModel",
            "_view_count": null,
            "_view_module": "@jupyter-widgets/base",
            "_view_module_version": "1.2.0",
            "_view_name": "LayoutView",
            "align_content": null,
            "align_items": null,
            "align_self": null,
            "border": null,
            "bottom": null,
            "display": null,
            "flex": null,
            "flex_flow": null,
            "grid_area": null,
            "grid_auto_columns": null,
            "grid_auto_flow": null,
            "grid_auto_rows": null,
            "grid_column": null,
            "grid_gap": null,
            "grid_row": null,
            "grid_template_areas": null,
            "grid_template_columns": null,
            "grid_template_rows": null,
            "height": null,
            "justify_content": null,
            "justify_items": null,
            "left": null,
            "margin": null,
            "max_height": null,
            "max_width": null,
            "min_height": null,
            "min_width": null,
            "object_fit": null,
            "object_position": null,
            "order": null,
            "overflow": null,
            "overflow_x": null,
            "overflow_y": null,
            "padding": null,
            "right": null,
            "top": null,
            "visibility": null,
            "width": null
          }
        },
        "722f6362bb094ea883fb981943a316bd": {
          "model_module": "@jupyter-widgets/base",
          "model_name": "LayoutModel",
          "model_module_version": "1.2.0",
          "state": {
            "_model_module": "@jupyter-widgets/base",
            "_model_module_version": "1.2.0",
            "_model_name": "LayoutModel",
            "_view_count": null,
            "_view_module": "@jupyter-widgets/base",
            "_view_module_version": "1.2.0",
            "_view_name": "LayoutView",
            "align_content": null,
            "align_items": null,
            "align_self": null,
            "border": null,
            "bottom": null,
            "display": null,
            "flex": null,
            "flex_flow": null,
            "grid_area": null,
            "grid_auto_columns": null,
            "grid_auto_flow": null,
            "grid_auto_rows": null,
            "grid_column": null,
            "grid_gap": null,
            "grid_row": null,
            "grid_template_areas": null,
            "grid_template_columns": null,
            "grid_template_rows": null,
            "height": null,
            "justify_content": null,
            "justify_items": null,
            "left": null,
            "margin": null,
            "max_height": null,
            "max_width": null,
            "min_height": null,
            "min_width": null,
            "object_fit": null,
            "object_position": null,
            "order": null,
            "overflow": null,
            "overflow_x": null,
            "overflow_y": null,
            "padding": null,
            "right": null,
            "top": null,
            "visibility": null,
            "width": null
          }
        },
        "4b3f25a8005146d480af077d562be8fb": {
          "model_module": "@jupyter-widgets/controls",
          "model_name": "DescriptionStyleModel",
          "model_module_version": "1.5.0",
          "state": {
            "_model_module": "@jupyter-widgets/controls",
            "_model_module_version": "1.5.0",
            "_model_name": "DescriptionStyleModel",
            "_view_count": null,
            "_view_module": "@jupyter-widgets/base",
            "_view_module_version": "1.2.0",
            "_view_name": "StyleView",
            "description_width": ""
          }
        },
        "4efddadaab354a0e8b02e5f167a59216": {
          "model_module": "@jupyter-widgets/base",
          "model_name": "LayoutModel",
          "model_module_version": "1.2.0",
          "state": {
            "_model_module": "@jupyter-widgets/base",
            "_model_module_version": "1.2.0",
            "_model_name": "LayoutModel",
            "_view_count": null,
            "_view_module": "@jupyter-widgets/base",
            "_view_module_version": "1.2.0",
            "_view_name": "LayoutView",
            "align_content": null,
            "align_items": null,
            "align_self": null,
            "border": null,
            "bottom": null,
            "display": null,
            "flex": null,
            "flex_flow": null,
            "grid_area": null,
            "grid_auto_columns": null,
            "grid_auto_flow": null,
            "grid_auto_rows": null,
            "grid_column": null,
            "grid_gap": null,
            "grid_row": null,
            "grid_template_areas": null,
            "grid_template_columns": null,
            "grid_template_rows": null,
            "height": null,
            "justify_content": null,
            "justify_items": null,
            "left": null,
            "margin": null,
            "max_height": null,
            "max_width": null,
            "min_height": null,
            "min_width": null,
            "object_fit": null,
            "object_position": null,
            "order": null,
            "overflow": null,
            "overflow_x": null,
            "overflow_y": null,
            "padding": null,
            "right": null,
            "top": null,
            "visibility": null,
            "width": null
          }
        },
        "e278586d9d944740b2d773ad405a6ac7": {
          "model_module": "@jupyter-widgets/controls",
          "model_name": "ProgressStyleModel",
          "model_module_version": "1.5.0",
          "state": {
            "_model_module": "@jupyter-widgets/controls",
            "_model_module_version": "1.5.0",
            "_model_name": "ProgressStyleModel",
            "_view_count": null,
            "_view_module": "@jupyter-widgets/base",
            "_view_module_version": "1.2.0",
            "_view_name": "StyleView",
            "bar_color": null,
            "description_width": ""
          }
        },
        "f463d0161110400ba4106b4132f5ac6e": {
          "model_module": "@jupyter-widgets/base",
          "model_name": "LayoutModel",
          "model_module_version": "1.2.0",
          "state": {
            "_model_module": "@jupyter-widgets/base",
            "_model_module_version": "1.2.0",
            "_model_name": "LayoutModel",
            "_view_count": null,
            "_view_module": "@jupyter-widgets/base",
            "_view_module_version": "1.2.0",
            "_view_name": "LayoutView",
            "align_content": null,
            "align_items": null,
            "align_self": null,
            "border": null,
            "bottom": null,
            "display": null,
            "flex": null,
            "flex_flow": null,
            "grid_area": null,
            "grid_auto_columns": null,
            "grid_auto_flow": null,
            "grid_auto_rows": null,
            "grid_column": null,
            "grid_gap": null,
            "grid_row": null,
            "grid_template_areas": null,
            "grid_template_columns": null,
            "grid_template_rows": null,
            "height": null,
            "justify_content": null,
            "justify_items": null,
            "left": null,
            "margin": null,
            "max_height": null,
            "max_width": null,
            "min_height": null,
            "min_width": null,
            "object_fit": null,
            "object_position": null,
            "order": null,
            "overflow": null,
            "overflow_x": null,
            "overflow_y": null,
            "padding": null,
            "right": null,
            "top": null,
            "visibility": null,
            "width": null
          }
        },
        "a7fd3505938d4de58aa227a2e6c05cc8": {
          "model_module": "@jupyter-widgets/controls",
          "model_name": "DescriptionStyleModel",
          "model_module_version": "1.5.0",
          "state": {
            "_model_module": "@jupyter-widgets/controls",
            "_model_module_version": "1.5.0",
            "_model_name": "DescriptionStyleModel",
            "_view_count": null,
            "_view_module": "@jupyter-widgets/base",
            "_view_module_version": "1.2.0",
            "_view_name": "StyleView",
            "description_width": ""
          }
        },
        "e517e452c5ae4cc8977ec7fedd42c04f": {
          "model_module": "@jupyter-widgets/controls",
          "model_name": "HBoxModel",
          "model_module_version": "1.5.0",
          "state": {
            "_dom_classes": [],
            "_model_module": "@jupyter-widgets/controls",
            "_model_module_version": "1.5.0",
            "_model_name": "HBoxModel",
            "_view_count": null,
            "_view_module": "@jupyter-widgets/controls",
            "_view_module_version": "1.5.0",
            "_view_name": "HBoxView",
            "box_style": "",
            "children": [
              "IPY_MODEL_5e9627f58c264916aa5d73c2f4ff369e",
              "IPY_MODEL_ce3b58a6dec64845975ad4530682169f",
              "IPY_MODEL_4dede7f691dd464e9217f2554c1c41a5"
            ],
            "layout": "IPY_MODEL_9d0ff09a54f44563b19afee62f65d28f"
          }
        },
        "5e9627f58c264916aa5d73c2f4ff369e": {
          "model_module": "@jupyter-widgets/controls",
          "model_name": "HTMLModel",
          "model_module_version": "1.5.0",
          "state": {
            "_dom_classes": [],
            "_model_module": "@jupyter-widgets/controls",
            "_model_module_version": "1.5.0",
            "_model_name": "HTMLModel",
            "_view_count": null,
            "_view_module": "@jupyter-widgets/controls",
            "_view_module_version": "1.5.0",
            "_view_name": "HTMLView",
            "description": "",
            "description_tooltip": null,
            "layout": "IPY_MODEL_b4d1e490c8094de19806de44d66d5ec0",
            "placeholder": "​",
            "style": "IPY_MODEL_997356d9779b4627aa1d32726b1cd7e2",
            "value": "config.json: 100%"
          }
        },
        "ce3b58a6dec64845975ad4530682169f": {
          "model_module": "@jupyter-widgets/controls",
          "model_name": "FloatProgressModel",
          "model_module_version": "1.5.0",
          "state": {
            "_dom_classes": [],
            "_model_module": "@jupyter-widgets/controls",
            "_model_module_version": "1.5.0",
            "_model_name": "FloatProgressModel",
            "_view_count": null,
            "_view_module": "@jupyter-widgets/controls",
            "_view_module_version": "1.5.0",
            "_view_name": "ProgressView",
            "bar_style": "success",
            "description": "",
            "description_tooltip": null,
            "layout": "IPY_MODEL_829400ada660415bb312e4cd61aa0cc7",
            "max": 961,
            "min": 0,
            "orientation": "horizontal",
            "style": "IPY_MODEL_4705193bc5e845bdba1d96a4f647bb71",
            "value": 961
          }
        },
        "4dede7f691dd464e9217f2554c1c41a5": {
          "model_module": "@jupyter-widgets/controls",
          "model_name": "HTMLModel",
          "model_module_version": "1.5.0",
          "state": {
            "_dom_classes": [],
            "_model_module": "@jupyter-widgets/controls",
            "_model_module_version": "1.5.0",
            "_model_name": "HTMLModel",
            "_view_count": null,
            "_view_module": "@jupyter-widgets/controls",
            "_view_module_version": "1.5.0",
            "_view_name": "HTMLView",
            "description": "",
            "description_tooltip": null,
            "layout": "IPY_MODEL_5eaaec7d4ce549e3b8314d4d2865ddfc",
            "placeholder": "​",
            "style": "IPY_MODEL_2e4ade5404414f17ba16a549f9ad4e62",
            "value": " 961/961 [00:00&lt;00:00, 67.9kB/s]"
          }
        },
        "9d0ff09a54f44563b19afee62f65d28f": {
          "model_module": "@jupyter-widgets/base",
          "model_name": "LayoutModel",
          "model_module_version": "1.2.0",
          "state": {
            "_model_module": "@jupyter-widgets/base",
            "_model_module_version": "1.2.0",
            "_model_name": "LayoutModel",
            "_view_count": null,
            "_view_module": "@jupyter-widgets/base",
            "_view_module_version": "1.2.0",
            "_view_name": "LayoutView",
            "align_content": null,
            "align_items": null,
            "align_self": null,
            "border": null,
            "bottom": null,
            "display": null,
            "flex": null,
            "flex_flow": null,
            "grid_area": null,
            "grid_auto_columns": null,
            "grid_auto_flow": null,
            "grid_auto_rows": null,
            "grid_column": null,
            "grid_gap": null,
            "grid_row": null,
            "grid_template_areas": null,
            "grid_template_columns": null,
            "grid_template_rows": null,
            "height": null,
            "justify_content": null,
            "justify_items": null,
            "left": null,
            "margin": null,
            "max_height": null,
            "max_width": null,
            "min_height": null,
            "min_width": null,
            "object_fit": null,
            "object_position": null,
            "order": null,
            "overflow": null,
            "overflow_x": null,
            "overflow_y": null,
            "padding": null,
            "right": null,
            "top": null,
            "visibility": null,
            "width": null
          }
        },
        "b4d1e490c8094de19806de44d66d5ec0": {
          "model_module": "@jupyter-widgets/base",
          "model_name": "LayoutModel",
          "model_module_version": "1.2.0",
          "state": {
            "_model_module": "@jupyter-widgets/base",
            "_model_module_version": "1.2.0",
            "_model_name": "LayoutModel",
            "_view_count": null,
            "_view_module": "@jupyter-widgets/base",
            "_view_module_version": "1.2.0",
            "_view_name": "LayoutView",
            "align_content": null,
            "align_items": null,
            "align_self": null,
            "border": null,
            "bottom": null,
            "display": null,
            "flex": null,
            "flex_flow": null,
            "grid_area": null,
            "grid_auto_columns": null,
            "grid_auto_flow": null,
            "grid_auto_rows": null,
            "grid_column": null,
            "grid_gap": null,
            "grid_row": null,
            "grid_template_areas": null,
            "grid_template_columns": null,
            "grid_template_rows": null,
            "height": null,
            "justify_content": null,
            "justify_items": null,
            "left": null,
            "margin": null,
            "max_height": null,
            "max_width": null,
            "min_height": null,
            "min_width": null,
            "object_fit": null,
            "object_position": null,
            "order": null,
            "overflow": null,
            "overflow_x": null,
            "overflow_y": null,
            "padding": null,
            "right": null,
            "top": null,
            "visibility": null,
            "width": null
          }
        },
        "997356d9779b4627aa1d32726b1cd7e2": {
          "model_module": "@jupyter-widgets/controls",
          "model_name": "DescriptionStyleModel",
          "model_module_version": "1.5.0",
          "state": {
            "_model_module": "@jupyter-widgets/controls",
            "_model_module_version": "1.5.0",
            "_model_name": "DescriptionStyleModel",
            "_view_count": null,
            "_view_module": "@jupyter-widgets/base",
            "_view_module_version": "1.2.0",
            "_view_name": "StyleView",
            "description_width": ""
          }
        },
        "829400ada660415bb312e4cd61aa0cc7": {
          "model_module": "@jupyter-widgets/base",
          "model_name": "LayoutModel",
          "model_module_version": "1.2.0",
          "state": {
            "_model_module": "@jupyter-widgets/base",
            "_model_module_version": "1.2.0",
            "_model_name": "LayoutModel",
            "_view_count": null,
            "_view_module": "@jupyter-widgets/base",
            "_view_module_version": "1.2.0",
            "_view_name": "LayoutView",
            "align_content": null,
            "align_items": null,
            "align_self": null,
            "border": null,
            "bottom": null,
            "display": null,
            "flex": null,
            "flex_flow": null,
            "grid_area": null,
            "grid_auto_columns": null,
            "grid_auto_flow": null,
            "grid_auto_rows": null,
            "grid_column": null,
            "grid_gap": null,
            "grid_row": null,
            "grid_template_areas": null,
            "grid_template_columns": null,
            "grid_template_rows": null,
            "height": null,
            "justify_content": null,
            "justify_items": null,
            "left": null,
            "margin": null,
            "max_height": null,
            "max_width": null,
            "min_height": null,
            "min_width": null,
            "object_fit": null,
            "object_position": null,
            "order": null,
            "overflow": null,
            "overflow_x": null,
            "overflow_y": null,
            "padding": null,
            "right": null,
            "top": null,
            "visibility": null,
            "width": null
          }
        },
        "4705193bc5e845bdba1d96a4f647bb71": {
          "model_module": "@jupyter-widgets/controls",
          "model_name": "ProgressStyleModel",
          "model_module_version": "1.5.0",
          "state": {
            "_model_module": "@jupyter-widgets/controls",
            "_model_module_version": "1.5.0",
            "_model_name": "ProgressStyleModel",
            "_view_count": null,
            "_view_module": "@jupyter-widgets/base",
            "_view_module_version": "1.2.0",
            "_view_name": "StyleView",
            "bar_color": null,
            "description_width": ""
          }
        },
        "5eaaec7d4ce549e3b8314d4d2865ddfc": {
          "model_module": "@jupyter-widgets/base",
          "model_name": "LayoutModel",
          "model_module_version": "1.2.0",
          "state": {
            "_model_module": "@jupyter-widgets/base",
            "_model_module_version": "1.2.0",
            "_model_name": "LayoutModel",
            "_view_count": null,
            "_view_module": "@jupyter-widgets/base",
            "_view_module_version": "1.2.0",
            "_view_name": "LayoutView",
            "align_content": null,
            "align_items": null,
            "align_self": null,
            "border": null,
            "bottom": null,
            "display": null,
            "flex": null,
            "flex_flow": null,
            "grid_area": null,
            "grid_auto_columns": null,
            "grid_auto_flow": null,
            "grid_auto_rows": null,
            "grid_column": null,
            "grid_gap": null,
            "grid_row": null,
            "grid_template_areas": null,
            "grid_template_columns": null,
            "grid_template_rows": null,
            "height": null,
            "justify_content": null,
            "justify_items": null,
            "left": null,
            "margin": null,
            "max_height": null,
            "max_width": null,
            "min_height": null,
            "min_width": null,
            "object_fit": null,
            "object_position": null,
            "order": null,
            "overflow": null,
            "overflow_x": null,
            "overflow_y": null,
            "padding": null,
            "right": null,
            "top": null,
            "visibility": null,
            "width": null
          }
        },
        "2e4ade5404414f17ba16a549f9ad4e62": {
          "model_module": "@jupyter-widgets/controls",
          "model_name": "DescriptionStyleModel",
          "model_module_version": "1.5.0",
          "state": {
            "_model_module": "@jupyter-widgets/controls",
            "_model_module_version": "1.5.0",
            "_model_name": "DescriptionStyleModel",
            "_view_count": null,
            "_view_module": "@jupyter-widgets/base",
            "_view_module_version": "1.2.0",
            "_view_name": "StyleView",
            "description_width": ""
          }
        },
        "78b8071a699c413a887c994554c10b80": {
          "model_module": "@jupyter-widgets/controls",
          "model_name": "HBoxModel",
          "model_module_version": "1.5.0",
          "state": {
            "_dom_classes": [],
            "_model_module": "@jupyter-widgets/controls",
            "_model_module_version": "1.5.0",
            "_model_name": "HBoxModel",
            "_view_count": null,
            "_view_module": "@jupyter-widgets/controls",
            "_view_module_version": "1.5.0",
            "_view_name": "HBoxView",
            "box_style": "",
            "children": [
              "IPY_MODEL_7c4e91b5708b496bbbb47c9809b8e302",
              "IPY_MODEL_8ffb301b07e246ed83fb0417e44b457f",
              "IPY_MODEL_b44155deadb74df2b4a6fbe6703d6be2"
            ],
            "layout": "IPY_MODEL_0927332ee76a4e6e999cd1301c704be0"
          }
        },
        "7c4e91b5708b496bbbb47c9809b8e302": {
          "model_module": "@jupyter-widgets/controls",
          "model_name": "HTMLModel",
          "model_module_version": "1.5.0",
          "state": {
            "_dom_classes": [],
            "_model_module": "@jupyter-widgets/controls",
            "_model_module_version": "1.5.0",
            "_model_name": "HTMLModel",
            "_view_count": null,
            "_view_module": "@jupyter-widgets/controls",
            "_view_module_version": "1.5.0",
            "_view_name": "HTMLView",
            "description": "",
            "description_tooltip": null,
            "layout": "IPY_MODEL_cae7db3ce2d1468d80065bdaa4e433df",
            "placeholder": "​",
            "style": "IPY_MODEL_472f19fbd9a542f4a429fc73f2a7eaa0",
            "value": "model.safetensors: 100%"
          }
        },
        "8ffb301b07e246ed83fb0417e44b457f": {
          "model_module": "@jupyter-widgets/controls",
          "model_name": "FloatProgressModel",
          "model_module_version": "1.5.0",
          "state": {
            "_dom_classes": [],
            "_model_module": "@jupyter-widgets/controls",
            "_model_module_version": "1.5.0",
            "_model_name": "FloatProgressModel",
            "_view_count": null,
            "_view_module": "@jupyter-widgets/controls",
            "_view_module_version": "1.5.0",
            "_view_name": "ProgressView",
            "bar_style": "success",
            "description": "",
            "description_tooltip": null,
            "layout": "IPY_MODEL_d196f53d9e7b40839fc6e48d944d2abd",
            "max": 1583480280,
            "min": 0,
            "orientation": "horizontal",
            "style": "IPY_MODEL_59e23644a957410da0bae566cc1a08f7",
            "value": 1583480280
          }
        },
        "b44155deadb74df2b4a6fbe6703d6be2": {
          "model_module": "@jupyter-widgets/controls",
          "model_name": "HTMLModel",
          "model_module_version": "1.5.0",
          "state": {
            "_dom_classes": [],
            "_model_module": "@jupyter-widgets/controls",
            "_model_module_version": "1.5.0",
            "_model_name": "HTMLModel",
            "_view_count": null,
            "_view_module": "@jupyter-widgets/controls",
            "_view_module_version": "1.5.0",
            "_view_name": "HTMLView",
            "description": "",
            "description_tooltip": null,
            "layout": "IPY_MODEL_53b62af7e5a845e486da5fd613826f1b",
            "placeholder": "​",
            "style": "IPY_MODEL_07d78ef701d34ade88dd7abd34b76503",
            "value": " 1.58G/1.58G [00:37&lt;00:00, 42.8MB/s]"
          }
        },
        "0927332ee76a4e6e999cd1301c704be0": {
          "model_module": "@jupyter-widgets/base",
          "model_name": "LayoutModel",
          "model_module_version": "1.2.0",
          "state": {
            "_model_module": "@jupyter-widgets/base",
            "_model_module_version": "1.2.0",
            "_model_name": "LayoutModel",
            "_view_count": null,
            "_view_module": "@jupyter-widgets/base",
            "_view_module_version": "1.2.0",
            "_view_name": "LayoutView",
            "align_content": null,
            "align_items": null,
            "align_self": null,
            "border": null,
            "bottom": null,
            "display": null,
            "flex": null,
            "flex_flow": null,
            "grid_area": null,
            "grid_auto_columns": null,
            "grid_auto_flow": null,
            "grid_auto_rows": null,
            "grid_column": null,
            "grid_gap": null,
            "grid_row": null,
            "grid_template_areas": null,
            "grid_template_columns": null,
            "grid_template_rows": null,
            "height": null,
            "justify_content": null,
            "justify_items": null,
            "left": null,
            "margin": null,
            "max_height": null,
            "max_width": null,
            "min_height": null,
            "min_width": null,
            "object_fit": null,
            "object_position": null,
            "order": null,
            "overflow": null,
            "overflow_x": null,
            "overflow_y": null,
            "padding": null,
            "right": null,
            "top": null,
            "visibility": null,
            "width": null
          }
        },
        "cae7db3ce2d1468d80065bdaa4e433df": {
          "model_module": "@jupyter-widgets/base",
          "model_name": "LayoutModel",
          "model_module_version": "1.2.0",
          "state": {
            "_model_module": "@jupyter-widgets/base",
            "_model_module_version": "1.2.0",
            "_model_name": "LayoutModel",
            "_view_count": null,
            "_view_module": "@jupyter-widgets/base",
            "_view_module_version": "1.2.0",
            "_view_name": "LayoutView",
            "align_content": null,
            "align_items": null,
            "align_self": null,
            "border": null,
            "bottom": null,
            "display": null,
            "flex": null,
            "flex_flow": null,
            "grid_area": null,
            "grid_auto_columns": null,
            "grid_auto_flow": null,
            "grid_auto_rows": null,
            "grid_column": null,
            "grid_gap": null,
            "grid_row": null,
            "grid_template_areas": null,
            "grid_template_columns": null,
            "grid_template_rows": null,
            "height": null,
            "justify_content": null,
            "justify_items": null,
            "left": null,
            "margin": null,
            "max_height": null,
            "max_width": null,
            "min_height": null,
            "min_width": null,
            "object_fit": null,
            "object_position": null,
            "order": null,
            "overflow": null,
            "overflow_x": null,
            "overflow_y": null,
            "padding": null,
            "right": null,
            "top": null,
            "visibility": null,
            "width": null
          }
        },
        "472f19fbd9a542f4a429fc73f2a7eaa0": {
          "model_module": "@jupyter-widgets/controls",
          "model_name": "DescriptionStyleModel",
          "model_module_version": "1.5.0",
          "state": {
            "_model_module": "@jupyter-widgets/controls",
            "_model_module_version": "1.5.0",
            "_model_name": "DescriptionStyleModel",
            "_view_count": null,
            "_view_module": "@jupyter-widgets/base",
            "_view_module_version": "1.2.0",
            "_view_name": "StyleView",
            "description_width": ""
          }
        },
        "d196f53d9e7b40839fc6e48d944d2abd": {
          "model_module": "@jupyter-widgets/base",
          "model_name": "LayoutModel",
          "model_module_version": "1.2.0",
          "state": {
            "_model_module": "@jupyter-widgets/base",
            "_model_module_version": "1.2.0",
            "_model_name": "LayoutModel",
            "_view_count": null,
            "_view_module": "@jupyter-widgets/base",
            "_view_module_version": "1.2.0",
            "_view_name": "LayoutView",
            "align_content": null,
            "align_items": null,
            "align_self": null,
            "border": null,
            "bottom": null,
            "display": null,
            "flex": null,
            "flex_flow": null,
            "grid_area": null,
            "grid_auto_columns": null,
            "grid_auto_flow": null,
            "grid_auto_rows": null,
            "grid_column": null,
            "grid_gap": null,
            "grid_row": null,
            "grid_template_areas": null,
            "grid_template_columns": null,
            "grid_template_rows": null,
            "height": null,
            "justify_content": null,
            "justify_items": null,
            "left": null,
            "margin": null,
            "max_height": null,
            "max_width": null,
            "min_height": null,
            "min_width": null,
            "object_fit": null,
            "object_position": null,
            "order": null,
            "overflow": null,
            "overflow_x": null,
            "overflow_y": null,
            "padding": null,
            "right": null,
            "top": null,
            "visibility": null,
            "width": null
          }
        },
        "59e23644a957410da0bae566cc1a08f7": {
          "model_module": "@jupyter-widgets/controls",
          "model_name": "ProgressStyleModel",
          "model_module_version": "1.5.0",
          "state": {
            "_model_module": "@jupyter-widgets/controls",
            "_model_module_version": "1.5.0",
            "_model_name": "ProgressStyleModel",
            "_view_count": null,
            "_view_module": "@jupyter-widgets/base",
            "_view_module_version": "1.2.0",
            "_view_name": "StyleView",
            "bar_color": null,
            "description_width": ""
          }
        },
        "53b62af7e5a845e486da5fd613826f1b": {
          "model_module": "@jupyter-widgets/base",
          "model_name": "LayoutModel",
          "model_module_version": "1.2.0",
          "state": {
            "_model_module": "@jupyter-widgets/base",
            "_model_module_version": "1.2.0",
            "_model_name": "LayoutModel",
            "_view_count": null,
            "_view_module": "@jupyter-widgets/base",
            "_view_module_version": "1.2.0",
            "_view_name": "LayoutView",
            "align_content": null,
            "align_items": null,
            "align_self": null,
            "border": null,
            "bottom": null,
            "display": null,
            "flex": null,
            "flex_flow": null,
            "grid_area": null,
            "grid_auto_columns": null,
            "grid_auto_flow": null,
            "grid_auto_rows": null,
            "grid_column": null,
            "grid_gap": null,
            "grid_row": null,
            "grid_template_areas": null,
            "grid_template_columns": null,
            "grid_template_rows": null,
            "height": null,
            "justify_content": null,
            "justify_items": null,
            "left": null,
            "margin": null,
            "max_height": null,
            "max_width": null,
            "min_height": null,
            "min_width": null,
            "object_fit": null,
            "object_position": null,
            "order": null,
            "overflow": null,
            "overflow_x": null,
            "overflow_y": null,
            "padding": null,
            "right": null,
            "top": null,
            "visibility": null,
            "width": null
          }
        },
        "07d78ef701d34ade88dd7abd34b76503": {
          "model_module": "@jupyter-widgets/controls",
          "model_name": "DescriptionStyleModel",
          "model_module_version": "1.5.0",
          "state": {
            "_model_module": "@jupyter-widgets/controls",
            "_model_module_version": "1.5.0",
            "_model_name": "DescriptionStyleModel",
            "_view_count": null,
            "_view_module": "@jupyter-widgets/base",
            "_view_module_version": "1.2.0",
            "_view_name": "StyleView",
            "description_width": ""
          }
        },
        "b13e0b2df4654e67849ee329819aa300": {
          "model_module": "@jupyter-widgets/controls",
          "model_name": "HBoxModel",
          "model_module_version": "1.5.0",
          "state": {
            "_dom_classes": [],
            "_model_module": "@jupyter-widgets/controls",
            "_model_module_version": "1.5.0",
            "_model_name": "HBoxModel",
            "_view_count": null,
            "_view_module": "@jupyter-widgets/controls",
            "_view_module_version": "1.5.0",
            "_view_name": "HBoxView",
            "box_style": "",
            "children": [
              "IPY_MODEL_c5f2aa6c9ecb4d1ab3142948fdba47b4",
              "IPY_MODEL_8cf7eebc89794d99a0c1040168bf0983",
              "IPY_MODEL_69852c266a464f088fa2e2e5439702d8"
            ],
            "layout": "IPY_MODEL_db4fdc646a4d4ea2ad11cd456f39eb27"
          }
        },
        "c5f2aa6c9ecb4d1ab3142948fdba47b4": {
          "model_module": "@jupyter-widgets/controls",
          "model_name": "HTMLModel",
          "model_module_version": "1.5.0",
          "state": {
            "_dom_classes": [],
            "_model_module": "@jupyter-widgets/controls",
            "_model_module_version": "1.5.0",
            "_model_name": "HTMLModel",
            "_view_count": null,
            "_view_module": "@jupyter-widgets/controls",
            "_view_module_version": "1.5.0",
            "_view_name": "HTMLView",
            "description": "",
            "description_tooltip": null,
            "layout": "IPY_MODEL_af9e399d339c4140b7b2bda816dad530",
            "placeholder": "​",
            "style": "IPY_MODEL_5d7905e5759a4a26a49da8ce0caa82dc",
            "value": "tokenizer_config.json: 100%"
          }
        },
        "8cf7eebc89794d99a0c1040168bf0983": {
          "model_module": "@jupyter-widgets/controls",
          "model_name": "FloatProgressModel",
          "model_module_version": "1.5.0",
          "state": {
            "_dom_classes": [],
            "_model_module": "@jupyter-widgets/controls",
            "_model_module_version": "1.5.0",
            "_model_name": "FloatProgressModel",
            "_view_count": null,
            "_view_module": "@jupyter-widgets/controls",
            "_view_module_version": "1.5.0",
            "_view_name": "ProgressView",
            "bar_style": "success",
            "description": "",
            "description_tooltip": null,
            "layout": "IPY_MODEL_d509ae997e614d0d8e0273c7ab51ee22",
            "max": 1168,
            "min": 0,
            "orientation": "horizontal",
            "style": "IPY_MODEL_4a995d81f39f48828a533c5202a3411f",
            "value": 1168
          }
        },
        "69852c266a464f088fa2e2e5439702d8": {
          "model_module": "@jupyter-widgets/controls",
          "model_name": "HTMLModel",
          "model_module_version": "1.5.0",
          "state": {
            "_dom_classes": [],
            "_model_module": "@jupyter-widgets/controls",
            "_model_module_version": "1.5.0",
            "_model_name": "HTMLModel",
            "_view_count": null,
            "_view_module": "@jupyter-widgets/controls",
            "_view_module_version": "1.5.0",
            "_view_name": "HTMLView",
            "description": "",
            "description_tooltip": null,
            "layout": "IPY_MODEL_6e33ae77d3394b9e92fedf2854b51f3c",
            "placeholder": "​",
            "style": "IPY_MODEL_b790fba488a746cf97c4b97a6b7b6700",
            "value": " 1.17k/1.17k [00:00&lt;00:00, 60.4kB/s]"
          }
        },
        "db4fdc646a4d4ea2ad11cd456f39eb27": {
          "model_module": "@jupyter-widgets/base",
          "model_name": "LayoutModel",
          "model_module_version": "1.2.0",
          "state": {
            "_model_module": "@jupyter-widgets/base",
            "_model_module_version": "1.2.0",
            "_model_name": "LayoutModel",
            "_view_count": null,
            "_view_module": "@jupyter-widgets/base",
            "_view_module_version": "1.2.0",
            "_view_name": "LayoutView",
            "align_content": null,
            "align_items": null,
            "align_self": null,
            "border": null,
            "bottom": null,
            "display": null,
            "flex": null,
            "flex_flow": null,
            "grid_area": null,
            "grid_auto_columns": null,
            "grid_auto_flow": null,
            "grid_auto_rows": null,
            "grid_column": null,
            "grid_gap": null,
            "grid_row": null,
            "grid_template_areas": null,
            "grid_template_columns": null,
            "grid_template_rows": null,
            "height": null,
            "justify_content": null,
            "justify_items": null,
            "left": null,
            "margin": null,
            "max_height": null,
            "max_width": null,
            "min_height": null,
            "min_width": null,
            "object_fit": null,
            "object_position": null,
            "order": null,
            "overflow": null,
            "overflow_x": null,
            "overflow_y": null,
            "padding": null,
            "right": null,
            "top": null,
            "visibility": null,
            "width": null
          }
        },
        "af9e399d339c4140b7b2bda816dad530": {
          "model_module": "@jupyter-widgets/base",
          "model_name": "LayoutModel",
          "model_module_version": "1.2.0",
          "state": {
            "_model_module": "@jupyter-widgets/base",
            "_model_module_version": "1.2.0",
            "_model_name": "LayoutModel",
            "_view_count": null,
            "_view_module": "@jupyter-widgets/base",
            "_view_module_version": "1.2.0",
            "_view_name": "LayoutView",
            "align_content": null,
            "align_items": null,
            "align_self": null,
            "border": null,
            "bottom": null,
            "display": null,
            "flex": null,
            "flex_flow": null,
            "grid_area": null,
            "grid_auto_columns": null,
            "grid_auto_flow": null,
            "grid_auto_rows": null,
            "grid_column": null,
            "grid_gap": null,
            "grid_row": null,
            "grid_template_areas": null,
            "grid_template_columns": null,
            "grid_template_rows": null,
            "height": null,
            "justify_content": null,
            "justify_items": null,
            "left": null,
            "margin": null,
            "max_height": null,
            "max_width": null,
            "min_height": null,
            "min_width": null,
            "object_fit": null,
            "object_position": null,
            "order": null,
            "overflow": null,
            "overflow_x": null,
            "overflow_y": null,
            "padding": null,
            "right": null,
            "top": null,
            "visibility": null,
            "width": null
          }
        },
        "5d7905e5759a4a26a49da8ce0caa82dc": {
          "model_module": "@jupyter-widgets/controls",
          "model_name": "DescriptionStyleModel",
          "model_module_version": "1.5.0",
          "state": {
            "_model_module": "@jupyter-widgets/controls",
            "_model_module_version": "1.5.0",
            "_model_name": "DescriptionStyleModel",
            "_view_count": null,
            "_view_module": "@jupyter-widgets/base",
            "_view_module_version": "1.2.0",
            "_view_name": "StyleView",
            "description_width": ""
          }
        },
        "d509ae997e614d0d8e0273c7ab51ee22": {
          "model_module": "@jupyter-widgets/base",
          "model_name": "LayoutModel",
          "model_module_version": "1.2.0",
          "state": {
            "_model_module": "@jupyter-widgets/base",
            "_model_module_version": "1.2.0",
            "_model_name": "LayoutModel",
            "_view_count": null,
            "_view_module": "@jupyter-widgets/base",
            "_view_module_version": "1.2.0",
            "_view_name": "LayoutView",
            "align_content": null,
            "align_items": null,
            "align_self": null,
            "border": null,
            "bottom": null,
            "display": null,
            "flex": null,
            "flex_flow": null,
            "grid_area": null,
            "grid_auto_columns": null,
            "grid_auto_flow": null,
            "grid_auto_rows": null,
            "grid_column": null,
            "grid_gap": null,
            "grid_row": null,
            "grid_template_areas": null,
            "grid_template_columns": null,
            "grid_template_rows": null,
            "height": null,
            "justify_content": null,
            "justify_items": null,
            "left": null,
            "margin": null,
            "max_height": null,
            "max_width": null,
            "min_height": null,
            "min_width": null,
            "object_fit": null,
            "object_position": null,
            "order": null,
            "overflow": null,
            "overflow_x": null,
            "overflow_y": null,
            "padding": null,
            "right": null,
            "top": null,
            "visibility": null,
            "width": null
          }
        },
        "4a995d81f39f48828a533c5202a3411f": {
          "model_module": "@jupyter-widgets/controls",
          "model_name": "ProgressStyleModel",
          "model_module_version": "1.5.0",
          "state": {
            "_model_module": "@jupyter-widgets/controls",
            "_model_module_version": "1.5.0",
            "_model_name": "ProgressStyleModel",
            "_view_count": null,
            "_view_module": "@jupyter-widgets/base",
            "_view_module_version": "1.2.0",
            "_view_name": "StyleView",
            "bar_color": null,
            "description_width": ""
          }
        },
        "6e33ae77d3394b9e92fedf2854b51f3c": {
          "model_module": "@jupyter-widgets/base",
          "model_name": "LayoutModel",
          "model_module_version": "1.2.0",
          "state": {
            "_model_module": "@jupyter-widgets/base",
            "_model_module_version": "1.2.0",
            "_model_name": "LayoutModel",
            "_view_count": null,
            "_view_module": "@jupyter-widgets/base",
            "_view_module_version": "1.2.0",
            "_view_name": "LayoutView",
            "align_content": null,
            "align_items": null,
            "align_self": null,
            "border": null,
            "bottom": null,
            "display": null,
            "flex": null,
            "flex_flow": null,
            "grid_area": null,
            "grid_auto_columns": null,
            "grid_auto_flow": null,
            "grid_auto_rows": null,
            "grid_column": null,
            "grid_gap": null,
            "grid_row": null,
            "grid_template_areas": null,
            "grid_template_columns": null,
            "grid_template_rows": null,
            "height": null,
            "justify_content": null,
            "justify_items": null,
            "left": null,
            "margin": null,
            "max_height": null,
            "max_width": null,
            "min_height": null,
            "min_width": null,
            "object_fit": null,
            "object_position": null,
            "order": null,
            "overflow": null,
            "overflow_x": null,
            "overflow_y": null,
            "padding": null,
            "right": null,
            "top": null,
            "visibility": null,
            "width": null
          }
        },
        "b790fba488a746cf97c4b97a6b7b6700": {
          "model_module": "@jupyter-widgets/controls",
          "model_name": "DescriptionStyleModel",
          "model_module_version": "1.5.0",
          "state": {
            "_model_module": "@jupyter-widgets/controls",
            "_model_module_version": "1.5.0",
            "_model_name": "DescriptionStyleModel",
            "_view_count": null,
            "_view_module": "@jupyter-widgets/base",
            "_view_module_version": "1.2.0",
            "_view_name": "StyleView",
            "description_width": ""
          }
        },
        "d727639874d64b08b87d35d61d9719d4": {
          "model_module": "@jupyter-widgets/controls",
          "model_name": "HBoxModel",
          "model_module_version": "1.5.0",
          "state": {
            "_dom_classes": [],
            "_model_module": "@jupyter-widgets/controls",
            "_model_module_version": "1.5.0",
            "_model_name": "HBoxModel",
            "_view_count": null,
            "_view_module": "@jupyter-widgets/controls",
            "_view_module_version": "1.5.0",
            "_view_name": "HBoxView",
            "box_style": "",
            "children": [
              "IPY_MODEL_2781c268ba1542bc8559a1f9f879307b",
              "IPY_MODEL_c63ac11865f84f44a2475d8467438deb",
              "IPY_MODEL_892f97bb42224a3996a012f9f21ba4b1"
            ],
            "layout": "IPY_MODEL_9c1671ed3536449d902e5f088d8e1e0a"
          }
        },
        "2781c268ba1542bc8559a1f9f879307b": {
          "model_module": "@jupyter-widgets/controls",
          "model_name": "HTMLModel",
          "model_module_version": "1.5.0",
          "state": {
            "_dom_classes": [],
            "_model_module": "@jupyter-widgets/controls",
            "_model_module_version": "1.5.0",
            "_model_name": "HTMLModel",
            "_view_count": null,
            "_view_module": "@jupyter-widgets/controls",
            "_view_module_version": "1.5.0",
            "_view_name": "HTMLView",
            "description": "",
            "description_tooltip": null,
            "layout": "IPY_MODEL_19a827dc09744c8baae30793baa8894c",
            "placeholder": "​",
            "style": "IPY_MODEL_aa7517c0f7704fbba3c7115c9190761d",
            "value": "sentencepiece.bpe.model: 100%"
          }
        },
        "c63ac11865f84f44a2475d8467438deb": {
          "model_module": "@jupyter-widgets/controls",
          "model_name": "FloatProgressModel",
          "model_module_version": "1.5.0",
          "state": {
            "_dom_classes": [],
            "_model_module": "@jupyter-widgets/controls",
            "_model_module_version": "1.5.0",
            "_model_name": "FloatProgressModel",
            "_view_count": null,
            "_view_module": "@jupyter-widgets/controls",
            "_view_module_version": "1.5.0",
            "_view_name": "ProgressView",
            "bar_style": "success",
            "description": "",
            "description_tooltip": null,
            "layout": "IPY_MODEL_340da51614e6411fbf3da80eca31a21c",
            "max": 5069051,
            "min": 0,
            "orientation": "horizontal",
            "style": "IPY_MODEL_0c68b9dce081468089f295ccf06ebbff",
            "value": 5069051
          }
        },
        "892f97bb42224a3996a012f9f21ba4b1": {
          "model_module": "@jupyter-widgets/controls",
          "model_name": "HTMLModel",
          "model_module_version": "1.5.0",
          "state": {
            "_dom_classes": [],
            "_model_module": "@jupyter-widgets/controls",
            "_model_module_version": "1.5.0",
            "_model_name": "HTMLModel",
            "_view_count": null,
            "_view_module": "@jupyter-widgets/controls",
            "_view_module_version": "1.5.0",
            "_view_name": "HTMLView",
            "description": "",
            "description_tooltip": null,
            "layout": "IPY_MODEL_2017df7bda53410c8a4ea4b31e7e0b5b",
            "placeholder": "​",
            "style": "IPY_MODEL_0a93a6ea9f87443aaa6f8f78e9292ab1",
            "value": " 5.07M/5.07M [00:00&lt;00:00, 43.7MB/s]"
          }
        },
        "9c1671ed3536449d902e5f088d8e1e0a": {
          "model_module": "@jupyter-widgets/base",
          "model_name": "LayoutModel",
          "model_module_version": "1.2.0",
          "state": {
            "_model_module": "@jupyter-widgets/base",
            "_model_module_version": "1.2.0",
            "_model_name": "LayoutModel",
            "_view_count": null,
            "_view_module": "@jupyter-widgets/base",
            "_view_module_version": "1.2.0",
            "_view_name": "LayoutView",
            "align_content": null,
            "align_items": null,
            "align_self": null,
            "border": null,
            "bottom": null,
            "display": null,
            "flex": null,
            "flex_flow": null,
            "grid_area": null,
            "grid_auto_columns": null,
            "grid_auto_flow": null,
            "grid_auto_rows": null,
            "grid_column": null,
            "grid_gap": null,
            "grid_row": null,
            "grid_template_areas": null,
            "grid_template_columns": null,
            "grid_template_rows": null,
            "height": null,
            "justify_content": null,
            "justify_items": null,
            "left": null,
            "margin": null,
            "max_height": null,
            "max_width": null,
            "min_height": null,
            "min_width": null,
            "object_fit": null,
            "object_position": null,
            "order": null,
            "overflow": null,
            "overflow_x": null,
            "overflow_y": null,
            "padding": null,
            "right": null,
            "top": null,
            "visibility": null,
            "width": null
          }
        },
        "19a827dc09744c8baae30793baa8894c": {
          "model_module": "@jupyter-widgets/base",
          "model_name": "LayoutModel",
          "model_module_version": "1.2.0",
          "state": {
            "_model_module": "@jupyter-widgets/base",
            "_model_module_version": "1.2.0",
            "_model_name": "LayoutModel",
            "_view_count": null,
            "_view_module": "@jupyter-widgets/base",
            "_view_module_version": "1.2.0",
            "_view_name": "LayoutView",
            "align_content": null,
            "align_items": null,
            "align_self": null,
            "border": null,
            "bottom": null,
            "display": null,
            "flex": null,
            "flex_flow": null,
            "grid_area": null,
            "grid_auto_columns": null,
            "grid_auto_flow": null,
            "grid_auto_rows": null,
            "grid_column": null,
            "grid_gap": null,
            "grid_row": null,
            "grid_template_areas": null,
            "grid_template_columns": null,
            "grid_template_rows": null,
            "height": null,
            "justify_content": null,
            "justify_items": null,
            "left": null,
            "margin": null,
            "max_height": null,
            "max_width": null,
            "min_height": null,
            "min_width": null,
            "object_fit": null,
            "object_position": null,
            "order": null,
            "overflow": null,
            "overflow_x": null,
            "overflow_y": null,
            "padding": null,
            "right": null,
            "top": null,
            "visibility": null,
            "width": null
          }
        },
        "aa7517c0f7704fbba3c7115c9190761d": {
          "model_module": "@jupyter-widgets/controls",
          "model_name": "DescriptionStyleModel",
          "model_module_version": "1.5.0",
          "state": {
            "_model_module": "@jupyter-widgets/controls",
            "_model_module_version": "1.5.0",
            "_model_name": "DescriptionStyleModel",
            "_view_count": null,
            "_view_module": "@jupyter-widgets/base",
            "_view_module_version": "1.2.0",
            "_view_name": "StyleView",
            "description_width": ""
          }
        },
        "340da51614e6411fbf3da80eca31a21c": {
          "model_module": "@jupyter-widgets/base",
          "model_name": "LayoutModel",
          "model_module_version": "1.2.0",
          "state": {
            "_model_module": "@jupyter-widgets/base",
            "_model_module_version": "1.2.0",
            "_model_name": "LayoutModel",
            "_view_count": null,
            "_view_module": "@jupyter-widgets/base",
            "_view_module_version": "1.2.0",
            "_view_name": "LayoutView",
            "align_content": null,
            "align_items": null,
            "align_self": null,
            "border": null,
            "bottom": null,
            "display": null,
            "flex": null,
            "flex_flow": null,
            "grid_area": null,
            "grid_auto_columns": null,
            "grid_auto_flow": null,
            "grid_auto_rows": null,
            "grid_column": null,
            "grid_gap": null,
            "grid_row": null,
            "grid_template_areas": null,
            "grid_template_columns": null,
            "grid_template_rows": null,
            "height": null,
            "justify_content": null,
            "justify_items": null,
            "left": null,
            "margin": null,
            "max_height": null,
            "max_width": null,
            "min_height": null,
            "min_width": null,
            "object_fit": null,
            "object_position": null,
            "order": null,
            "overflow": null,
            "overflow_x": null,
            "overflow_y": null,
            "padding": null,
            "right": null,
            "top": null,
            "visibility": null,
            "width": null
          }
        },
        "0c68b9dce081468089f295ccf06ebbff": {
          "model_module": "@jupyter-widgets/controls",
          "model_name": "ProgressStyleModel",
          "model_module_version": "1.5.0",
          "state": {
            "_model_module": "@jupyter-widgets/controls",
            "_model_module_version": "1.5.0",
            "_model_name": "ProgressStyleModel",
            "_view_count": null,
            "_view_module": "@jupyter-widgets/base",
            "_view_module_version": "1.2.0",
            "_view_name": "StyleView",
            "bar_color": null,
            "description_width": ""
          }
        },
        "2017df7bda53410c8a4ea4b31e7e0b5b": {
          "model_module": "@jupyter-widgets/base",
          "model_name": "LayoutModel",
          "model_module_version": "1.2.0",
          "state": {
            "_model_module": "@jupyter-widgets/base",
            "_model_module_version": "1.2.0",
            "_model_name": "LayoutModel",
            "_view_count": null,
            "_view_module": "@jupyter-widgets/base",
            "_view_module_version": "1.2.0",
            "_view_name": "LayoutView",
            "align_content": null,
            "align_items": null,
            "align_self": null,
            "border": null,
            "bottom": null,
            "display": null,
            "flex": null,
            "flex_flow": null,
            "grid_area": null,
            "grid_auto_columns": null,
            "grid_auto_flow": null,
            "grid_auto_rows": null,
            "grid_column": null,
            "grid_gap": null,
            "grid_row": null,
            "grid_template_areas": null,
            "grid_template_columns": null,
            "grid_template_rows": null,
            "height": null,
            "justify_content": null,
            "justify_items": null,
            "left": null,
            "margin": null,
            "max_height": null,
            "max_width": null,
            "min_height": null,
            "min_width": null,
            "object_fit": null,
            "object_position": null,
            "order": null,
            "overflow": null,
            "overflow_x": null,
            "overflow_y": null,
            "padding": null,
            "right": null,
            "top": null,
            "visibility": null,
            "width": null
          }
        },
        "0a93a6ea9f87443aaa6f8f78e9292ab1": {
          "model_module": "@jupyter-widgets/controls",
          "model_name": "DescriptionStyleModel",
          "model_module_version": "1.5.0",
          "state": {
            "_model_module": "@jupyter-widgets/controls",
            "_model_module_version": "1.5.0",
            "_model_name": "DescriptionStyleModel",
            "_view_count": null,
            "_view_module": "@jupyter-widgets/base",
            "_view_module_version": "1.2.0",
            "_view_name": "StyleView",
            "description_width": ""
          }
        },
        "fbe27503797240b8816a0b3799b9cf32": {
          "model_module": "@jupyter-widgets/controls",
          "model_name": "HBoxModel",
          "model_module_version": "1.5.0",
          "state": {
            "_dom_classes": [],
            "_model_module": "@jupyter-widgets/controls",
            "_model_module_version": "1.5.0",
            "_model_name": "HBoxModel",
            "_view_count": null,
            "_view_module": "@jupyter-widgets/controls",
            "_view_module_version": "1.5.0",
            "_view_name": "HBoxView",
            "box_style": "",
            "children": [
              "IPY_MODEL_6a6e3e562e014479a6c53c18ceeb9b9d",
              "IPY_MODEL_ff61d284d27041e689a77e0dfda247ca",
              "IPY_MODEL_1bed7c2673e440af81f32eb8b93e9cf0"
            ],
            "layout": "IPY_MODEL_8c80927f5e304b00a2f6307ce8734f3c"
          }
        },
        "6a6e3e562e014479a6c53c18ceeb9b9d": {
          "model_module": "@jupyter-widgets/controls",
          "model_name": "HTMLModel",
          "model_module_version": "1.5.0",
          "state": {
            "_dom_classes": [],
            "_model_module": "@jupyter-widgets/controls",
            "_model_module_version": "1.5.0",
            "_model_name": "HTMLModel",
            "_view_count": null,
            "_view_module": "@jupyter-widgets/controls",
            "_view_module_version": "1.5.0",
            "_view_name": "HTMLView",
            "description": "",
            "description_tooltip": null,
            "layout": "IPY_MODEL_701dfbe472644705b846e6390a846bd7",
            "placeholder": "​",
            "style": "IPY_MODEL_512d0d06ac434216996fe8ad8257c442",
            "value": "dict.txt: 100%"
          }
        },
        "ff61d284d27041e689a77e0dfda247ca": {
          "model_module": "@jupyter-widgets/controls",
          "model_name": "FloatProgressModel",
          "model_module_version": "1.5.0",
          "state": {
            "_dom_classes": [],
            "_model_module": "@jupyter-widgets/controls",
            "_model_module_version": "1.5.0",
            "_model_name": "FloatProgressModel",
            "_view_count": null,
            "_view_module": "@jupyter-widgets/controls",
            "_view_module_version": "1.5.0",
            "_view_name": "ProgressView",
            "bar_style": "success",
            "description": "",
            "description_tooltip": null,
            "layout": "IPY_MODEL_30f8a15f4e1f49a596396d7fdb1287cf",
            "max": 360025,
            "min": 0,
            "orientation": "horizontal",
            "style": "IPY_MODEL_34879d928f424bc7aadad5ee7af99b0b",
            "value": 360025
          }
        },
        "1bed7c2673e440af81f32eb8b93e9cf0": {
          "model_module": "@jupyter-widgets/controls",
          "model_name": "HTMLModel",
          "model_module_version": "1.5.0",
          "state": {
            "_dom_classes": [],
            "_model_module": "@jupyter-widgets/controls",
            "_model_module_version": "1.5.0",
            "_model_name": "HTMLModel",
            "_view_count": null,
            "_view_module": "@jupyter-widgets/controls",
            "_view_module_version": "1.5.0",
            "_view_name": "HTMLView",
            "description": "",
            "description_tooltip": null,
            "layout": "IPY_MODEL_37133185bda34bc88d8847ab9eb847b4",
            "placeholder": "​",
            "style": "IPY_MODEL_797daa95ebae4fa89001331cd4ef48c5",
            "value": " 360k/360k [00:00&lt;00:00, 5.13MB/s]"
          }
        },
        "8c80927f5e304b00a2f6307ce8734f3c": {
          "model_module": "@jupyter-widgets/base",
          "model_name": "LayoutModel",
          "model_module_version": "1.2.0",
          "state": {
            "_model_module": "@jupyter-widgets/base",
            "_model_module_version": "1.2.0",
            "_model_name": "LayoutModel",
            "_view_count": null,
            "_view_module": "@jupyter-widgets/base",
            "_view_module_version": "1.2.0",
            "_view_name": "LayoutView",
            "align_content": null,
            "align_items": null,
            "align_self": null,
            "border": null,
            "bottom": null,
            "display": null,
            "flex": null,
            "flex_flow": null,
            "grid_area": null,
            "grid_auto_columns": null,
            "grid_auto_flow": null,
            "grid_auto_rows": null,
            "grid_column": null,
            "grid_gap": null,
            "grid_row": null,
            "grid_template_areas": null,
            "grid_template_columns": null,
            "grid_template_rows": null,
            "height": null,
            "justify_content": null,
            "justify_items": null,
            "left": null,
            "margin": null,
            "max_height": null,
            "max_width": null,
            "min_height": null,
            "min_width": null,
            "object_fit": null,
            "object_position": null,
            "order": null,
            "overflow": null,
            "overflow_x": null,
            "overflow_y": null,
            "padding": null,
            "right": null,
            "top": null,
            "visibility": null,
            "width": null
          }
        },
        "701dfbe472644705b846e6390a846bd7": {
          "model_module": "@jupyter-widgets/base",
          "model_name": "LayoutModel",
          "model_module_version": "1.2.0",
          "state": {
            "_model_module": "@jupyter-widgets/base",
            "_model_module_version": "1.2.0",
            "_model_name": "LayoutModel",
            "_view_count": null,
            "_view_module": "@jupyter-widgets/base",
            "_view_module_version": "1.2.0",
            "_view_name": "LayoutView",
            "align_content": null,
            "align_items": null,
            "align_self": null,
            "border": null,
            "bottom": null,
            "display": null,
            "flex": null,
            "flex_flow": null,
            "grid_area": null,
            "grid_auto_columns": null,
            "grid_auto_flow": null,
            "grid_auto_rows": null,
            "grid_column": null,
            "grid_gap": null,
            "grid_row": null,
            "grid_template_areas": null,
            "grid_template_columns": null,
            "grid_template_rows": null,
            "height": null,
            "justify_content": null,
            "justify_items": null,
            "left": null,
            "margin": null,
            "max_height": null,
            "max_width": null,
            "min_height": null,
            "min_width": null,
            "object_fit": null,
            "object_position": null,
            "order": null,
            "overflow": null,
            "overflow_x": null,
            "overflow_y": null,
            "padding": null,
            "right": null,
            "top": null,
            "visibility": null,
            "width": null
          }
        },
        "512d0d06ac434216996fe8ad8257c442": {
          "model_module": "@jupyter-widgets/controls",
          "model_name": "DescriptionStyleModel",
          "model_module_version": "1.5.0",
          "state": {
            "_model_module": "@jupyter-widgets/controls",
            "_model_module_version": "1.5.0",
            "_model_name": "DescriptionStyleModel",
            "_view_count": null,
            "_view_module": "@jupyter-widgets/base",
            "_view_module_version": "1.2.0",
            "_view_name": "StyleView",
            "description_width": ""
          }
        },
        "30f8a15f4e1f49a596396d7fdb1287cf": {
          "model_module": "@jupyter-widgets/base",
          "model_name": "LayoutModel",
          "model_module_version": "1.2.0",
          "state": {
            "_model_module": "@jupyter-widgets/base",
            "_model_module_version": "1.2.0",
            "_model_name": "LayoutModel",
            "_view_count": null,
            "_view_module": "@jupyter-widgets/base",
            "_view_module_version": "1.2.0",
            "_view_name": "LayoutView",
            "align_content": null,
            "align_items": null,
            "align_self": null,
            "border": null,
            "bottom": null,
            "display": null,
            "flex": null,
            "flex_flow": null,
            "grid_area": null,
            "grid_auto_columns": null,
            "grid_auto_flow": null,
            "grid_auto_rows": null,
            "grid_column": null,
            "grid_gap": null,
            "grid_row": null,
            "grid_template_areas": null,
            "grid_template_columns": null,
            "grid_template_rows": null,
            "height": null,
            "justify_content": null,
            "justify_items": null,
            "left": null,
            "margin": null,
            "max_height": null,
            "max_width": null,
            "min_height": null,
            "min_width": null,
            "object_fit": null,
            "object_position": null,
            "order": null,
            "overflow": null,
            "overflow_x": null,
            "overflow_y": null,
            "padding": null,
            "right": null,
            "top": null,
            "visibility": null,
            "width": null
          }
        },
        "34879d928f424bc7aadad5ee7af99b0b": {
          "model_module": "@jupyter-widgets/controls",
          "model_name": "ProgressStyleModel",
          "model_module_version": "1.5.0",
          "state": {
            "_model_module": "@jupyter-widgets/controls",
            "_model_module_version": "1.5.0",
            "_model_name": "ProgressStyleModel",
            "_view_count": null,
            "_view_module": "@jupyter-widgets/base",
            "_view_module_version": "1.2.0",
            "_view_name": "StyleView",
            "bar_color": null,
            "description_width": ""
          }
        },
        "37133185bda34bc88d8847ab9eb847b4": {
          "model_module": "@jupyter-widgets/base",
          "model_name": "LayoutModel",
          "model_module_version": "1.2.0",
          "state": {
            "_model_module": "@jupyter-widgets/base",
            "_model_module_version": "1.2.0",
            "_model_name": "LayoutModel",
            "_view_count": null,
            "_view_module": "@jupyter-widgets/base",
            "_view_module_version": "1.2.0",
            "_view_name": "LayoutView",
            "align_content": null,
            "align_items": null,
            "align_self": null,
            "border": null,
            "bottom": null,
            "display": null,
            "flex": null,
            "flex_flow": null,
            "grid_area": null,
            "grid_auto_columns": null,
            "grid_auto_flow": null,
            "grid_auto_rows": null,
            "grid_column": null,
            "grid_gap": null,
            "grid_row": null,
            "grid_template_areas": null,
            "grid_template_columns": null,
            "grid_template_rows": null,
            "height": null,
            "justify_content": null,
            "justify_items": null,
            "left": null,
            "margin": null,
            "max_height": null,
            "max_width": null,
            "min_height": null,
            "min_width": null,
            "object_fit": null,
            "object_position": null,
            "order": null,
            "overflow": null,
            "overflow_x": null,
            "overflow_y": null,
            "padding": null,
            "right": null,
            "top": null,
            "visibility": null,
            "width": null
          }
        },
        "797daa95ebae4fa89001331cd4ef48c5": {
          "model_module": "@jupyter-widgets/controls",
          "model_name": "DescriptionStyleModel",
          "model_module_version": "1.5.0",
          "state": {
            "_model_module": "@jupyter-widgets/controls",
            "_model_module_version": "1.5.0",
            "_model_name": "DescriptionStyleModel",
            "_view_count": null,
            "_view_module": "@jupyter-widgets/base",
            "_view_module_version": "1.2.0",
            "_view_name": "StyleView",
            "description_width": ""
          }
        },
        "57c5efaf65bb49719a4eb8809708c1b6": {
          "model_module": "@jupyter-widgets/controls",
          "model_name": "HBoxModel",
          "model_module_version": "1.5.0",
          "state": {
            "_dom_classes": [],
            "_model_module": "@jupyter-widgets/controls",
            "_model_module_version": "1.5.0",
            "_model_name": "HBoxModel",
            "_view_count": null,
            "_view_module": "@jupyter-widgets/controls",
            "_view_module_version": "1.5.0",
            "_view_name": "HBoxView",
            "box_style": "",
            "children": [
              "IPY_MODEL_0790a1dfdbf6489aa4e572e6b3b5ce4f",
              "IPY_MODEL_4a84e371441b49d1975212247d6d0436",
              "IPY_MODEL_8a63029541a54c3fa916bbbc79318097"
            ],
            "layout": "IPY_MODEL_b9c156bfee874dd6af3a24c41c42d40b"
          }
        },
        "0790a1dfdbf6489aa4e572e6b3b5ce4f": {
          "model_module": "@jupyter-widgets/controls",
          "model_name": "HTMLModel",
          "model_module_version": "1.5.0",
          "state": {
            "_dom_classes": [],
            "_model_module": "@jupyter-widgets/controls",
            "_model_module_version": "1.5.0",
            "_model_name": "HTMLModel",
            "_view_count": null,
            "_view_module": "@jupyter-widgets/controls",
            "_view_module_version": "1.5.0",
            "_view_name": "HTMLView",
            "description": "",
            "description_tooltip": null,
            "layout": "IPY_MODEL_ddc321236c0840208ca7fa3d5c6377b2",
            "placeholder": "​",
            "style": "IPY_MODEL_ccb31e69bf6e43cf9cf50b280e9b68d5",
            "value": "special_tokens_map.json: 100%"
          }
        },
        "4a84e371441b49d1975212247d6d0436": {
          "model_module": "@jupyter-widgets/controls",
          "model_name": "FloatProgressModel",
          "model_module_version": "1.5.0",
          "state": {
            "_dom_classes": [],
            "_model_module": "@jupyter-widgets/controls",
            "_model_module_version": "1.5.0",
            "_model_name": "FloatProgressModel",
            "_view_count": null,
            "_view_module": "@jupyter-widgets/controls",
            "_view_module_version": "1.5.0",
            "_view_name": "ProgressView",
            "bar_style": "success",
            "description": "",
            "description_tooltip": null,
            "layout": "IPY_MODEL_24a3f57c301b42dd90d682ac76baf4dc",
            "max": 279,
            "min": 0,
            "orientation": "horizontal",
            "style": "IPY_MODEL_aec6d97c30df4a44a1292585d77ecb71",
            "value": 279
          }
        },
        "8a63029541a54c3fa916bbbc79318097": {
          "model_module": "@jupyter-widgets/controls",
          "model_name": "HTMLModel",
          "model_module_version": "1.5.0",
          "state": {
            "_dom_classes": [],
            "_model_module": "@jupyter-widgets/controls",
            "_model_module_version": "1.5.0",
            "_model_name": "HTMLModel",
            "_view_count": null,
            "_view_module": "@jupyter-widgets/controls",
            "_view_module_version": "1.5.0",
            "_view_name": "HTMLView",
            "description": "",
            "description_tooltip": null,
            "layout": "IPY_MODEL_423f7321a99344829d7f7ca0816c8f28",
            "placeholder": "​",
            "style": "IPY_MODEL_815993d155754b258d20f9d851c239d6",
            "value": " 279/279 [00:00&lt;00:00, 14.5kB/s]"
          }
        },
        "b9c156bfee874dd6af3a24c41c42d40b": {
          "model_module": "@jupyter-widgets/base",
          "model_name": "LayoutModel",
          "model_module_version": "1.2.0",
          "state": {
            "_model_module": "@jupyter-widgets/base",
            "_model_module_version": "1.2.0",
            "_model_name": "LayoutModel",
            "_view_count": null,
            "_view_module": "@jupyter-widgets/base",
            "_view_module_version": "1.2.0",
            "_view_name": "LayoutView",
            "align_content": null,
            "align_items": null,
            "align_self": null,
            "border": null,
            "bottom": null,
            "display": null,
            "flex": null,
            "flex_flow": null,
            "grid_area": null,
            "grid_auto_columns": null,
            "grid_auto_flow": null,
            "grid_auto_rows": null,
            "grid_column": null,
            "grid_gap": null,
            "grid_row": null,
            "grid_template_areas": null,
            "grid_template_columns": null,
            "grid_template_rows": null,
            "height": null,
            "justify_content": null,
            "justify_items": null,
            "left": null,
            "margin": null,
            "max_height": null,
            "max_width": null,
            "min_height": null,
            "min_width": null,
            "object_fit": null,
            "object_position": null,
            "order": null,
            "overflow": null,
            "overflow_x": null,
            "overflow_y": null,
            "padding": null,
            "right": null,
            "top": null,
            "visibility": null,
            "width": null
          }
        },
        "ddc321236c0840208ca7fa3d5c6377b2": {
          "model_module": "@jupyter-widgets/base",
          "model_name": "LayoutModel",
          "model_module_version": "1.2.0",
          "state": {
            "_model_module": "@jupyter-widgets/base",
            "_model_module_version": "1.2.0",
            "_model_name": "LayoutModel",
            "_view_count": null,
            "_view_module": "@jupyter-widgets/base",
            "_view_module_version": "1.2.0",
            "_view_name": "LayoutView",
            "align_content": null,
            "align_items": null,
            "align_self": null,
            "border": null,
            "bottom": null,
            "display": null,
            "flex": null,
            "flex_flow": null,
            "grid_area": null,
            "grid_auto_columns": null,
            "grid_auto_flow": null,
            "grid_auto_rows": null,
            "grid_column": null,
            "grid_gap": null,
            "grid_row": null,
            "grid_template_areas": null,
            "grid_template_columns": null,
            "grid_template_rows": null,
            "height": null,
            "justify_content": null,
            "justify_items": null,
            "left": null,
            "margin": null,
            "max_height": null,
            "max_width": null,
            "min_height": null,
            "min_width": null,
            "object_fit": null,
            "object_position": null,
            "order": null,
            "overflow": null,
            "overflow_x": null,
            "overflow_y": null,
            "padding": null,
            "right": null,
            "top": null,
            "visibility": null,
            "width": null
          }
        },
        "ccb31e69bf6e43cf9cf50b280e9b68d5": {
          "model_module": "@jupyter-widgets/controls",
          "model_name": "DescriptionStyleModel",
          "model_module_version": "1.5.0",
          "state": {
            "_model_module": "@jupyter-widgets/controls",
            "_model_module_version": "1.5.0",
            "_model_name": "DescriptionStyleModel",
            "_view_count": null,
            "_view_module": "@jupyter-widgets/base",
            "_view_module_version": "1.2.0",
            "_view_name": "StyleView",
            "description_width": ""
          }
        },
        "24a3f57c301b42dd90d682ac76baf4dc": {
          "model_module": "@jupyter-widgets/base",
          "model_name": "LayoutModel",
          "model_module_version": "1.2.0",
          "state": {
            "_model_module": "@jupyter-widgets/base",
            "_model_module_version": "1.2.0",
            "_model_name": "LayoutModel",
            "_view_count": null,
            "_view_module": "@jupyter-widgets/base",
            "_view_module_version": "1.2.0",
            "_view_name": "LayoutView",
            "align_content": null,
            "align_items": null,
            "align_self": null,
            "border": null,
            "bottom": null,
            "display": null,
            "flex": null,
            "flex_flow": null,
            "grid_area": null,
            "grid_auto_columns": null,
            "grid_auto_flow": null,
            "grid_auto_rows": null,
            "grid_column": null,
            "grid_gap": null,
            "grid_row": null,
            "grid_template_areas": null,
            "grid_template_columns": null,
            "grid_template_rows": null,
            "height": null,
            "justify_content": null,
            "justify_items": null,
            "left": null,
            "margin": null,
            "max_height": null,
            "max_width": null,
            "min_height": null,
            "min_width": null,
            "object_fit": null,
            "object_position": null,
            "order": null,
            "overflow": null,
            "overflow_x": null,
            "overflow_y": null,
            "padding": null,
            "right": null,
            "top": null,
            "visibility": null,
            "width": null
          }
        },
        "aec6d97c30df4a44a1292585d77ecb71": {
          "model_module": "@jupyter-widgets/controls",
          "model_name": "ProgressStyleModel",
          "model_module_version": "1.5.0",
          "state": {
            "_model_module": "@jupyter-widgets/controls",
            "_model_module_version": "1.5.0",
            "_model_name": "ProgressStyleModel",
            "_view_count": null,
            "_view_module": "@jupyter-widgets/base",
            "_view_module_version": "1.2.0",
            "_view_name": "StyleView",
            "bar_color": null,
            "description_width": ""
          }
        },
        "423f7321a99344829d7f7ca0816c8f28": {
          "model_module": "@jupyter-widgets/base",
          "model_name": "LayoutModel",
          "model_module_version": "1.2.0",
          "state": {
            "_model_module": "@jupyter-widgets/base",
            "_model_module_version": "1.2.0",
            "_model_name": "LayoutModel",
            "_view_count": null,
            "_view_module": "@jupyter-widgets/base",
            "_view_module_version": "1.2.0",
            "_view_name": "LayoutView",
            "align_content": null,
            "align_items": null,
            "align_self": null,
            "border": null,
            "bottom": null,
            "display": null,
            "flex": null,
            "flex_flow": null,
            "grid_area": null,
            "grid_auto_columns": null,
            "grid_auto_flow": null,
            "grid_auto_rows": null,
            "grid_column": null,
            "grid_gap": null,
            "grid_row": null,
            "grid_template_areas": null,
            "grid_template_columns": null,
            "grid_template_rows": null,
            "height": null,
            "justify_content": null,
            "justify_items": null,
            "left": null,
            "margin": null,
            "max_height": null,
            "max_width": null,
            "min_height": null,
            "min_width": null,
            "object_fit": null,
            "object_position": null,
            "order": null,
            "overflow": null,
            "overflow_x": null,
            "overflow_y": null,
            "padding": null,
            "right": null,
            "top": null,
            "visibility": null,
            "width": null
          }
        },
        "815993d155754b258d20f9d851c239d6": {
          "model_module": "@jupyter-widgets/controls",
          "model_name": "DescriptionStyleModel",
          "model_module_version": "1.5.0",
          "state": {
            "_model_module": "@jupyter-widgets/controls",
            "_model_module_version": "1.5.0",
            "_model_name": "DescriptionStyleModel",
            "_view_count": null,
            "_view_module": "@jupyter-widgets/base",
            "_view_module_version": "1.2.0",
            "_view_name": "StyleView",
            "description_width": ""
          }
        }
      }
    }
  },
  "nbformat": 4,
  "nbformat_minor": 0
}